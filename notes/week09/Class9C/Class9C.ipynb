{
 "cells": [
  {
   "cell_type": "markdown",
   "metadata": {
    "slideshow": {
     "slide_type": "slide"
    },
    "tags": []
   },
   "source": [
    "# Class 9C: Programming in Python II\n",
    "\n",
    "We will begin soon!\n",
    "\n",
    "\n",
    "<div align = \"right\"> \n",
    "    Firas Moosvi\n",
    "</div>"
   ]
  },
  {
   "cell_type": "code",
   "execution_count": 3,
   "metadata": {
    "slideshow": {
     "slide_type": "skip"
    }
   },
   "outputs": [
    {
     "data": {
      "text/html": [
       "<style>/*.container { width:100% !important; }*/\n",
       "\n",
       "div.prompt {display:none}\n",
       "\n",
       "div.output_subarea {max-width:100%}\n",
       "\n",
       "/* These below are from the altair_talk css */\n",
       "\n",
       "/* ---------- markdown cells\n",
       " */\n",
       "body.rise-enabled div.inner_cell>div.text_cell_render.rendered_html {\n",
       "    font-size: 100%;\n",
       "}\n",
       "\n",
       "\n",
       "/* ---------- code blocks inside markdown\n",
       "   i.e. within ``` lines, or 4-space indented\n",
       " */\n",
       "div.inner_cell>div.text_cell_render.rendered_html>pre {\n",
       "    margin: 0px;\n",
       "}\n",
       "\n",
       "/* ----------- code to remove space above markdown headers\n",
       " */\n",
       "div.inner_cell>div.text_cell_render.rendered_html h1 {\n",
       "    margin-top: 0px;\n",
       "}\n",
       "div.inner_cell>div.text_cell_render.rendered_html h2 {\n",
       "    margin-top: 0px;\n",
       "}\n",
       "div.inner_cell>div.text_cell_render.rendered_html h3 {\n",
       "    margin-top: 0px;\n",
       "}\n",
       "div.inner_cell>div.text_cell_render.rendered_html h4 {\n",
       "    margin-top: 0px;\n",
       "}\n",
       "\n",
       "div.inner_cell>div.text_cell_render.rendered_html>pre>code {\n",
       "    font-size: 70%;\n",
       "}\n",
       "\n",
       "/* ---------- tables (from SO)\n",
       " */\n",
       ".rendered_html table, .rendered_html th, .rendered_html tr, .rendered_html td {\n",
       "     font-size: 120%;\n",
       "}\n",
       "\n",
       "/* ---------- Left part of code cells\n",
       "    from this SO answer: https://stackoverflow.com/a/47263575;\n",
       " /* Narrow the prompts */\n",
       "div.prompt_container {\n",
       "    min-width: 5ex;\n",
       "}\n",
       "/* Hide prompts altogether for non-conda cells */\n",
       ".cell:not(.code_cell) .prompt {\n",
       "    display: none;\n",
       "}\n",
       "/* ---------- Width of cells\n",
       " */\n",
       ".container {\n",
       "    width:95% !important;\n",
       "}\n",
       "\n",
       "</style>"
      ],
      "text/plain": [
       "<IPython.core.display.HTML object>"
      ]
     },
     "execution_count": 3,
     "metadata": {},
     "output_type": "execute_result"
    }
   ],
   "source": [
    "from IPython.display import IFrame\n",
    "from IPython.display import Markdown\n",
    "\n",
    "# Additional styling ; should be moved into helpers\n",
    "from IPython.display import display, HTML\n",
    "\n",
    "HTML(\"<style>{}</style>\".format(open(\"rise.css\").read()))"
   ]
  },
  {
   "cell_type": "markdown",
   "metadata": {
    "slideshow": {
     "slide_type": "slide"
    }
   },
   "source": [
    "## Programming in Python I"
   ]
  },
  {
   "cell_type": "markdown",
   "metadata": {
    "slideshow": {
     "slide_type": "fragment"
    }
   },
   "source": [
    "In this class, we go through a notebook by a former colleague, Dr. Mike Gelbart, option co-director of the UBC-Vancouver MDS program.\n",
    "\n",
    "If you prefer, you can also watch his recording of the same material."
   ]
  },
  {
   "cell_type": "markdown",
   "metadata": {
    "slideshow": {
     "slide_type": "skip"
    }
   },
   "source": [
    "<div class=\"youtube\">\n",
    "<iframe class=\"responsive-iframe\" height=\"350px\" width=\"622px\" src=\"https://www.youtube-nocookie.com/embed/7FLv1ACEl-E\" frameborder=\"0\" allow=\"accelerometer; autoplay=\"0\"; encrypted-media; gyroscope; picture-in-picture\" allowfullscreen></iframe>\n",
    "</div>"
   ]
  },
  {
   "cell_type": "markdown",
   "metadata": {},
   "source": [
    "## Announcements"
   ]
  },
  {
   "cell_type": "markdown",
   "metadata": {},
   "source": [
    "- Here is the plan for the next couple of weeks:\n",
    "\n",
    "- Week 10 (next week):\n",
    "    - Monday March 13th 10:00 AM - 10:40 AM **Review Class**\n",
    "    - Monday March 13th 10:40 AM - 12:00 PM **Project Feedback**\n",
    "\n",
    "    - Wednesday March 15th 10:00 AM - 11:00 AM **Project Feedback**\n",
    "    - Friday March 15th 10:00 AM - 11:00 AM **Project Feedback**\n",
    "\n",
    "- Week 11 (two weeks from now):\n",
    "    - Monday March 20th 10:00 AM - 11:00 AM **Class on Zoom (I'm away)**\n",
    "    - Monday March 20th 11:00 AM - 12:00 PM **Student hours on Zoom (I'm away)**\n",
    "        \n",
    "    - Wednesday March 22nd 10:00 AM - 11:00 AM **Class on Zoom (I'm away)**\n",
    "    \n",
    "    - Friday March 24th 10:00 AM - 11:00 AM **Class is Cancelled**\n",
    "\n",
    "- Week 12 (three weeks from now):\n",
    "\n",
    "    - Return to regularly scheduled programming"
   ]
  },
  {
   "cell_type": "markdown",
   "metadata": {},
   "source": [
    "## Short demo on GitHub Issues and Project Feedback (5 mins)"
   ]
  },
  {
   "cell_type": "markdown",
   "metadata": {
    "slideshow": {
     "slide_type": "subslide"
    },
    "tags": []
   },
   "source": [
    "## Class Outline\n",
    "\n",
    "- Short demo on GitHub Issues and Project Feedback (5 mins)\n",
    "- Assert Statements (10 mins)\n",
    "- Try/Except clauses (10 mins)\n",
    "- Unit tests, corner cases (15 mins)\n",
    "- Multiple return values (15 mins)\n"
   ]
  },
  {
   "cell_type": "markdown",
   "metadata": {
    "slideshow": {
     "slide_type": "subslide"
    }
   },
   "source": [
    "### Attribution\n",
    "\n",
    "- The original version of these Python lectures were by [Patrick Walls](https://www.math.ubc.ca/~pwalls/).\n",
    "- These lectures were delivered by [Mike Gelbart](https://mikegelbart.com) and are [available publicly here](https://www.youtube.com/watch?v=7FLv1ACEl-E&list=PLWmXHcz_53Q26aQzhknaT3zwWvl7w8wQE&index=2)."
   ]
  },
  {
   "cell_type": "markdown",
   "metadata": {},
   "source": [
    "## Assert statements"
   ]
  },
  {
   "cell_type": "code",
   "execution_count": 16,
   "metadata": {},
   "outputs": [
    {
     "ename": "AssertionError",
     "evalue": "Helium baloons fly",
     "output_type": "error",
     "traceback": [
      "\u001b[0;31m---------------------------------------------------------------------------\u001b[0m",
      "\u001b[0;31mAssertionError\u001b[0m                            Traceback (most recent call last)",
      "Input \u001b[0;32mIn [16]\u001b[0m, in \u001b[0;36m<cell line: 4>\u001b[0;34m()\u001b[0m\n\u001b[1;32m      1\u001b[0m test \u001b[38;5;241m=\u001b[39m [\u001b[38;5;124m\"\u001b[39m\u001b[38;5;124m1\u001b[39m\u001b[38;5;124m\"\u001b[39m, \u001b[38;5;124m\"\u001b[39m\u001b[38;5;124m2\u001b[39m\u001b[38;5;124m\"\u001b[39m, \u001b[38;5;241m3\u001b[39m, \u001b[38;5;241m4\u001b[39m, \u001b[38;5;241m5\u001b[39m]\n\u001b[1;32m      2\u001b[0m ans \u001b[38;5;241m=\u001b[39m [\u001b[38;5;241m1\u001b[39m, \u001b[38;5;241m2\u001b[39m, \u001b[38;5;241m3\u001b[39m, \u001b[38;5;241m4\u001b[39m, \u001b[38;5;241m5\u001b[39m]\n\u001b[0;32m----> 4\u001b[0m \u001b[38;5;28;01massert\u001b[39;00m (test \u001b[38;5;241m==\u001b[39m ans), \u001b[38;5;124m\"\u001b[39m\u001b[38;5;124mHelium baloons fly\u001b[39m\u001b[38;5;124m\"\u001b[39m\n",
      "\u001b[0;31mAssertionError\u001b[0m: Helium baloons fly"
     ]
    }
   ],
   "source": [
    "test = [\"1\", \"2\", 3, 4, 5]\n",
    "ans = [1, 2, 3, 4, 5]\n",
    "\n",
    "assert (test == ans), \"Helium baloons fly\"  # Left side isn't the same as the right side"
   ]
  },
  {
   "cell_type": "code",
   "execution_count": 17,
   "metadata": {},
   "outputs": [],
   "source": [
    "# method 1\n",
    "for i, t in enumerate(test):\n",
    "    #print(i)\n",
    "    #print(t)\n",
    "    test[i] = int(t)\n",
    "\n",
    "test\n",
    "\n",
    "assert test == ans, \"Failure! Left != Right\""
   ]
  },
  {
   "cell_type": "code",
   "execution_count": 19,
   "metadata": {},
   "outputs": [],
   "source": [
    "# method 2\n",
    "\n",
    "assert [int(t) for t in test] == ans, \"Failure! Left != Right\""
   ]
  },
  {
   "cell_type": "markdown",
   "metadata": {},
   "source": [
    "## Difference between `try/except` and `assert`"
   ]
  },
  {
   "cell_type": "code",
   "execution_count": 50,
   "metadata": {},
   "outputs": [],
   "source": [
    "import numpy as np\n",
    "\n",
    "def make_larger(n, denominator):\n",
    "    \"\"\"Makes the number larger\"\"\"\n",
    "\n",
    "    assert denominator != 0, \"You provided 0 as the denominator - you are a terrible person\"\n",
    "    assert (type(n) == int), \"You did not provide an integer as an input\"\n",
    "    \n",
    "    ret = np.nan\n",
    "#     ret = n**2 / denominator\n",
    "    try:\n",
    "        ret = n**2 / denominator\n",
    "    except ZeroDivisionError as e:\n",
    "        print(\"You provided 0 as the denominator - you are a terrible person\")\n",
    "        raise e\n",
    "    except TypeError as e:\n",
    "        print(\"You should make sure your inputs are actually numbers, I'll try to fix this\")\n",
    "        ret = int(n)**2 / denominator\n",
    "#     except:\n",
    "#         print(\"there was an error in your code\")\n",
    "    finally:\n",
    "        print(\"Don't worry, you are the best coder in the history of the coders\")\n",
    "        return ret"
   ]
  },
  {
   "cell_type": "code",
   "execution_count": 51,
   "metadata": {},
   "outputs": [
    {
     "ename": "AssertionError",
     "evalue": "You did not provide an integer as an input",
     "output_type": "error",
     "traceback": [
      "\u001b[0;31m---------------------------------------------------------------------------\u001b[0m",
      "\u001b[0;31mAssertionError\u001b[0m                            Traceback (most recent call last)",
      "Input \u001b[0;32mIn [51]\u001b[0m, in \u001b[0;36m<cell line: 4>\u001b[0;34m()\u001b[0m\n\u001b[1;32m      1\u001b[0m num1 \u001b[38;5;241m=\u001b[39m \u001b[38;5;124m\"\u001b[39m\u001b[38;5;124m5\u001b[39m\u001b[38;5;124m\"\u001b[39m\n\u001b[1;32m      2\u001b[0m num2 \u001b[38;5;241m=\u001b[39m \u001b[38;5;241m2\u001b[39m\n\u001b[0;32m----> 4\u001b[0m \u001b[43mmake_larger\u001b[49m\u001b[43m(\u001b[49m\u001b[43mnum1\u001b[49m\u001b[43m,\u001b[49m\u001b[43m \u001b[49m\u001b[43mnum2\u001b[49m\u001b[43m)\u001b[49m\n",
      "Input \u001b[0;32mIn [50]\u001b[0m, in \u001b[0;36mmake_larger\u001b[0;34m(n, denominator)\u001b[0m\n\u001b[1;32m      4\u001b[0m \u001b[38;5;250m    \u001b[39m\u001b[38;5;124;03m\"\"\"Makes the number larger\"\"\"\u001b[39;00m\n\u001b[1;32m      6\u001b[0m     \u001b[38;5;28;01massert\u001b[39;00m denominator \u001b[38;5;241m!=\u001b[39m \u001b[38;5;241m0\u001b[39m, \u001b[38;5;124m\"\u001b[39m\u001b[38;5;124mYou provided 0 as the denominator - you are a terrible person\u001b[39m\u001b[38;5;124m\"\u001b[39m\n\u001b[0;32m----> 7\u001b[0m     \u001b[38;5;28;01massert\u001b[39;00m (\u001b[38;5;28mtype\u001b[39m(n) \u001b[38;5;241m==\u001b[39m \u001b[38;5;28mint\u001b[39m), \u001b[38;5;124m\"\u001b[39m\u001b[38;5;124mYou did not provide an integer as an input\u001b[39m\u001b[38;5;124m\"\u001b[39m\n\u001b[1;32m      9\u001b[0m     ret \u001b[38;5;241m=\u001b[39m np\u001b[38;5;241m.\u001b[39mnan\n\u001b[1;32m     10\u001b[0m \u001b[38;5;66;03m#     ret = n**2 / denominator\u001b[39;00m\n",
      "\u001b[0;31mAssertionError\u001b[0m: You did not provide an integer as an input"
     ]
    }
   ],
   "source": [
    "num1 = \"5\"\n",
    "num2 = 2\n",
    "\n",
    "make_larger(num1, num2)"
   ]
  },
  {
   "cell_type": "markdown",
   "metadata": {},
   "source": [
    "## Try and except blocks (10 minutes)"
   ]
  },
  {
   "cell_type": "code",
   "execution_count": 54,
   "metadata": {},
   "outputs": [],
   "source": [
    "g = [1, 2, 3, 4, 5, 6, 7]\n",
    "\n",
    "# g[8] = 'Hello' # This way will cause an error\n",
    "\n",
    "# this is a more graceful way of dealing with errors"
   ]
  },
  {
   "cell_type": "code",
   "execution_count": 56,
   "metadata": {},
   "outputs": [],
   "source": [
    "try:\n",
    "    g[4] = \"Hello\"\n",
    "    #h = 7 / 0\n",
    "except IndexError:\n",
    "    print(\n",
    "        f\"your list is less than 8 elements long, your list is actually {len(g)} elements\"\n",
    "    )\n",
    "# except ZeroDivisionError:\n",
    "#     print(\"stop doing stupid things\")\n",
    "# except:\n",
    "#     print('there is some sort of error in your code')"
   ]
  },
  {
   "cell_type": "code",
   "execution_count": 57,
   "metadata": {},
   "outputs": [
    {
     "data": {
      "text/plain": [
       "7"
      ]
     },
     "execution_count": 57,
     "metadata": {},
     "output_type": "execute_result"
    }
   ],
   "source": [
    "len(g)"
   ]
  },
  {
   "cell_type": "markdown",
   "metadata": {
    "slideshow": {
     "slide_type": "subslide"
    }
   },
   "source": [
    "## Systematic Program Design"
   ]
  },
  {
   "cell_type": "markdown",
   "metadata": {
    "slideshow": {
     "slide_type": "fragment"
    }
   },
   "source": [
    "A systematic approach to program design is a general set of steps to follow when writing programs. Our approach includes:\n",
    "\n",
    "1. Write a stub: a function that does nothing but accept all input parameters and return the correct datatype.\n",
    "2. Write tests to satisfy the design specifications.\n",
    "3. Outline the program with pseudo-code.\n",
    "4. Write code and test frequently.\n",
    "5. Write documentation.\n",
    "\n",
    "The key point: write tests BEFORE you write code.\n",
    "\n",
    "- You do not have to do this in MDS, but you may find it surprisingly helpful.\n",
    "- Often writing tests helps you think through what you are trying to accomplish.\n",
    "- It's best to have that clear before you write the actual code."
   ]
  },
  {
   "cell_type": "markdown",
   "metadata": {
    "slideshow": {
     "slide_type": "subslide"
    }
   },
   "source": [
    "### Testing woes - false positives\n",
    "\n",
    "- **Just because all your tests pass, this does not mean your program is correct!!**\n",
    "- This happens all the time. How to deal with it?\n",
    "  - Write a lot of tests!\n",
    "  - Don't be overconfident, even after writing a lot of tests!"
   ]
  },
  {
   "cell_type": "code",
   "execution_count": 67,
   "metadata": {},
   "outputs": [],
   "source": [
    "# Write a function to take in a list and return the median value\n",
    "\n",
    "# Step 1\n",
    "def sample_median2(x):\n",
    "    \n",
    "    # Add code here\n",
    "    \n",
    "    return median_value\n",
    "\n",
    "# Step 2\n",
    "def sample_median2(x):\n",
    "    \n",
    "    # I'm going to sort the list\n",
    "    \n",
    "    # I'm going to get the length of the list \n",
    "    \n",
    "    # I'm going get the middle number of the length of the list (//)\n",
    "    \n",
    "    # I'm going to access the median value \n",
    "    \n",
    "    return median_value\n",
    "\n",
    "# Step 3\n",
    "def sample_median2(x):\n",
    "    \n",
    "    # I'm going to sort the list\n",
    "    x_sorted = sorted(x)\n",
    "    \n",
    "    # I'm going to get the length of the list\n",
    "    length = len(x)\n",
    "    \n",
    "    # I'm going get the middle number of the length of the list (//)\n",
    "    middle = length // 2\n",
    "    \n",
    "    # I'm going to access the median value \n",
    "    median_value = x_sorted[middle]\n",
    "    \n",
    "    return median_value\n",
    "\n",
    "# Step 4\n",
    "def sample_median2(x):\n",
    "    \n",
    "    assert type(x) == list, \"You didn't pass me a list!\"\n",
    "    \n",
    "    # I'm going to sort the list\n",
    "    x_sorted = sorted(x)\n",
    "    \n",
    "    # I'm going to get the length of the list\n",
    "    length = len(x)\n",
    "    \n",
    "    # I'm going get the middle number of the length of the list (//)\n",
    "    middle = length // 2\n",
    "    \n",
    "    # I'm going to access the median value \n",
    "    median_value = x_sorted[middle]\n",
    "    \n",
    "    return median_value\n",
    "\n",
    "# Step 5\n",
    "def sample_median2(x):\n",
    "    \n",
    "    assert type(x) == list, \"You didn't pass me a list!\"\n",
    "    \n",
    "    # I'm going to sort the list\n",
    "    x_sorted = sorted(x)\n",
    "    \n",
    "    # I'm going to get the length of the list\n",
    "    length = len(x)\n",
    "    \n",
    "    # I'm going get the middle number of the length of the list (//)\n",
    "    middle = length // 2\n",
    "    \n",
    "    # I'm going to access the median value \n",
    "    median_value = x_sorted[middle]\n",
    "    \n",
    "    return median_value\n",
    "\n",
    "assert sample_median2([1, 2, 3, 4, 5]) == 3\n",
    "assert sample_median2([0, 0, 0, 0]) == 0"
   ]
  },
  {
   "cell_type": "code",
   "execution_count": 68,
   "metadata": {},
   "outputs": [
    {
     "data": {
      "text/plain": [
       "3"
      ]
     },
     "execution_count": 68,
     "metadata": {},
     "output_type": "execute_result"
    }
   ],
   "source": [
    "sample_median([5,4,2,1,3])"
   ]
  },
  {
   "cell_type": "code",
   "execution_count": 65,
   "metadata": {},
   "outputs": [
    {
     "ename": "AssertionError",
     "evalue": "You didn't pass me a list!",
     "output_type": "error",
     "traceback": [
      "\u001b[0;31m---------------------------------------------------------------------------\u001b[0m",
      "\u001b[0;31mAssertionError\u001b[0m                            Traceback (most recent call last)",
      "Input \u001b[0;32mIn [65]\u001b[0m, in \u001b[0;36m<cell line: 1>\u001b[0;34m()\u001b[0m\n\u001b[0;32m----> 1\u001b[0m \u001b[43msample_median2\u001b[49m\u001b[43m(\u001b[49m\u001b[38;5;241;43m5\u001b[39;49m\u001b[43m)\u001b[49m\n",
      "Input \u001b[0;32mIn [62]\u001b[0m, in \u001b[0;36msample_median2\u001b[0;34m(x)\u001b[0m\n\u001b[1;32m     41\u001b[0m \u001b[38;5;28;01mdef\u001b[39;00m \u001b[38;5;21msample_median2\u001b[39m(x):\n\u001b[0;32m---> 43\u001b[0m     \u001b[38;5;28;01massert\u001b[39;00m \u001b[38;5;28mtype\u001b[39m(x) \u001b[38;5;241m==\u001b[39m \u001b[38;5;28mlist\u001b[39m, \u001b[38;5;124m\"\u001b[39m\u001b[38;5;124mYou didn\u001b[39m\u001b[38;5;124m'\u001b[39m\u001b[38;5;124mt pass me a list!\u001b[39m\u001b[38;5;124m\"\u001b[39m\n\u001b[1;32m     45\u001b[0m     \u001b[38;5;66;03m# I'm going to sort the list\u001b[39;00m\n\u001b[1;32m     46\u001b[0m     x_sorted \u001b[38;5;241m=\u001b[39m \u001b[38;5;28msorted\u001b[39m(x)\n",
      "\u001b[0;31mAssertionError\u001b[0m: You didn't pass me a list!"
     ]
    }
   ],
   "source": [
    "sample_median2(5)"
   ]
  },
  {
   "cell_type": "code",
   "execution_count": 59,
   "metadata": {
    "slideshow": {
     "slide_type": "fragment"
    }
   },
   "outputs": [],
   "source": [
    "def sample_median(x):\n",
    "    \"\"\"Finds the median of a list of numbers.\"\"\"\n",
    "    x_sorted = sorted(x)\n",
    "    return x_sorted[len(x_sorted) // 2]\n",
    "\n",
    "\n",
    "assert sample_median([1, 2, 3, 4, 5]) == 3\n",
    "assert sample_median([0, 0, 0, 0]) == 0"
   ]
  },
  {
   "cell_type": "markdown",
   "metadata": {
    "slideshow": {
     "slide_type": "fragment"
    }
   },
   "source": [
    "Looks good? ... ?\n",
    "\n",
    "<br><br><br><br><br>"
   ]
  },
  {
   "cell_type": "code",
   "execution_count": null,
   "metadata": {
    "slideshow": {
     "slide_type": "fragment"
    }
   },
   "outputs": [],
   "source": [
    "assert sample_median([1, 2, 3, 4]) == 2.5"
   ]
  },
  {
   "cell_type": "markdown",
   "metadata": {
    "slideshow": {
     "slide_type": "fragment"
    }
   },
   "source": [
    "<br><br><br><br><br>"
   ]
  },
  {
   "cell_type": "code",
   "execution_count": null,
   "metadata": {
    "slideshow": {
     "slide_type": "fragment"
    }
   },
   "outputs": [],
   "source": [
    "assert sample_median([1, 3, 2]) == 2"
   ]
  },
  {
   "cell_type": "markdown",
   "metadata": {
    "slideshow": {
     "slide_type": "subslide"
    }
   },
   "source": [
    "### Testing woes - false negatives\n",
    "\n",
    "- It can also happen, though more rarely, that your tests fail but your program is correct.\n",
    "- This means there is something wrong with your test.\n",
    "- For example, in the autograding for lab1 this happened to some people, because of tiny roundoff errors."
   ]
  },
  {
   "cell_type": "markdown",
   "metadata": {
    "slideshow": {
     "slide_type": "fragment"
    }
   },
   "source": [
    "### Corner cases\n",
    "\n",
    "- A **corner case** is an input that is reasonable but a bit unusual, and may trip up your code.\n",
    "- For example, taking the median of an empty list, or a list with only one element. \n",
    "- Often it is desirable to add test cases to address corner cases."
   ]
  },
  {
   "cell_type": "code",
   "execution_count": null,
   "metadata": {
    "slideshow": {
     "slide_type": "fragment"
    }
   },
   "outputs": [],
   "source": [
    "assert sample_median([1]) == 1"
   ]
  },
  {
   "cell_type": "markdown",
   "metadata": {
    "slideshow": {
     "slide_type": "fragment"
    }
   },
   "source": [
    "- In this case the code worked with no extra effort, but sometimes we need `if` statements to handle the weird cases.\n",
    "- Sometimes we want the code to throw an error (e.g. median of an empty list); more on this later."
   ]
  },
  {
   "cell_type": "markdown",
   "metadata": {
    "slideshow": {
     "slide_type": "subslide"
    }
   },
   "source": [
    "## Multiple return values (5 mins)\n",
    "\n",
    "- In most (all?) programming languages I've seen, functions can only return one thing.\n",
    "- That is technically true in Python, but there is a \"workaround\", which is to return a tuple (or similarly, a dictionary)."
   ]
  },
  {
   "cell_type": "code",
   "execution_count": null,
   "metadata": {
    "slideshow": {
     "slide_type": "fragment"
    }
   },
   "outputs": [],
   "source": [
    "# not good from a design perspective!\n",
    "def sum_and_product(x, y):\n",
    "    return (x + y, x * y)"
   ]
  },
  {
   "cell_type": "code",
   "execution_count": null,
   "metadata": {
    "slideshow": {
     "slide_type": "fragment"
    }
   },
   "outputs": [],
   "source": [
    "sum_and_product(5, 6)"
   ]
  },
  {
   "cell_type": "markdown",
   "metadata": {
    "slideshow": {
     "slide_type": "fragment"
    }
   },
   "source": [
    "In some cases in Python, the parentheses can be omitted: "
   ]
  },
  {
   "cell_type": "code",
   "execution_count": null,
   "metadata": {
    "slideshow": {
     "slide_type": "fragment"
    }
   },
   "outputs": [],
   "source": [
    "def sum_and_product(x, y):\n",
    "    return x + y, x * y"
   ]
  },
  {
   "cell_type": "code",
   "execution_count": null,
   "metadata": {
    "slideshow": {
     "slide_type": "fragment"
    }
   },
   "outputs": [],
   "source": [
    "sum_and_product(5, 6)"
   ]
  },
  {
   "cell_type": "markdown",
   "metadata": {
    "slideshow": {
     "slide_type": "fragment"
    }
   },
   "source": [
    "It is common to store these in separate variables, so it really feels like the function is returning multiple values:"
   ]
  },
  {
   "cell_type": "code",
   "execution_count": null,
   "metadata": {
    "slideshow": {
     "slide_type": "fragment"
    }
   },
   "outputs": [],
   "source": [
    "s, p = sum_and_product(5, 6)"
   ]
  },
  {
   "cell_type": "code",
   "execution_count": null,
   "metadata": {
    "slideshow": {
     "slide_type": "fragment"
    }
   },
   "outputs": [],
   "source": [
    "s"
   ]
  },
  {
   "cell_type": "code",
   "execution_count": null,
   "metadata": {
    "slideshow": {
     "slide_type": "fragment"
    }
   },
   "outputs": [],
   "source": [
    "p"
   ]
  },
  {
   "cell_type": "markdown",
   "metadata": {
    "slideshow": {
     "slide_type": "fragment"
    }
   },
   "source": [
    "- Question: is this good function design.\n",
    "- Answer: usually not, but sometimes. \n",
    "- You will encounter this in some Python packages."
   ]
  },
  {
   "cell_type": "markdown",
   "metadata": {
    "slideshow": {
     "slide_type": "subslide"
    }
   },
   "source": [
    "That's it for today!\n",
    "\n",
    "See you on Thursday"
   ]
  },
  {
   "cell_type": "markdown",
   "metadata": {},
   "source": [
    "## Demo of writing code"
   ]
  },
  {
   "cell_type": "markdown",
   "metadata": {},
   "source": [
    "Task: GIve me a string, find the longest palindrome in the strong\n",
    "\n",
    "- Reverse a string\n",
    "\n",
    "- Find the largest number in a given list, if it's even multiply it by 10, if it's odd, multiply it by a 1000"
   ]
  },
  {
   "cell_type": "code",
   "execution_count": null,
   "metadata": {},
   "outputs": [],
   "source": [
    "def largest_num_operation(provided_list):\n",
    "\n",
    "    result = provided_list\n",
    "\n",
    "    return result"
   ]
  },
  {
   "cell_type": "code",
   "execution_count": null,
   "metadata": {},
   "outputs": [],
   "source": [
    "def largest_num_operation(provided_list):\n",
    "\n",
    "    result = provided_list\n",
    "\n",
    "    return result\n",
    "\n",
    "\n",
    "assert (\n",
    "    largest_num_operation([1, 2, 3, 4, 5, 6]) == 60\n",
    "), \"Your function does not work for even numbers!\"\n",
    "assert (\n",
    "    largest_num_operation([1, 2, 3, 4, 5]) == 5000\n",
    "), \"Your function does not work for odd numbers!\""
   ]
  },
  {
   "cell_type": "code",
   "execution_count": null,
   "metadata": {},
   "outputs": [],
   "source": [
    "def largest_num_operation(provided_list):\n",
    "\n",
    "    result = provided_list\n",
    "\n",
    "    # 1. Find the largest number in the list and store it\n",
    "    # largest_val = max(provided_list)\n",
    "    # 2. I check to see if the number is odd or even\n",
    "    # %2 ==0 (even)\n",
    "    # %2 !=0 (odd)\n",
    "    # 3. If it's odd I multiply by 1000\n",
    "    # x 1000\n",
    "    # 4. If it's even, I multiply by 10\n",
    "    # x 10\n",
    "\n",
    "    return result\n",
    "\n",
    "\n",
    "assert (\n",
    "    largest_num_operation([1, 2, 3, 4, 5, 6]) == 60\n",
    "), \"Your function does not work for even numbers!\"\n",
    "assert (\n",
    "    largest_num_operation([1, 2, 3, 4, 5]) == 5000\n",
    "), \"Your function does not work for odd numbers!\""
   ]
  },
  {
   "cell_type": "code",
   "execution_count": null,
   "metadata": {},
   "outputs": [],
   "source": [
    "def largest_num_operation(provided_list):\n",
    "    \n",
    "    result = provided_list\n",
    "    \n",
    "    # 1. Find the largest number in the list and store it\n",
    "        # largest_val = max(provided_list)\n",
    "        \n",
    "    largest_val = max(provided_list)\n",
    "        \n",
    "    # 2. I check to see if the number is odd or even\n",
    "        # %2 ==0 (even)\n",
    "        # %2 !=0 (odd)\n",
    "        \n",
    "    if largest_val % 2 == 0:\n",
    "        # x 1000\n",
    "    elif largest_val:\n",
    "        # x 10\n",
    "        \n",
    "    return result\n",
    "    # 3. If it's odd I multiply by 1000\n",
    "        # x 1000\n",
    "    # 4. If it's even, I multiply by 10\n",
    "        # x 10\n",
    "    \n",
    "    return result\n",
    "\n",
    "assert largest_num_operation([1,2,3,4,5,6]) == 60, \"Your function does not work for even numbers!\"\n",
    "assert largest_num_operation([1,2,3,4,5]) == 5000, \"Your function does not work for odd numbers!\""
   ]
  },
  {
   "cell_type": "code",
   "execution_count": null,
   "metadata": {},
   "outputs": [],
   "source": [
    "def largest_num_operation(provided_list):\n",
    "\n",
    "    largest_val = max(provided_list)\n",
    "\n",
    "    if largest_val == 0:\n",
    "        print(\"please put in a more useful number, instead of 0\")\n",
    "        return\n",
    "\n",
    "    if largest_val % 2 == 0:\n",
    "        result = largest_val * 10\n",
    "    elif largest_val:\n",
    "        result = largest_val * 1000\n",
    "    return result\n",
    "\n",
    "\n",
    "assert (\n",
    "    largest_num_operation([1, 2, 3, 4, 5, 6]) == 60\n",
    "), \"Your function does not work for even numbers!\"\n",
    "assert (\n",
    "    largest_num_operation([1, 2, 3, 4, 5]) == 5000\n",
    "), \"Your function does not work for odd numbers!\""
   ]
  },
  {
   "cell_type": "code",
   "execution_count": null,
   "metadata": {},
   "outputs": [],
   "source": [
    "largest_num_operation([-1, -2, -3, -4, -5, 0])"
   ]
  },
  {
   "cell_type": "code",
   "execution_count": null,
   "metadata": {},
   "outputs": [],
   "source": [
    "test_list = [1, 2, 3, 4, 5, 6]\n",
    "\n",
    "max(test_list)"
   ]
  },
  {
   "cell_type": "markdown",
   "metadata": {},
   "source": [
    "- Write a stub: a function that does nothing but accept all input parameters and return the correct datatype.\n",
    "\n",
    "- Write tests to satisfy the design specifications.\n",
    "- Outline the program with pseudo-code.\n",
    "- Write code and test frequently.\n",
    "- Write documentation."
   ]
  }
 ],
 "metadata": {
  "celltoolbar": "Slideshow",
  "kernelspec": {
   "display_name": "Python 3 (ipykernel)",
   "language": "python",
   "name": "python3"
  },
  "language_info": {
   "codemirror_mode": {
    "name": "ipython",
    "version": 3
   },
   "file_extension": ".py",
   "mimetype": "text/x-python",
   "name": "python",
   "nbconvert_exporter": "python",
   "pygments_lexer": "ipython3",
   "version": "3.10.2"
  },
  "vscode": {
   "interpreter": {
    "hash": "4a3006030bc8f073e17f416a7c98291111bc2dc23e3286a5e86c679c75d3e5ba"
   }
  }
 },
 "nbformat": 4,
 "nbformat_minor": 4
}
