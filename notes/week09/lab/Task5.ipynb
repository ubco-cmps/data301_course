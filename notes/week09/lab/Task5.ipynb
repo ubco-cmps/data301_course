{
 "cells": [
  {
   "cell_type": "markdown",
   "id": "059594c9-2470-4c5c-afc8-550bc2e23f83",
   "metadata": {},
   "source": [
    "# Task 5: Functions III\n",
    "\n",
    "Remember in a previous lab, you used the *tree* command to show a map of all directories and files within a directory. \n",
    "In this section, we want to make a similar program, but using python instead. \n",
    "\n",
    "## 5.1: `ListFiles()`: \n",
    "\n",
    "**Task: Your task is to create a python function called `ListFiles()` that takes in a directory path and then finds and print all the files (not directories) in a given directory (relative to `./`).**\n",
    "\n",
    "We suggest you use the [`listdir()` function](https://docs.python.org/3/library/os.html#os.listdir) and `isfile()` functions from the `os` module.\n",
    "\n",
    "In your GitHub repository, there is a folder called `directory_list` which contains some sample files. \n",
    "\n",
    "*Hint 1: don't forget to first `import os` to use `os.listdir()` and `os.path.isfile()`.*\n",
    "\n",
    "*Hint 2: You can see the following tutorials if you need some extra help or some worked examples: [link1](https://www.tutorialspoint.com/python/os_listdir.htm) and [link2](https://www.geeksforgeeks.org/python-os-path-isfile-method/)*.\n",
    "\n",
    "#### Sample Output\n",
    ">directory_list/file1.txt<br>\n",
    ">directory_list/file2.txt<br>\n",
    ">directory_list/file3.txt<br>\n",
    ">directory_list/file4.txt<br>"
   ]
  },
  {
   "cell_type": "code",
   "execution_count": null,
   "id": "bbc8ddf0-fb84-4ebf-ab01-96435112a0da",
   "metadata": {},
   "outputs": [],
   "source": [
    "# import libraries here"
   ]
  },
  {
   "cell_type": "code",
   "execution_count": null,
   "id": "ba1e6418-4256-428c-a66b-d38531685d50",
   "metadata": {},
   "outputs": [],
   "source": [
    "def ListFiles(address):\n",
    "    # Your Solution here"
   ]
  },
  {
   "cell_type": "code",
   "execution_count": null,
   "id": "7b92b9c8-2bb8-4d5c-a945-27f8e7ec1028",
   "metadata": {},
   "outputs": [],
   "source": [
    "ListFiles(\"directory_list\")"
   ]
  },
  {
   "cell_type": "markdown",
   "id": "7ef9d4b5-36a9-414b-a5fd-31246ebee95c",
   "metadata": {},
   "source": [
    "## 5.2: `ListDirectories()`: \n",
    "\n",
    "**Task: Use the `os.listdir()` and `os.path.isdir()` function to find and print all the directories (not files) in a given folder.\n",
    "Create a python function `ListDirectories(path)` that prints all the directories in that folder (and subfolders).\n",
    "You may also use the new [`pathlib`](https://realpython.com/python-pathlib/) package from Python if you like (highly recommended if you will be programming in the future).**\n",
    "\n",
    "#### Sample Output (order does not matter)\n",
    "> directory_list/dir2/ <br>\n",
    "> directory_list/dir4/ <br>\n",
    "> directory_list/dir3/ <br>\n",
    "> directory_list/dir1/ <br>"
   ]
  },
  {
   "cell_type": "code",
   "execution_count": null,
   "id": "1d82751d-28ba-43bb-90fc-be39b7e7dc0a",
   "metadata": {},
   "outputs": [],
   "source": [
    "def ListDirectories(address):\n",
    "    # Your Solution here"
   ]
  },
  {
   "cell_type": "code",
   "execution_count": null,
   "id": "346b8e1c-49f0-4f99-b8ad-7fb37d38e54f",
   "metadata": {},
   "outputs": [],
   "source": [
    "ListDirectories(\"directory_list\")"
   ]
  },
  {
   "cell_type": "markdown",
   "id": "37c22f79-9c71-4e52-b1c0-71cb543f0056",
   "metadata": {},
   "source": [
    "## 5.3: `tree()`: \n",
    "\n",
    "**Task: Write a function `tree(path)` that prints a map of all directories AND files within a directory.**\n",
    "\n",
    "*Hint: you can use the functions you created above, or you may use the [`os.walk()`](https://www.tutorialspoint.com/python/os_walk.htm) function to complete this task (there are many ways to do it). Another option is to use [glob](https://www.geeksforgeeks.org/how-to-use-glob-function-to-find-files-recursively-in-python/).* You can explore multiple solutions if you like.\n",
    "\n",
    "#### Sample Output\n",
    "> directory_list/file1.txt <br>\n",
    "> directory_list/file2.txt <br>\n",
    "> directory_list/file3.txt <br>\n",
    "> directory_list/file4.txt <br>\n",
    "> directory_list/dir1/ <br>\n",
    "> directory_list/dir1/file24.txt <br>\n",
    "> directory_list/dir1/file23.txt <br>\n",
    "> directory_list/dir2/ <br>\n",
    "> directory_list/dir2/file34.txt <br>\n",
    "> directory_list/dir3/ <br>\n",
    "> directory_list/dir3/file110.txt <br>\n",
    "> directory_list/dir3/file140.txt <br>\n",
    "> directory_list/dir3/file130.txt <br>\n",
    "> directory_list/dir3/file120.txt <br>\n",
    "> directory_list/dir4/ <br>\n",
    "> directory_list/dir4/file11.txt <br>\n",
    "> directory_list/dir4/file12.txt <br>\n",
    "> directory_list/dir4/file13.txt <br>\n",
    "> directory_list/dir4/file14.txt <br>"
   ]
  },
  {
   "cell_type": "code",
   "execution_count": null,
   "id": "c41bfde2-b3ef-4495-b46b-314d66378cdc",
   "metadata": {},
   "outputs": [],
   "source": [
    "def tree(path):\n",
    "    # Your Solution here"
   ]
  },
  {
   "cell_type": "code",
   "execution_count": null,
   "id": "30ce0dee-6c61-4018-a7fe-c2a4f7f8ee92",
   "metadata": {},
   "outputs": [],
   "source": [
    "# Test your function\n",
    "tree(\"directory_list\")"
   ]
  }
 ],
 "metadata": {
  "kernelspec": {
   "display_name": "Python 3",
   "language": "python",
   "name": "python3"
  },
  "language_info": {
   "codemirror_mode": {
    "name": "ipython",
    "version": 3
   },
   "file_extension": ".py",
   "mimetype": "text/x-python",
   "name": "python",
   "nbconvert_exporter": "python",
   "pygments_lexer": "ipython3",
   "version": "3.10.2 (main, Mar  6 2022, 22:49:31) [Clang 13.0.0 (clang-1300.0.27.3)]"
  },
  "vscode": {
   "interpreter": {
    "hash": "4a3006030bc8f073e17f416a7c98291111bc2dc23e3286a5e86c679c75d3e5ba"
   }
  }
 },
 "nbformat": 4,
 "nbformat_minor": 5
}
