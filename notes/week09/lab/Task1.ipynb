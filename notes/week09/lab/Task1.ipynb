{
 "cells": [
  {
   "cell_type": "markdown",
   "id": "6ba33610-01cf-4327-b2b7-00baede1a0a2",
   "metadata": {},
   "source": [
    "## Task 1 - Creating and Calling Functions\n",
    "\n",
    "### 1.1 - Average of a list\n",
    "\n",
    "Write a Python function that returns the average of a list of values, and then test it with a variety of inputs.\n",
    "\n",
    "**Restriction: I want you to write the average function yourself (from scratch), you cannot use `np.mean()`, `mean()`, or any other average function.**\n",
    "\n",
    "*Hint: Remember the mean of a function is just the sum of all the values, divided by the number of values in the list.*\n",
    "\n",
    "Requirements:\n",
    "\n",
    "- Create function with name ``avglist`` that accepts three parameters: \n",
    "    - ``lst`` - list of numbers (required parameter)\n",
    "    - ``low`` - miminum value (not inclusive). (optional parameter, default = 0)\n",
    "    - ``high`` - maximum value (not inclusive). (optional parameter default = 100)\n",
    "- Your function will calculate and return **only** the average of values in the range (``low``, ``high``).\n",
    "- Your function should have a **docstring**.\n",
    "- Call ``help(avglist)`` to display function information.\n",
    "- Create a list with the numbers 1 to 10 and call `avglist()` with default range and print the result.\n",
    "- Create a list with the numbers 1 to 100 and call `avglist()` with range (``20``, ``80``) and print result.\n",
    "- Create a list with 100 random numbers between 1 and 100 and call avglist() with range (``30``, ``100``) and print the result. Note: Will need to ``import random`` and use ``random.randint(1,100)``. \n",
    "\n",
    "Reminder: To set the seed, use `random.seed(100)`.\n",
    "\n",
    "#### Sample Output\n",
    "\n",
    "For this question, no sample input is provided.\n"
   ]
  },
  {
   "cell_type": "code",
   "execution_count": null,
   "id": "c078c01f-c8e7-46df-9e71-48ee46237466",
   "metadata": {},
   "outputs": [],
   "source": [
    "# add your import statements here"
   ]
  },
  {
   "cell_type": "code",
   "execution_count": null,
   "id": "041eb2b3-8b17-406e-abf4-9032795b6683",
   "metadata": {},
   "outputs": [],
   "source": [
    "# Your solution here"
   ]
  }
 ],
 "metadata": {
  "kernelspec": {
   "display_name": "Python 3 (ipykernel)",
   "language": "python",
   "name": "python3"
  },
  "language_info": {
   "codemirror_mode": {
    "name": "ipython",
    "version": 3
   },
   "file_extension": ".py",
   "mimetype": "text/x-python",
   "name": "python",
   "nbconvert_exporter": "python",
   "pygments_lexer": "ipython3",
   "version": "3.10.2 (main, Mar  6 2022, 22:49:31) [Clang 13.0.0 (clang-1300.0.27.3)]"
  },
  "vscode": {
   "interpreter": {
    "hash": "4a3006030bc8f073e17f416a7c98291111bc2dc23e3286a5e86c679c75d3e5ba"
   }
  }
 },
 "nbformat": 4,
 "nbformat_minor": 5
}
