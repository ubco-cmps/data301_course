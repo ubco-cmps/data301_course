{
 "cells": [
  {
   "cell_type": "markdown",
   "id": "059594c9-2470-4c5c-afc8-550bc2e23f83",
   "metadata": {
    "tags": []
   },
   "source": [
    "# Task 4: Using 3rd party functions (Collections)"
   ]
  },
  {
   "cell_type": "code",
   "execution_count": null,
   "id": "bbc8ddf0-fb84-4ebf-ab01-96435112a0da",
   "metadata": {},
   "outputs": [],
   "source": [
    "# import libraries here"
   ]
  },
  {
   "cell_type": "markdown",
   "id": "7488ecdf-2678-4e25-a9d2-163d70feae2e",
   "metadata": {},
   "source": [
    "## 4.1: Word Counter\n",
    "\n",
    "Write a python function that takes in a string as a parameter, and calculates the frequency of each character using the `collections` package.\n",
    "\n",
    "**Requirements**: \n",
    "\n",
    "- Add a **docstring** to this function so users know how to use it.\n",
    "- For this question, you must use a python `set`, as well as the `Counter` functions from the [`collections`](https://docs.python.org/3/library/collections.html#counter-objects) package. \n",
    "- The order of how you print out each unique character does not matter, but the count and percentage **must** exactly match the output for each character.\n",
    "- You will probably need to read the documentation to understand how to use the `collections` package. \n",
    "\n",
    "**Hint: [Here is a more user-friendly guide to using the `collections` package](https://realpython.com/python-counter/)**."
   ]
  },
  {
   "cell_type": "markdown",
   "id": "35a2a2b9-9095-48b8-8ba4-f456795761eb",
   "metadata": {},
   "source": [
    "### Sample Text\n",
    "\n",
    "Below is the sample text we want you to pass in as a string.\n",
    "\n",
    "> Elephants are mammals of the family Elephantidae and the largest existing land animals. Three species are currently recognised: the African bush elephant, the African forest elephant, and the Asian elephant. Elephantidae is the only surviving family of the order Proboscidea; extinct members include the mastodons. The family Elephantidae also contains several now-extinct groups, including the mammoths and straight-tusked elephants. African elephants have larger ears and concave backs, whereas Asian elephants have smaller ears, and convex or level backs. Distinctive features of all elephants include a long trunk, tusks, large ear flaps, massive legs, and tough but sensitive skin. The trunk, also called a proboscis, is used for breathing, bringing food and water to the mouth, and grasping objects. Tusks, which are derived from the incisor teeth, serve both as weapons and as tools for moving objects and digging. The large ear flaps assist in maintaining a constant body temperature as well as in communication. The pillar-like legs carry their great weight. Elephants are scattered throughout sub-Saharan Africa, South Asia, and Southeast Asia and are found in different habitats, including savannahs, forests, deserts, and marshes. They are herbivorous, and they stay near water when it is accessible. They are considered to be keystone species, due to their impact on their environments.[1] Other animals tend to keep their distance from elephants; the exception is their predators such as lions, tigers, hyenas, and wild dogs, which usually target only young elephants (calves). Elephants have a fission–fusion society, in which multiple family groups come together to socialise. Females (cows) tend to live in family groups, which can consist of one female with her calves or several related females with offspring. The groups, which do not include bulls, are led by the (usually) oldest cow, known as the matriarch.\n",
    "\n",
    "#### Sample output:\n",
    "\n",
    ">' ': Count of 293 and Percentage of 15.2%<br>\n",
    ">'(': Count of 3 and Percentage of 0.2%<br>\n",
    ">')': Count of 3 and Percentage of 0.2%<br>\n",
    ">',': Count of 32 and Percentage of 1.7%<br>\n",
    ">'-': Count of 4 and Percentage of 0.2%<br>\n",
    ">'.': Count of 17 and Percentage of 0.9%<br>\n",
    ">'1': Count of 1 and Percentage of 0.1%<br>\n",
    ">':': Count of 1 and Percentage of 0.1%<br>\n",
    ">';': Count of 2 and Percentage of 0.1%<br>\n",
    ">'A': Count of 8 and Percentage of 0.4%<br>\n",
    ">'D': Count of 1 and Percentage of 0.1%<br>\n",
    ">'E': Count of 6 and Percentage of 0.3%<br>\n",
    ">'F': Count of 1 and Percentage of 0.1%<br>\n",
    ">'O': Count of 1 and Percentage of 0.1%<br>\n",
    ">'P': Count of 1 and Percentage of 0.1%<br>\n",
    ">'S': Count of 3 and Percentage of 0.2%<br>\n",
    ">'T': Count of 9 and Percentage of 0.5%<br>\n",
    ">'[': Count of 1 and Percentage of 0.1%<br>\n",
    ">']': Count of 1 and Percentage of 0.1%<br>\n",
    ">'a': Count of 147 and Percentage of 7.6%<br>\n",
    ">'b': Count of 20 and Percentage of 1.0%<br>\n",
    ">'c': Count of 55 and Percentage of 2.8%<br>\n",
    ">'d': Count of 53 and Percentage of 2.7%<br>\n",
    ">'e': Count of 189 and Percentage of 9.8%<br>\n",
    ">'f': Count of 32 and Percentage of 1.7%<br>\n",
    ">'g': Count of 37 and Percentage of 1.9%<br>\n",
    ">'h': Count of 84 and Percentage of 4.4%<br>\n",
    ">'i': Count of 109 and Percentage of 5.6%<br>\n",
    ">'j': Count of 2 and Percentage of 0.1%<br>\n",
    ">'k': Count of 12 and Percentage of 0.6%<br>\n",
    ">'l': Count of 80 and Percentage of 4.1%<br>\n",
    ">'m': Count of 35 and Percentage of 1.8%<br>\n",
    ">'n': Count of 114 and Percentage of 5.9%<br>\n",
    ">'o': Count of 87 and Percentage of 4.5%<br>\n",
    ">'p': Count of 34 and Percentage of 1.8%<br>\n",
    ">'r': Count of 92 and Percentage of 4.8%<br>\n",
    ">'s': Count of 131 and Percentage of 6.8%<br>\n",
    ">'t': Count of 120 and Percentage of 6.2%<br>\n",
    ">'u': Count of 41 and Percentage of 2.1%<br>\n",
    ">'v': Count of 22 and Percentage of 1.1%<br>\n",
    ">'w': Count of 19 and Percentage of 1.0%<br>\n",
    ">'x': Count of 5 and Percentage of 0.3%<br>\n",
    ">'y': Count of 21 and Percentage of 1.1%<br>\n",
    ">'–': Count of 1 and Percentage of 0.1%<br>\n",
    "\n",
    "In the next cell, the `text` variable has this paragraph stored as a multi-line string."
   ]
  },
  {
   "cell_type": "code",
   "execution_count": 2,
   "id": "4ce450cd-721a-45ec-a59c-92c4bdf1f40f",
   "metadata": {},
   "outputs": [],
   "source": [
    "text = \"\"\"Elephants are mammals of the family Elephantidae and the largest existing land animals. Three species are currently recognised: the African bush elephant, the African forest elephant, and the Asian elephant. Elephantidae is the only surviving family of the order Proboscidea; extinct members include the mastodons. The family Elephantidae also contains several now-extinct groups, including the mammoths and straight-tusked elephants. African elephants have larger ears and concave backs, whereas Asian elephants have smaller ears, and convex or level backs. Distinctive features of all elephants include a long trunk, tusks, large ear flaps, massive legs, and tough but sensitive skin. The trunk, also called a proboscis, is used for breathing, bringing food and water to the mouth, and grasping objects. Tusks, which are derived from the incisor teeth, serve both as weapons and as tools for moving objects and digging. The large ear flaps assist in maintaining a constant body temperature as well as in communication. The pillar-like legs carry their great weight. Elephants are scattered throughout sub-Saharan Africa, South Asia, and Southeast Asia and are found in different habitats, including savannahs, forests, deserts, and marshes. They are herbivorous, and they stay near water when it is accessible. They are considered to be keystone species, due to their impact on their environments.[1] Other animals tend to keep their distance from elephants; the exception is their predators such as lions, tigers, hyenas, and wild dogs, which usually target only young elephants (calves). Elephants have a fission–fusion society, in which multiple family groups come together to socialise. Females (cows) tend to live in family groups, which can consist of one female with her calves or several related females with offspring. The groups, which do not include bulls, are led by the (usually) oldest cow, known as the matriarch.\"\"\"\n",
    "\n",
    "### Your solution here"
   ]
  }
 ],
 "metadata": {
  "kernelspec": {
   "display_name": "Python 3",
   "language": "python",
   "name": "python3"
  },
  "language_info": {
   "codemirror_mode": {
    "name": "ipython",
    "version": 3
   },
   "file_extension": ".py",
   "mimetype": "text/x-python",
   "name": "python",
   "nbconvert_exporter": "python",
   "pygments_lexer": "ipython3",
   "version": "3.10.2 (main, Mar  6 2022, 22:49:31) [Clang 13.0.0 (clang-1300.0.27.3)]"
  },
  "vscode": {
   "interpreter": {
    "hash": "4a3006030bc8f073e17f416a7c98291111bc2dc23e3286a5e86c679c75d3e5ba"
   }
  }
 },
 "nbformat": 4,
 "nbformat_minor": 5
}
