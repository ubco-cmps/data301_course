{
 "cells": [
  {
   "cell_type": "markdown",
   "id": "6ba33610-01cf-4327-b2b7-00baede1a0a2",
   "metadata": {},
   "source": [
    "## Task 2 - Creating and Calling Functions\n",
    "\n",
    "### 2.1 - Calculating Taxes\n",
    "\n",
    "Write a Python function called `calc_tax()` that calculates and prints the tax on a purchased item.\n",
    "The input of this function should be the name of the item (a string), and the pre-tax price of the item (a number).\n",
    "\n",
    "Requirements:\n",
    "\n",
    "- Add a **docstring** to this function so users know how to use it.\n",
    "- Calculate the provincial tax (5%) federal tax (7%), and store them as separate variables.\n",
    "- Choose one: \n",
    "    - A) Add at least two assert statements as tests for your code OR \n",
    "    - B) Use try/except statements to test for inputs to the function.\n",
    "- Print the item amount, the provincial tax, the federal tax, and the total with all taxes included.\n",
    "- Round tax amounts, and the final price to the nearest cent and display with **exactly two decimal points**.\n",
    "\n",
    "#### Sample Output\n",
    "\n",
    "> \\>\\> calc_tax('candy', 10) # Run the `calc_tax()` function on candy to get the following output\n",
    "> \n",
    "> candy\n",
    ">\n",
    "> pre-tax price of: \\$10.00\n",
    "> \n",
    "> provincial tax: \\$0.50\n",
    "> \n",
    "> federal tax: \\$0.70\n",
    "> \n",
    "> total price of: $11.20\n"
   ]
  },
  {
   "cell_type": "code",
   "execution_count": null,
   "id": "c078c01f-c8e7-46df-9e71-48ee46237466",
   "metadata": {},
   "outputs": [],
   "source": [
    "# add your import statements here"
   ]
  },
  {
   "cell_type": "code",
   "execution_count": null,
   "id": "041eb2b3-8b17-406e-abf4-9032795b6683",
   "metadata": {},
   "outputs": [],
   "source": [
    "# Your solution here"
   ]
  }
 ],
 "metadata": {
  "kernelspec": {
   "display_name": "Python 3",
   "language": "python",
   "name": "python3"
  },
  "language_info": {
   "codemirror_mode": {
    "name": "ipython",
    "version": 3
   },
   "file_extension": ".py",
   "mimetype": "text/x-python",
   "name": "python",
   "nbconvert_exporter": "python",
   "pygments_lexer": "ipython3",
   "version": "3.10.2 (main, Mar  6 2022, 22:49:31) [Clang 13.0.0 (clang-1300.0.27.3)]"
  },
  "vscode": {
   "interpreter": {
    "hash": "4a3006030bc8f073e17f416a7c98291111bc2dc23e3286a5e86c679c75d3e5ba"
   }
  }
 },
 "nbformat": 4,
 "nbformat_minor": 5
}
