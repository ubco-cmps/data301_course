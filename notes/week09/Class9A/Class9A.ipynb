{
 "cells": [
  {
   "cell_type": "markdown",
   "metadata": {
    "slideshow": {
     "slide_type": "slide"
    },
    "tags": []
   },
   "source": [
    "# Class 9A: Programming in Python I\n",
    "\n",
    "We will begin soon!\n",
    "\n",
    "\n",
    "<div align = \"right\"> \n",
    "    Firas Moosvi\n",
    "</div>"
   ]
  },
  {
   "cell_type": "code",
   "execution_count": 1,
   "metadata": {
    "slideshow": {
     "slide_type": "skip"
    }
   },
   "outputs": [
    {
     "data": {
      "text/html": [
       "<style>/*.container { width:100% !important; }*/\n",
       "\n",
       "div.prompt {display:none}\n",
       "\n",
       "div.output_subarea {max-width:100%}\n",
       "\n",
       "/* These below are from the altair_talk css */\n",
       "\n",
       "/* ---------- markdown cells\n",
       " */\n",
       "body.rise-enabled div.inner_cell>div.text_cell_render.rendered_html {\n",
       "    font-size: 100%;\n",
       "}\n",
       "\n",
       "\n",
       "/* ---------- code blocks inside markdown\n",
       "   i.e. within ``` lines, or 4-space indented\n",
       " */\n",
       "div.inner_cell>div.text_cell_render.rendered_html>pre {\n",
       "    margin: 0px;\n",
       "}\n",
       "\n",
       "/* ----------- code to remove space above markdown headers\n",
       " */\n",
       "div.inner_cell>div.text_cell_render.rendered_html h1 {\n",
       "    margin-top: 0px;\n",
       "}\n",
       "div.inner_cell>div.text_cell_render.rendered_html h2 {\n",
       "    margin-top: 0px;\n",
       "}\n",
       "div.inner_cell>div.text_cell_render.rendered_html h3 {\n",
       "    margin-top: 0px;\n",
       "}\n",
       "div.inner_cell>div.text_cell_render.rendered_html h4 {\n",
       "    margin-top: 0px;\n",
       "}\n",
       "\n",
       "div.inner_cell>div.text_cell_render.rendered_html>pre>code {\n",
       "    font-size: 70%;\n",
       "}\n",
       "\n",
       "/* ---------- tables (from SO)\n",
       " */\n",
       ".rendered_html table, .rendered_html th, .rendered_html tr, .rendered_html td {\n",
       "     font-size: 120%;\n",
       "}\n",
       "\n",
       "/* ---------- Left part of code cells\n",
       "    from this SO answer: https://stackoverflow.com/a/47263575;\n",
       " /* Narrow the prompts */\n",
       "div.prompt_container {\n",
       "    min-width: 5ex;\n",
       "}\n",
       "/* Hide prompts altogether for non-conda cells */\n",
       ".cell:not(.code_cell) .prompt {\n",
       "    display: none;\n",
       "}\n",
       "/* ---------- Width of cells\n",
       " */\n",
       ".container {\n",
       "    width:95% !important;\n",
       "}\n",
       "\n",
       "</style>"
      ],
      "text/plain": [
       "<IPython.core.display.HTML object>"
      ]
     },
     "execution_count": 1,
     "metadata": {},
     "output_type": "execute_result"
    }
   ],
   "source": [
    "from IPython.display import IFrame\n",
    "from IPython.display import Markdown\n",
    "\n",
    "# Additional styling ; should be moved into helpers\n",
    "from IPython.display import display, HTML\n",
    "\n",
    "HTML(\"<style>{}</style>\".format(open(\"rise.css\").read()))"
   ]
  },
  {
   "cell_type": "markdown",
   "metadata": {
    "slideshow": {
     "slide_type": "slide"
    },
    "tags": []
   },
   "source": [
    "## Announcements"
   ]
  },
  {
   "cell_type": "markdown",
   "metadata": {
    "slideshow": {
     "slide_type": "fragment"
    }
   },
   "source": [
    "1. Grades and feedback for Labs 1-4 and feedback for LL1 - LL5 is now released; if you got a G or an R, submit a resubmission request on Ed Discussion."
   ]
  },
  {
   "cell_type": "markdown",
   "metadata": {
    "slideshow": {
     "slide_type": "fragment"
    }
   },
   "source": [
    "2. Project Deadlines:\n",
    "    - Milestone 4 due March 23rd, 2023.\n",
    "    - Milestone 5 due April 6th, 2023.\n",
    "    - Milestone 6 due April 11th, 2023.\n",
    "    - You should be spending at least a few hours every week working on your project, do not leave things to the last minute!"
   ]
  },
  {
   "cell_type": "markdown",
   "metadata": {
    "slideshow": {
     "slide_type": "fragment"
    }
   },
   "source": [
    "3. Test 3 will be **this Wednesday** during class, you MUST be present in class!!\n",
    "    - [Test 3 details are here](../test.md)\n",
    "    - Make sure to check and read the rules carefully!"
   ]
  },
  {
   "cell_type": "markdown",
   "metadata": {
    "slideshow": {
     "slide_type": "subslide"
    }
   },
   "source": [
    "## Class Outline\n",
    "\n",
    "- Announcements (2 mins)\n",
    "- Functions in Python (40 min)\n"
   ]
  },
  {
   "cell_type": "markdown",
   "metadata": {
    "slideshow": {
     "slide_type": "slide"
    }
   },
   "source": [
    "## Programming in Python I"
   ]
  },
  {
   "cell_type": "markdown",
   "metadata": {
    "slideshow": {
     "slide_type": "fragment"
    }
   },
   "source": [
    "In this class, we go through a notebook by a former colleague, Dr. Mike Gelbart, option co-director of the UBC-Vancouver MDS program.\n",
    "\n",
    "If you prefer, you can also watch his recording of the same material."
   ]
  },
  {
   "cell_type": "markdown",
   "metadata": {
    "slideshow": {
     "slide_type": "skip"
    }
   },
   "source": [
    "<div class=\"youtube\">\n",
    "<iframe class=\"responsive-iframe\" height=\"350px\" width=\"622px\" src=\"https://www.youtube-nocookie.com/embed/7FLv1ACEl-E\" frameborder=\"0\" allow=\"accelerometer; autoplay=\"0\"; encrypted-media; gyroscope; picture-in-picture\" allowfullscreen></iframe>\n",
    "</div>"
   ]
  },
  {
   "cell_type": "markdown",
   "metadata": {
    "slideshow": {
     "slide_type": "subslide"
    }
   },
   "source": [
    "### Attribution\n",
    "\n",
    "- The original version of these Python lectures were by [Patrick Walls](https://www.math.ubc.ca/~pwalls/).\n",
    "- These lectures were delivered by [Mike Gelbart](https://mikegelbart.com) and are [available publicly here](https://www.youtube.com/watch?v=7FLv1ACEl-E&list=PLWmXHcz_53Q26aQzhknaT3zwWvl7w8wQE&index=2)."
   ]
  },
  {
   "cell_type": "markdown",
   "metadata": {
    "slideshow": {
     "slide_type": "subslide"
    }
   },
   "source": [
    "## Functions in Python (40 mins)\n",
    "\n",
    "- Define a [**function**](https://docs.python.org/3/tutorial/controlflow.html#defining-functions) to re-use a block of code with different input parameters, also known as **arguments**. \n",
    "- For example, define a function called `square` which takes one input parameter `n` and returns the square `n**2`."
   ]
  },
  {
   "cell_type": "code",
   "execution_count": 85,
   "metadata": {
    "slideshow": {
     "slide_type": "fragment"
    }
   },
   "outputs": [],
   "source": [
    "def square(n):\n",
    "    n_squared = n**2\n",
    "    return n_squared"
   ]
  },
  {
   "cell_type": "code",
   "execution_count": 87,
   "metadata": {
    "slideshow": {
     "slide_type": "fragment"
    }
   },
   "outputs": [
    {
     "ename": "NameError",
     "evalue": "name 'n_squared' is not defined",
     "output_type": "error",
     "traceback": [
      "\u001b[0;31m---------------------------------------------------------------------------\u001b[0m",
      "\u001b[0;31mNameError\u001b[0m                                 Traceback (most recent call last)",
      "Input \u001b[0;32mIn [87]\u001b[0m, in \u001b[0;36m<cell line: 4>\u001b[0;34m()\u001b[0m\n\u001b[1;32m      1\u001b[0m var \u001b[38;5;241m=\u001b[39m \u001b[38;5;241m50\u001b[39m\n\u001b[1;32m      3\u001b[0m square(n\u001b[38;5;241m=\u001b[39mvar)\n\u001b[0;32m----> 4\u001b[0m \u001b[43mn_squared\u001b[49m\n",
      "\u001b[0;31mNameError\u001b[0m: name 'n_squared' is not defined"
     ]
    }
   ],
   "source": [
    "var = 50\n",
    "\n",
    "square(n=var)\n",
    "n_squared  # not available to us because the \"scope\" of it is only within square(n)"
   ]
  },
  {
   "cell_type": "code",
   "execution_count": 88,
   "metadata": {},
   "outputs": [
    {
     "data": {
      "text/plain": [
       "12.5"
      ]
     },
     "execution_count": 88,
     "metadata": {},
     "output_type": "execute_result"
    }
   ],
   "source": [
    "import numpy as np\n",
    "\n",
    "np.mean([5, 10, 15, 20])"
   ]
  },
  {
   "cell_type": "code",
   "execution_count": 89,
   "metadata": {
    "slideshow": {
     "slide_type": "fragment"
    }
   },
   "outputs": [
    {
     "data": {
      "text/plain": [
       "156.25"
      ]
     },
     "execution_count": 89,
     "metadata": {},
     "output_type": "execute_result"
    }
   ],
   "source": [
    "square(np.mean([5, 10, 15, 20]))"
   ]
  },
  {
   "cell_type": "code",
   "execution_count": 90,
   "metadata": {
    "slideshow": {
     "slide_type": "fragment"
    }
   },
   "outputs": [
    {
     "data": {
      "text/plain": [
       "152399025"
      ]
     },
     "execution_count": 90,
     "metadata": {},
     "output_type": "execute_result"
    }
   ],
   "source": [
    "square(12345)"
   ]
  },
  {
   "cell_type": "markdown",
   "metadata": {
    "slideshow": {
     "slide_type": "fragment"
    }
   },
   "source": [
    "* Begins with `def` keyword, function name, input parameters and then colon (`:`)\n",
    "* Function block defined by indentation\n",
    "* Output or \"return\" value of the function is given by the `return` keyword"
   ]
  },
  {
   "cell_type": "markdown",
   "metadata": {
    "slideshow": {
     "slide_type": "subslide"
    }
   },
   "source": [
    "#### Null return type\n",
    "\n",
    "If you do not specify a return value, the function returns `None` when it terminates:"
   ]
  },
  {
   "cell_type": "code",
   "execution_count": 97,
   "metadata": {
    "slideshow": {
     "slide_type": "fragment"
    }
   },
   "outputs": [
    {
     "name": "stdout",
     "output_type": "stream",
     "text": [
      "None\n"
     ]
    }
   ],
   "source": [
    "def f(x):\n",
    "    x + 1  # no return!\n",
    "    if x == 999:\n",
    "        return\n",
    "\n",
    "\n",
    "print(f(998))"
   ]
  },
  {
   "cell_type": "markdown",
   "metadata": {
    "slideshow": {
     "slide_type": "subslide"
    }
   },
   "source": [
    "### DRY principle, designing good functions\n",
    "\n",
    "- DRY: **Don't Repeat Yourself**\n",
    "- See [Wikipedia article](https://en.wikipedia.org/wiki/Don%27t_repeat_yourself)\n",
    "- Consider the task of, for each element of a list, turning it into a palindrome\n",
    "  - e.g. \"mike\" --> \"mikeekim\""
   ]
  },
  {
   "cell_type": "raw",
   "metadata": {
    "slideshow": {
     "slide_type": "fragment"
    }
   },
   "source": [
    "names = [\"milad\", \"rodolfo\", \"tiffany\", \"Firas\"]"
   ]
  },
  {
   "cell_type": "code",
   "execution_count": 20,
   "metadata": {},
   "outputs": [],
   "source": [
    "names = [\"milad\", \"rodolfo\", \"tiffany\", \"Firas\"]"
   ]
  },
  {
   "cell_type": "code",
   "execution_count": 21,
   "metadata": {
    "slideshow": {
     "slide_type": "fragment"
    }
   },
   "outputs": [
    {
     "data": {
      "text/plain": [
       "'ekim'"
      ]
     },
     "execution_count": 21,
     "metadata": {},
     "output_type": "execute_result"
    }
   ],
   "source": [
    "# Aside: to reverse a string, use ::-1\n",
    "name = \"mike\"\n",
    "name[::-1]"
   ]
  },
  {
   "cell_type": "code",
   "execution_count": 23,
   "metadata": {
    "slideshow": {
     "slide_type": "fragment"
    }
   },
   "outputs": [
    {
     "data": {
      "text/plain": [
       "['miladdalim', 'rodolfooflodor', 'tiffanyynaffit', 'FirassariF']"
      ]
     },
     "execution_count": 23,
     "metadata": {},
     "output_type": "execute_result"
    }
   ],
   "source": [
    "names_backwards = list()\n",
    "\n",
    "names_backwards.append(names[0] + names[0][::-1])\n",
    "names_backwards.append(names[1] + names[1][::-1])\n",
    "names_backwards.append(names[2] + names[2][::-1])\n",
    "names_backwards.append(names[3] + names[3][::-1])\n",
    "\n",
    "names_backwards"
   ]
  },
  {
   "cell_type": "markdown",
   "metadata": {
    "slideshow": {
     "slide_type": "fragment"
    }
   },
   "source": [
    "- Above: this is gross, terrible, yucky code\n",
    "  1. It only works for a list with 3 elements\n",
    "  2. It only works for a list named `names`\n",
    "  3. If we want to change its functionality, we need to change 3 similar lines of code (Don't Repeat Yourself!!)\n",
    "  4. It is hard to understand what it does just by looking at it"
   ]
  },
  {
   "cell_type": "code",
   "execution_count": 24,
   "metadata": {
    "slideshow": {
     "slide_type": "fragment"
    }
   },
   "outputs": [
    {
     "data": {
      "text/plain": [
       "['milad-dalim', 'rodolfo-oflodor', 'tiffany-ynaffit', 'Firas-sariF']"
      ]
     },
     "execution_count": 24,
     "metadata": {},
     "output_type": "execute_result"
    }
   ],
   "source": [
    "names_backwards = list()\n",
    "\n",
    "for name in names:\n",
    "    names_backwards.append(name + \"-\" + name[::-1])\n",
    "\n",
    "names_backwards"
   ]
  },
  {
   "cell_type": "markdown",
   "metadata": {
    "slideshow": {
     "slide_type": "fragment"
    }
   },
   "source": [
    "Above: this is slightly better. We have solved problems (1) and (3)."
   ]
  },
  {
   "cell_type": "code",
   "execution_count": 25,
   "metadata": {
    "slideshow": {
     "slide_type": "fragment"
    }
   },
   "outputs": [
    {
     "data": {
      "text/plain": [
       "['miladdalim', 'rodolfooflodor', 'tiffanyynaffit', 'FirassariF']"
      ]
     },
     "execution_count": 25,
     "metadata": {},
     "output_type": "execute_result"
    }
   ],
   "source": [
    "def make_palindromes(names):\n",
    "    names_backwards = list()\n",
    "\n",
    "    for name in names:\n",
    "        names_backwards.append(name + name[::-1])\n",
    "\n",
    "    return names_backwards\n",
    "\n",
    "\n",
    "make_palindromes(names)"
   ]
  },
  {
   "cell_type": "markdown",
   "metadata": {
    "slideshow": {
     "slide_type": "fragment"
    }
   },
   "source": [
    "- Above: this is even better. We have now also solved problem (2), because you can call the function with any list, not just `names`. \n",
    "- For example, what if we had multiple _lists_:"
   ]
  },
  {
   "cell_type": "code",
   "execution_count": 14,
   "metadata": {
    "slideshow": {
     "slide_type": "fragment"
    }
   },
   "outputs": [],
   "source": [
    "names1 = [\"milad\", \"rodolfo\", \"tiffany\"]\n",
    "names2 = [\"Trudeau\", \"Scheer\", \"Singh\", \"Blanchet\", \"May\"]\n",
    "names3 = [\"apple\", \"orange\", \"banana\"]"
   ]
  },
  {
   "cell_type": "code",
   "execution_count": 17,
   "metadata": {
    "slideshow": {
     "slide_type": "fragment"
    }
   },
   "outputs": [
    {
     "data": {
      "text/plain": [
       "['miladdalim', 'rodolfooflodor', 'tiffanyynaffit']"
      ]
     },
     "execution_count": 17,
     "metadata": {},
     "output_type": "execute_result"
    }
   ],
   "source": [
    "names_backwards_1 = list()\n",
    "\n",
    "for name in names1:\n",
    "    names_backwards_1.append(name + name[::-1])\n",
    "\n",
    "names_backwards_1"
   ]
  },
  {
   "cell_type": "code",
   "execution_count": 18,
   "metadata": {
    "slideshow": {
     "slide_type": "fragment"
    }
   },
   "outputs": [
    {
     "data": {
      "text/plain": [
       "['TrudeauuaedurT', 'ScheerreehcS', 'SinghhgniS', 'BlanchettehcnalB', 'MayyaM']"
      ]
     },
     "execution_count": 18,
     "metadata": {},
     "output_type": "execute_result"
    }
   ],
   "source": [
    "names_backwards_2 = list()\n",
    "\n",
    "for name in names2:\n",
    "    names_backwards_2.append(name + name[::-1])\n",
    "\n",
    "names_backwards_2"
   ]
  },
  {
   "cell_type": "code",
   "execution_count": 26,
   "metadata": {
    "slideshow": {
     "slide_type": "fragment"
    }
   },
   "outputs": [
    {
     "data": {
      "text/plain": [
       "['appleelppa', 'orangeegnaro', 'bananaananab']"
      ]
     },
     "execution_count": 26,
     "metadata": {},
     "output_type": "execute_result"
    }
   ],
   "source": [
    "names_backwards_3 = list()\n",
    "\n",
    "for name in names3:\n",
    "    names_backwards_3.append(name + name[::-1])\n",
    "\n",
    "names_backwards_3"
   ]
  },
  {
   "cell_type": "markdown",
   "metadata": {
    "slideshow": {
     "slide_type": "fragment"
    }
   },
   "source": [
    "Above: this is very bad also (and imagine if it was 20 lines of code instead of 2). This was problem (2). Our function makes it much better:"
   ]
  },
  {
   "cell_type": "code",
   "execution_count": 27,
   "metadata": {
    "slideshow": {
     "slide_type": "fragment"
    }
   },
   "outputs": [
    {
     "data": {
      "text/plain": [
       "['miladdalim', 'rodolfooflodor', 'tiffanyynaffit']"
      ]
     },
     "execution_count": 27,
     "metadata": {},
     "output_type": "execute_result"
    }
   ],
   "source": [
    "make_palindromes(names1)"
   ]
  },
  {
   "cell_type": "code",
   "execution_count": 114,
   "metadata": {
    "slideshow": {
     "slide_type": "fragment"
    }
   },
   "outputs": [
    {
     "data": {
      "text/plain": [
       "['TrudeauuaedurT', 'ScheerreehcS', 'SinghhgniS', 'BlanchettehcnalB', 'MayyaM']"
      ]
     },
     "execution_count": 114,
     "metadata": {},
     "output_type": "execute_result"
    }
   ],
   "source": [
    "make_palindromes(names2)"
   ]
  },
  {
   "cell_type": "code",
   "execution_count": 28,
   "metadata": {
    "slideshow": {
     "slide_type": "fragment"
    }
   },
   "outputs": [
    {
     "data": {
      "text/plain": [
       "['appleelppa', 'orangeegnaro', 'bananaananab']"
      ]
     },
     "execution_count": 28,
     "metadata": {},
     "output_type": "execute_result"
    }
   ],
   "source": [
    "make_palindromes(names3)"
   ]
  },
  {
   "cell_type": "markdown",
   "metadata": {
    "slideshow": {
     "slide_type": "subslide"
    }
   },
   "source": [
    "- You could get even more fancy, and put the lists of names into a list (so you have a list of lists). \n",
    "- Then you could loop over the list and call the function each time:"
   ]
  },
  {
   "cell_type": "code",
   "execution_count": 115,
   "metadata": {
    "slideshow": {
     "slide_type": "fragment"
    }
   },
   "outputs": [
    {
     "name": "stdout",
     "output_type": "stream",
     "text": [
      "['miladdalim', 'rodolfooflodor', 'tiffanyynaffit']\n",
      "['TrudeauuaedurT', 'ScheerreehcS', 'SinghhgniS', 'BlanchettehcnalB', 'MayyaM']\n",
      "['appleelppa', 'orangeegnaro', 'bananaananab']\n"
     ]
    }
   ],
   "source": [
    "for list_of_names in [names1, names2, names3]:\n",
    "    print(make_palindromes(list_of_names))"
   ]
  },
  {
   "cell_type": "markdown",
   "metadata": {
    "slideshow": {
     "slide_type": "subslide"
    }
   },
   "source": [
    "#### Designing good functions"
   ]
  },
  {
   "cell_type": "markdown",
   "metadata": {
    "slideshow": {
     "slide_type": "fragment"
    }
   },
   "source": [
    "- How far you go with this is sort of a matter of personal style, and how you choose to apply the DRY principle: DON'T REPEAT YOURSELF!\n",
    "- These decisions are often ambiguous. For example: \n",
    "  - Should `make_palindromes` be a function if I'm only ever doing it once? Twice?\n",
    "  - Should the loop be inside the function, or outside?\n",
    "  - Or should there be TWO functions, one that loops over the other??"
   ]
  },
  {
   "cell_type": "markdown",
   "metadata": {
    "slideshow": {
     "slide_type": "fragment"
    }
   },
   "source": [
    "- In my personal opinion, `make_palindromes` does a bit too much to be understandable.\n",
    "- I prefer this:"
   ]
  },
  {
   "cell_type": "code",
   "execution_count": 29,
   "metadata": {
    "slideshow": {
     "slide_type": "fragment"
    }
   },
   "outputs": [
    {
     "data": {
      "text/plain": [
       "'miladdalim'"
      ]
     },
     "execution_count": 29,
     "metadata": {},
     "output_type": "execute_result"
    }
   ],
   "source": [
    "def make_palindrome(name):\n",
    "    return name + name[::-1]\n",
    "\n",
    "\n",
    "make_palindrome(\"milad\")"
   ]
  },
  {
   "cell_type": "markdown",
   "metadata": {
    "slideshow": {
     "slide_type": "fragment"
    }
   },
   "source": [
    "- From here, we want to \"apply `make_palindrome` to every element of a list\"\n",
    "- It turns out this is an extremely common desire, so Python has built-in functions.\n",
    "- One of these is `map`, which we'll cover later. But for now, just a comprehension will do:"
   ]
  },
  {
   "cell_type": "code",
   "execution_count": null,
   "metadata": {
    "slideshow": {
     "slide_type": "fragment"
    }
   },
   "outputs": [],
   "source": [
    "[make_palindrome(name) for name in names1]"
   ]
  },
  {
   "cell_type": "markdown",
   "metadata": {
    "slideshow": {
     "slide_type": "subslide"
    }
   },
   "source": [
    "Other function design considerations:\n",
    "\n",
    "- Should we print output or produce plots inside or outside functions? \n",
    "  - I would usually say outside, because this is a \"side effect\" of sorts\n",
    "- Should the function do one thing or many things?\n",
    "  - This is a tough one, hard to answer in general"
   ]
  },
  {
   "cell_type": "markdown",
   "metadata": {
    "slideshow": {
     "slide_type": "subslide"
    }
   },
   "source": [
    "### Optional & keyword arguments\n",
    "\n",
    "- Sometimes it is convenient to have _default values_ for some arguments in a function. \n",
    "- Because they have default values, these arguments are optional, hence \"optional arguments\"\n",
    "- Example:"
   ]
  },
  {
   "cell_type": "code",
   "execution_count": 36,
   "metadata": {},
   "outputs": [
    {
     "data": {
      "text/plain": [
       "36"
      ]
     },
     "execution_count": 36,
     "metadata": {},
     "output_type": "execute_result"
    }
   ],
   "source": [
    "def square(num=6):\n",
    "    return num**2\n",
    "\n",
    "\n",
    "square()"
   ]
  },
  {
   "cell_type": "code",
   "execution_count": 39,
   "metadata": {
    "slideshow": {
     "slide_type": "fragment"
    }
   },
   "outputs": [],
   "source": [
    "def repeat_string(s, n=2):\n",
    "    return s * n"
   ]
  },
  {
   "cell_type": "code",
   "execution_count": 47,
   "metadata": {
    "slideshow": {
     "slide_type": "fragment"
    }
   },
   "outputs": [
    {
     "data": {
      "text/plain": [
       "'COSC301COSC301COSC301COSC301COSC301'"
      ]
     },
     "execution_count": 47,
     "metadata": {},
     "output_type": "execute_result"
    }
   ],
   "source": [
    "repeat_string(\"COSC301\", 5)"
   ]
  },
  {
   "cell_type": "code",
   "execution_count": 49,
   "metadata": {
    "slideshow": {
     "slide_type": "fragment"
    }
   },
   "outputs": [
    {
     "data": {
      "text/plain": [
       "'mds-mds-mds-mds-mds-'"
      ]
     },
     "execution_count": 49,
     "metadata": {},
     "output_type": "execute_result"
    }
   ],
   "source": [
    "repeat_string(\"mds-\", 5)"
   ]
  },
  {
   "cell_type": "code",
   "execution_count": 50,
   "metadata": {
    "slideshow": {
     "slide_type": "fragment"
    }
   },
   "outputs": [
    {
     "data": {
      "text/plain": [
       "'mdsmds'"
      ]
     },
     "execution_count": 50,
     "metadata": {},
     "output_type": "execute_result"
    }
   ],
   "source": [
    "repeat_string(\"mds\")  # do not specify `n`; it is optional"
   ]
  },
  {
   "cell_type": "markdown",
   "metadata": {
    "slideshow": {
     "slide_type": "subslide"
    }
   },
   "source": [
    "Sensible defaults:\n",
    "\n",
    "- Ideally, the default should be carefully chosen. \n",
    "- Here, the idea of \"repeating\" something makes me think of having 2 copies, so `n=2` feels like a sensible default."
   ]
  },
  {
   "cell_type": "markdown",
   "metadata": {
    "slideshow": {
     "slide_type": "fragment"
    }
   },
   "source": [
    "Syntax:\n",
    "\n",
    "- You can have any number of arguments and any number of optional arguments\n",
    "- All the optional arguments must come after the regular arguments\n",
    "- The regular arguments are mapped by the order they appear\n",
    "- The optional arguments can be specified out of order"
   ]
  },
  {
   "cell_type": "code",
   "execution_count": 51,
   "metadata": {
    "slideshow": {
     "slide_type": "fragment"
    }
   },
   "outputs": [
    {
     "name": "stdout",
     "output_type": "stream",
     "text": [
      "1 2 3 4\n"
     ]
    }
   ],
   "source": [
    "def example(a, b, c=\"DEFAULT\", d=\"DEFAULT\"):\n",
    "    print(a, b, c, d)\n",
    "\n",
    "\n",
    "example(\n",
    "    1,\n",
    "    2,\n",
    ")"
   ]
  },
  {
   "cell_type": "markdown",
   "metadata": {
    "slideshow": {
     "slide_type": "fragment"
    }
   },
   "source": [
    "Using the defaults for `c` and `d`:"
   ]
  },
  {
   "cell_type": "code",
   "execution_count": 52,
   "metadata": {
    "slideshow": {
     "slide_type": "fragment"
    }
   },
   "outputs": [
    {
     "name": "stdout",
     "output_type": "stream",
     "text": [
      "1 2 DEFAULT DEFAULT\n"
     ]
    }
   ],
   "source": [
    "example(1, 2)"
   ]
  },
  {
   "cell_type": "markdown",
   "metadata": {
    "slideshow": {
     "slide_type": "fragment"
    }
   },
   "source": [
    "Specifying `c` and `d` as **keyword arguments** (i.e. by name):"
   ]
  },
  {
   "cell_type": "code",
   "execution_count": null,
   "metadata": {
    "slideshow": {
     "slide_type": "fragment"
    }
   },
   "outputs": [],
   "source": [
    "example(1, 2, c=3, d=4)"
   ]
  },
  {
   "cell_type": "markdown",
   "metadata": {
    "slideshow": {
     "slide_type": "subslide"
    }
   },
   "source": [
    "Specifying only one of the optional arguments, by keyword:"
   ]
  },
  {
   "cell_type": "code",
   "execution_count": 53,
   "metadata": {
    "slideshow": {
     "slide_type": "fragment"
    }
   },
   "outputs": [
    {
     "name": "stdout",
     "output_type": "stream",
     "text": [
      "1 2 3 DEFAULT\n"
     ]
    }
   ],
   "source": [
    "example(1, 2, c=3)"
   ]
  },
  {
   "cell_type": "markdown",
   "metadata": {
    "slideshow": {
     "slide_type": "fragment"
    }
   },
   "source": [
    "Or the other:"
   ]
  },
  {
   "cell_type": "code",
   "execution_count": 54,
   "metadata": {
    "slideshow": {
     "slide_type": "fragment"
    }
   },
   "outputs": [
    {
     "name": "stdout",
     "output_type": "stream",
     "text": [
      "1 2 DEFAULT 4\n"
     ]
    }
   ],
   "source": [
    "example(1, 2, d=4)"
   ]
  },
  {
   "cell_type": "markdown",
   "metadata": {
    "slideshow": {
     "slide_type": "fragment"
    }
   },
   "source": [
    "Specifying all the arguments as keyword arguments, even though only `c` and `d` are optional:"
   ]
  },
  {
   "cell_type": "code",
   "execution_count": 55,
   "metadata": {
    "slideshow": {
     "slide_type": "fragment"
    }
   },
   "outputs": [
    {
     "name": "stdout",
     "output_type": "stream",
     "text": [
      "1 2 3 4\n"
     ]
    }
   ],
   "source": [
    "example(a=1, b=2, c=3, d=4)"
   ]
  },
  {
   "cell_type": "markdown",
   "metadata": {
    "slideshow": {
     "slide_type": "fragment"
    }
   },
   "source": [
    "Specifying `c` by the fact that it comes 3rd (I do not recommend this because I find it is confusing):"
   ]
  },
  {
   "cell_type": "code",
   "execution_count": null,
   "metadata": {
    "slideshow": {
     "slide_type": "fragment"
    }
   },
   "outputs": [],
   "source": [
    "example(1, 2, 3)  # not recommended"
   ]
  },
  {
   "cell_type": "markdown",
   "metadata": {
    "slideshow": {
     "slide_type": "fragment"
    }
   },
   "source": [
    "Specifying the optional arguments by keyword, but in the wrong order (this is also somewhat confusing, but not so terrible - I am OK with it):"
   ]
  },
  {
   "cell_type": "code",
   "execution_count": null,
   "metadata": {
    "slideshow": {
     "slide_type": "fragment"
    }
   },
   "outputs": [],
   "source": [
    "example(1, 2, d=4, c=3)"
   ]
  },
  {
   "cell_type": "markdown",
   "metadata": {
    "slideshow": {
     "slide_type": "fragment"
    }
   },
   "source": [
    "Specifying the non-optional arguments by keyword (I am fine with this):"
   ]
  },
  {
   "cell_type": "code",
   "execution_count": 58,
   "metadata": {
    "slideshow": {
     "slide_type": "fragment"
    }
   },
   "outputs": [
    {
     "name": "stdout",
     "output_type": "stream",
     "text": [
      "1 2 DEFAULT DEFAULT\n"
     ]
    }
   ],
   "source": [
    "example(a=1, b=2)"
   ]
  },
  {
   "cell_type": "markdown",
   "metadata": {
    "slideshow": {
     "slide_type": "fragment"
    }
   },
   "source": [
    "Specifying the non-optional arguments by keyword, but in the wrong order (not recommended, I find it confusing):"
   ]
  },
  {
   "cell_type": "code",
   "execution_count": null,
   "metadata": {
    "slideshow": {
     "slide_type": "fragment"
    }
   },
   "outputs": [],
   "source": [
    "example(b=2, a=1)"
   ]
  },
  {
   "cell_type": "markdown",
   "metadata": {
    "slideshow": {
     "slide_type": "fragment"
    }
   },
   "source": [
    "Specifying keyword arguments before non-keyword arguments (this throws an error):"
   ]
  },
  {
   "cell_type": "code",
   "execution_count": null,
   "metadata": {
    "slideshow": {
     "slide_type": "fragment"
    }
   },
   "outputs": [],
   "source": [
    "example(a=2, 1)"
   ]
  },
  {
   "cell_type": "markdown",
   "metadata": {
    "slideshow": {
     "slide_type": "subslide"
    }
   },
   "source": [
    "- In general, I am used to calling required arguments in order, and any optional arguments by keyword.\n",
    "- The language allows us to deviate from this, but it can be unnecessarily confusing sometimes."
   ]
  },
  {
   "cell_type": "markdown",
   "metadata": {
    "slideshow": {
     "slide_type": "fragment"
    }
   },
   "source": [
    "#### Advanced stuff (optional):\n",
    "\n",
    "- You can also call/define functions with `*args` and `**kwargs`; see, e.g. [here](https://realpython.com/python-kwargs-and-args/)\n",
    "- Do not instantiate objects in the function definition - see [here](https://docs.python-guide.org/writing/gotchas/) under \"Mutable Default Arguments\""
   ]
  },
  {
   "cell_type": "code",
   "execution_count": 60,
   "metadata": {
    "slideshow": {
     "slide_type": "fragment"
    }
   },
   "outputs": [],
   "source": [
    "def example(a, b=[]):  # don't do this!\n",
    "    return 0"
   ]
  },
  {
   "cell_type": "code",
   "execution_count": 61,
   "metadata": {
    "slideshow": {
     "slide_type": "fragment"
    }
   },
   "outputs": [],
   "source": [
    "def example(a, b=None):  # insted, do this\n",
    "    if b is None:\n",
    "        b = []\n",
    "    return 0"
   ]
  },
  {
   "cell_type": "markdown",
   "metadata": {
    "slideshow": {
     "slide_type": "subslide"
    }
   },
   "source": [
    "### Docstrings (10 mins)"
   ]
  },
  {
   "cell_type": "markdown",
   "metadata": {
    "slideshow": {
     "slide_type": "fragment"
    }
   },
   "source": [
    "- We got pretty far above, but we never solved problem (4):  It is hard to understand what it does just by looking at it\n",
    "- Enter the idea of function documentation (and in particular docstrings)\n",
    "- The [docstring](https://www.python.org/dev/peps/pep-0257/) goes right after the `def` line."
   ]
  },
  {
   "cell_type": "code",
   "execution_count": 62,
   "metadata": {
    "slideshow": {
     "slide_type": "fragment"
    }
   },
   "outputs": [],
   "source": [
    "def make_palindrome(string):\n",
    "    \"\"\"Turns the string into a palindrome by concatenating itself with a reversed version of itself.\"\"\"\n",
    "\n",
    "    return string + string[::-1]"
   ]
  },
  {
   "cell_type": "markdown",
   "metadata": {
    "slideshow": {
     "slide_type": "fragment"
    }
   },
   "source": [
    "In IPython/Jupyter, we can use `?` to view the documentation string of any function in our environment."
   ]
  },
  {
   "cell_type": "code",
   "execution_count": 66,
   "metadata": {
    "slideshow": {
     "slide_type": "fragment"
    }
   },
   "outputs": [],
   "source": [
    "make_palindrome?"
   ]
  },
  {
   "cell_type": "code",
   "execution_count": 67,
   "metadata": {
    "slideshow": {
     "slide_type": "fragment"
    }
   },
   "outputs": [],
   "source": [
    "print?"
   ]
  },
  {
   "cell_type": "markdown",
   "metadata": {
    "slideshow": {
     "slide_type": "fragment"
    }
   },
   "source": [
    "#### Docstring structure\n",
    "\n",
    "1. **Single-line**: If it's short, then just a single line describing the function will do (as above).\n",
    "2. **PEP-8 style** Multi-line description + a list of arguments; see [here](https://www.python.org/dev/peps/pep-0257/).\n",
    "3. **Scipy style**: The most elaborate & informative; see [here](https://numpydoc.readthedocs.io/en/latest/format.html) and [here](https://sphinxcontrib-napoleon.readthedocs.io/en/latest/example_numpy.html).\n"
   ]
  },
  {
   "cell_type": "markdown",
   "metadata": {
    "slideshow": {
     "slide_type": "subslide"
    }
   },
   "source": [
    "The PEP-8 style:"
   ]
  },
  {
   "cell_type": "code",
   "execution_count": 70,
   "metadata": {
    "slideshow": {
     "slide_type": "fragment"
    }
   },
   "outputs": [],
   "source": [
    "def make_palindrome(s):\n",
    "    \"\"\"\n",
    "    Turns the string into a palindrome by concatenating itself\n",
    "    with a reversed version of itself.\n",
    "\n",
    "    Arguments:\n",
    "    s - (str) the string to turn into a palindrome\n",
    "    \"\"\"\n",
    "    return s + s[::-1]"
   ]
  },
  {
   "cell_type": "code",
   "execution_count": 73,
   "metadata": {
    "slideshow": {
     "slide_type": "fragment"
    }
   },
   "outputs": [],
   "source": [
    "make_palindrome?"
   ]
  },
  {
   "cell_type": "markdown",
   "metadata": {
    "slideshow": {
     "slide_type": "subslide"
    }
   },
   "source": [
    "The scipy style:"
   ]
  },
  {
   "cell_type": "code",
   "execution_count": null,
   "metadata": {
    "slideshow": {
     "slide_type": "fragment"
    }
   },
   "outputs": [],
   "source": [
    "def make_palindrome(s):\n",
    "    \"\"\"\n",
    "    Turn a string into a palindrome.\n",
    "\n",
    "    Turns the string into a palindrome by concatenating itself\n",
    "    with a reversed version of itself, so that the returned\n",
    "    string is twice as long as the original.\n",
    "\n",
    "    Parameters\n",
    "    ----------\n",
    "    s : str\n",
    "        The string to turn into a palindrome.\n",
    "\n",
    "    Returns\n",
    "    -------\n",
    "    str\n",
    "        The new palindrome string.\n",
    "\n",
    "    Examples\n",
    "    --------\n",
    "    >>> make_palindrome(\"abc\")\n",
    "    \"abccba\"\n",
    "    \"\"\"\n",
    "    return s + s[::-1]"
   ]
  },
  {
   "cell_type": "code",
   "execution_count": 74,
   "metadata": {
    "slideshow": {
     "slide_type": "fragment"
    }
   },
   "outputs": [
    {
     "data": {
      "text/plain": [
       "'helloolleh'"
      ]
     },
     "execution_count": 74,
     "metadata": {},
     "output_type": "execute_result"
    }
   ],
   "source": [
    "make_palindrome(\"hello\")  # press shift-tab HERE to get docstring!!"
   ]
  },
  {
   "cell_type": "markdown",
   "metadata": {
    "slideshow": {
     "slide_type": "fragment"
    }
   },
   "source": [
    "Below is the general form of the scipy docstring (reproduced from the scipy/numpy docs):"
   ]
  },
  {
   "cell_type": "code",
   "execution_count": 75,
   "metadata": {
    "slideshow": {
     "slide_type": "fragment"
    }
   },
   "outputs": [],
   "source": [
    "def function_name(param1, param2, param3):\n",
    "    \"\"\"First line is a short description of the function.\n",
    "\n",
    "    A paragraph describing in a bit more detail what the\n",
    "    function does and what algorithms it uses and common\n",
    "    use cases.\n",
    "\n",
    "    Parameters\n",
    "    ----------\n",
    "    param1 : datatype\n",
    "        A description of param1.\n",
    "    param2 : datatype\n",
    "        A description of param2.\n",
    "    param3 : datatype\n",
    "        A longer description because maybe this requires\n",
    "        more explanation and we can use several lines.\n",
    "\n",
    "    Returns\n",
    "    -------\n",
    "    datatype\n",
    "        A description of the output, datatypes and behaviours.\n",
    "        Describe special cases and anything the user needs to\n",
    "        know to use the function.\n",
    "\n",
    "    Examples\n",
    "    --------\n",
    "    >>> function_name(3,8,-5)\n",
    "    2.0\n",
    "    \"\"\""
   ]
  },
  {
   "cell_type": "markdown",
   "metadata": {
    "slideshow": {
     "slide_type": "subslide"
    }
   },
   "source": [
    "#### Docstrings with optional arguments\n",
    "\n",
    "When specifying the parameters, we specify the defaults for optional arguments:"
   ]
  },
  {
   "cell_type": "code",
   "execution_count": null,
   "metadata": {
    "slideshow": {
     "slide_type": "fragment"
    }
   },
   "outputs": [],
   "source": [
    "# PEP-8 style\n",
    "def repeat_string(s, n=2):\n",
    "    \"\"\"\n",
    "    Repeat the string s, n times.\n",
    "\n",
    "    Arguments:\n",
    "    s -- (str) the string\n",
    "    n -- (int) the number of times (default 2)\n",
    "    \"\"\"\n",
    "    return s * n"
   ]
  },
  {
   "cell_type": "code",
   "execution_count": 76,
   "metadata": {
    "slideshow": {
     "slide_type": "fragment"
    }
   },
   "outputs": [],
   "source": [
    "# scipy style\n",
    "def repeat_string(s, n=2):\n",
    "    \"\"\"\n",
    "    Repeat the string s, n times.\n",
    "\n",
    "    Parameters\n",
    "    ----------\n",
    "    s : str\n",
    "        the string\n",
    "    n : int, optional (default = 2)\n",
    "        the number of times\n",
    "\n",
    "    Returns\n",
    "    -------\n",
    "    str\n",
    "        the repeated string\n",
    "\n",
    "    Examples\n",
    "    --------\n",
    "    >>> repeat_string(\"Blah\", 3)\n",
    "    \"BlahBlahBlah\"\n",
    "    \"\"\"\n",
    "    return s * n"
   ]
  },
  {
   "cell_type": "markdown",
   "metadata": {
    "slideshow": {
     "slide_type": "subslide"
    }
   },
   "source": [
    "#### Automatically generated documentation\n",
    "\n",
    "- By following the docstring conventions, we can _automatically generate documentation_ using libraries like [sphinx](http://www.sphinx-doc.org/en/master/), [pydoc](https://docs.python.org/3.7/library/pydoc.html) or [Doxygen](http://www.doxygen.nl/).\n",
    "  - For example: compare this [documentation](https://scikit-learn.org/stable/modules/generated/sklearn.neighbors.KNeighborsClassifier.html) with this [code](https://github.com/scikit-learn/scikit-learn/blob/1495f6924/sklearn/neighbors/classification.py#L23).\n",
    "  - Notice the similarities? The webpage was automatically generated because the authors used standard conventions for docstrings!"
   ]
  },
  {
   "cell_type": "markdown",
   "metadata": {
    "slideshow": {
     "slide_type": "fragment"
    }
   },
   "source": [
    "#### What makes good documentation?\n",
    "\n",
    "- What do you think about this?"
   ]
  },
  {
   "cell_type": "code",
   "execution_count": null,
   "metadata": {
    "slideshow": {
     "slide_type": "fragment"
    }
   },
   "outputs": [],
   "source": [
    "################################\n",
    "#\n",
    "# NOT RECOMMENDED TO DO THIS!!!\n",
    "#\n",
    "################################\n",
    "\n",
    "\n",
    "def make_palindrome(string):\n",
    "    \"\"\"\n",
    "    Turns the string into a palindrome by concatenating itself\n",
    "    with a reversed version of itself. To do this, it uses the\n",
    "    Python syntax of `[::-1]` to flip the string, and stores\n",
    "    this in a variable called string_reversed. It then uses `+`\n",
    "    to concatenate the two strings and return them to the caller.\n",
    "\n",
    "    Arguments:\n",
    "    string - (str) the string to turn into a palindrome\n",
    "\n",
    "    Other variables:\n",
    "    string_reversed - (str) the reversed string\n",
    "    \"\"\"\n",
    "\n",
    "    string_reversed = string[::-1]\n",
    "    return string + string_reversed"
   ]
  },
  {
   "cell_type": "markdown",
   "metadata": {
    "slideshow": {
     "slide_type": "fragment"
    }
   },
   "source": [
    "<br><br>\n",
    "\n",
    "- This is poor documentation! More is not necessarily better!\n",
    "- Why?\n",
    "  - Very verbose\n",
    "  - Write documentation about \"what it does\" and not \"how you did it\" (that is an implementation detail)"
   ]
  },
  {
   "cell_type": "markdown",
   "metadata": {
    "slideshow": {
     "slide_type": "subslide"
    }
   },
   "source": [
    "#### Side effects (careful!)\n",
    "\n",
    "- If a function changes the variables passed into it, then it is said to have **side effects**\n",
    "- Example:"
   ]
  },
  {
   "cell_type": "code",
   "execution_count": 124,
   "metadata": {
    "slideshow": {
     "slide_type": "fragment"
    }
   },
   "outputs": [],
   "source": [
    "def silly_sum(sri):\n",
    "    sri.append(0)\n",
    "    return sum(sri)"
   ]
  },
  {
   "cell_type": "code",
   "execution_count": 125,
   "metadata": {
    "slideshow": {
     "slide_type": "fragment"
    }
   },
   "outputs": [
    {
     "data": {
      "text/plain": [
       "10"
      ]
     },
     "execution_count": 125,
     "metadata": {},
     "output_type": "execute_result"
    }
   ],
   "source": [
    "silly_sum([1, 2, 3, 4])"
   ]
  },
  {
   "cell_type": "markdown",
   "metadata": {
    "slideshow": {
     "slide_type": "fragment"
    }
   },
   "source": [
    "Looks good, like it sums the numbers? But wait...\n"
   ]
  },
  {
   "cell_type": "code",
   "execution_count": 129,
   "metadata": {
    "slideshow": {
     "slide_type": "fragment"
    }
   },
   "outputs": [
    {
     "data": {
      "text/plain": [
       "10"
      ]
     },
     "execution_count": 129,
     "metadata": {},
     "output_type": "execute_result"
    }
   ],
   "source": [
    "lst = [1, 2, 3, 4]\n",
    "silly_sum(lst)"
   ]
  },
  {
   "cell_type": "code",
   "execution_count": 127,
   "metadata": {
    "slideshow": {
     "slide_type": "fragment"
    }
   },
   "outputs": [
    {
     "data": {
      "text/plain": [
       "10"
      ]
     },
     "execution_count": 127,
     "metadata": {},
     "output_type": "execute_result"
    }
   ],
   "source": [
    "silly_sum(lst)"
   ]
  },
  {
   "cell_type": "code",
   "execution_count": 130,
   "metadata": {
    "slideshow": {
     "slide_type": "fragment"
    }
   },
   "outputs": [
    {
     "data": {
      "text/plain": [
       "[1, 2, 3, 4, 0]"
      ]
     },
     "execution_count": 130,
     "metadata": {},
     "output_type": "execute_result"
    }
   ],
   "source": [
    "lst"
   ]
  },
  {
   "cell_type": "markdown",
   "metadata": {
    "slideshow": {
     "slide_type": "fragment"
    }
   },
   "source": [
    "- If you function has side effects like this, you must mention it in the documentation (later today).\n",
    "- In general avoid this!"
   ]
  },
  {
   "cell_type": "code",
   "execution_count": null,
   "metadata": {},
   "outputs": [],
   "source": []
  }
 ],
 "metadata": {
  "celltoolbar": "Slideshow",
  "kernelspec": {
   "display_name": "Python 3 (ipykernel)",
   "language": "python",
   "name": "python3"
  },
  "language_info": {
   "codemirror_mode": {
    "name": "ipython",
    "version": 3
   },
   "file_extension": ".py",
   "mimetype": "text/x-python",
   "name": "python",
   "nbconvert_exporter": "python",
   "pygments_lexer": "ipython3",
   "version": "3.10.2"
  },
  "vscode": {
   "interpreter": {
    "hash": "4a3006030bc8f073e17f416a7c98291111bc2dc23e3286a5e86c679c75d3e5ba"
   }
  }
 },
 "nbformat": 4,
 "nbformat_minor": 4
}
