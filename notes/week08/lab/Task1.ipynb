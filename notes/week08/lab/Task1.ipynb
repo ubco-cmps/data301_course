{
 "cells": [
  {
   "cell_type": "markdown",
   "id": "8d037f1f-7ac9-4642-a1d0-9f1710f56d38",
   "metadata": {},
   "source": [
    "## Task 1: Practice with Pandas\n"
   ]
  },
  {
   "cell_type": "code",
   "execution_count": 1,
   "id": "2cb5d5e7-5cd4-4710-98fb-f3f5e3c3e0ba",
   "metadata": {},
   "outputs": [],
   "source": [
    "import pandas as pd"
   ]
  },
  {
   "attachments": {},
   "cell_type": "markdown",
   "id": "150f1099",
   "metadata": {},
   "source": [
    "\n",
    "### Task 1.1: Join/Merge three datasets together\n",
    "\n",
    "Your task is to take three separate datasets (`grades1a.csv`, `grades1b.csv`, `grades1c.csv` -> find them in the **data** folder) and merge them together.\n",
    "You may find the [documentation](https://pandas.pydata.org/pandas-docs/stable/user_guide/merging.html) helpful as it contains some visualizations to help you understand the different merges and joins that are possible.\n",
    "\n",
    "**Restriction: There are no restrictions for this task.**\n",
    "\n",
    "The final dataset should look like this:\n",
    "\n",
    "### Sample Output\n",
    "\n",
    "|    | Name             |   Student ID |   Chemistry |   Physics |   Math |\n",
    "|---:|:-----------------|-------------:|------------:|----------:|-------:|\n",
    "|  0 | Lila Oni         |        12001 |          59 |        90 |     45 |\n",
    "|  1 | Amina Chimwala   |        12002 |          54 |        42 |     85 |\n",
    "|  2 | Neda Makena      |        12003 |          42 |        88 |     54 |\n",
    "|  3 | Shanthi Catrina  |        12004 |          66 |        48 |     64 |\n",
    "|  4 | Deirbhile Bhavna |        12005 |          60 |        80 |     72 |\n",
    "|  5 | Ige Aifric       |        12006 |          78 |        73 |     64 |\n",
    "|  6 | Firouzeh Rudo    |        12007 |          64 |        43 |     67 |\n",
    "|  7 | Desta Jahanara   |        12008 |          82 |        69 |     70 |\n",
    "|  8 | Taiwo Sona       |        12009 |          63 |        54 |     80 |\n",
    "|  9 | Fíona Finnguala  |        12010 |          41 |        52 |     70 |"
   ]
  },
  {
   "cell_type": "code",
   "execution_count": 2,
   "id": "098e8585-1f84-485b-b6ca-d06a04726849",
   "metadata": {},
   "outputs": [],
   "source": [
    "#Your Answer Here"
   ]
  },
  {
   "cell_type": "markdown",
   "id": "689996e6-784d-46fa-aea3-ab4d43585145",
   "metadata": {},
   "source": [
    "### Task 1.2: Combine two datasets with different keys\n",
    "\n",
    "Your task is to merge two datasets together on the \"Student ID\" column in `grades2a.csv` and the \"SID\" column in the file `grades2b.csv` (`csv` files are located in the data folder).\n",
    "\n",
    "You can do this any way you like that matches the Sample Output (there are multiple ways of doing it) but please explain how you did it (and why).\n",
    "\n",
    "**Restriction: There are no restrictions for this task.**\n",
    "\n",
    "#### Sample Output\n",
    "\n",
    "|    | Name             |   Student ID |   Chemistry |   Physics |   Math |\n",
    "|---:|:-----------------|-------------:|------------:|----------:|-------:|\n",
    "|  0 | Lila Oni         |        12001 |          59 |        90 |     45 |\n",
    "|  1 | Amina Chimwala   |        12002 |          54 |        42 |     85 |\n",
    "|  2 | Neda Makena      |        12003 |          42 |        88 |     54 |\n",
    "|  3 | Shanthi Catrina  |        12004 |          66 |        48 |     64 |\n",
    "|  4 | Deirbhile Bhavna |        12005 |          60 |        80 |     72 |\n",
    "|  5 | Ige Aifric       |        12006 |          78 |        73 |     64 |\n",
    "|  6 | Firouzeh Rudo    |        12007 |          64 |        43 |     67 |\n",
    "|  7 | Desta Jahanara   |        12008 |          82 |        69 |     70 |\n",
    "|  8 | Taiwo Sona       |        12009 |          63 |        54 |     80 |\n",
    "|  9 | Fíona Finnguala  |        12010 |          41 |        52 |     70 |"
   ]
  },
  {
   "cell_type": "code",
   "execution_count": 5,
   "id": "3138e445-eccc-488a-8a32-996d53bcc10f",
   "metadata": {},
   "outputs": [],
   "source": [
    "#Your Answer Here"
   ]
  },
  {
   "cell_type": "markdown",
   "id": "a7f1f9ea-53a5-49c0-8a2b-8e3615ad0e9c",
   "metadata": {},
   "source": [
    "### Task 1.3: Merge dataframes and keep only overlapping rows\n",
    "\n",
    "Often it is useful to try a bunch of different merge operations on a dataset to identify what parts of the data overlap, and what parts are disparate.\n",
    "With the overlapping rows, you can then look at the value from the left, and the value from the right to compare them to see if there is any ambiguity if you chose to merge the dataframes.\n",
    "\n",
    "In this question, you will use the same data as in Task 2 (`grades2a.csv` and `grades2b.csv`) and try to identify which rows are duplicates, or appear in both datasets.\n",
    "\n",
    "**Restriction: For this Task, you CANNOT rename columns.**\n",
    "\n",
    "#### Sample Output\n",
    "\n",
    "|    | Name_x           |   Student ID |   Chemistry_x |   Physics_x |   Math_x | Name_y           |   SID |   Chemistry_y |   Physics_y |   Math_y |\n",
    "|---:|:-----------------|-------------:|--------------:|------------:|---------:|:-----------------|------:|--------------:|------------:|---------:|\n",
    "|  0 | Shanthi Catrina  |        12004 |            66 |          48 |       64 | Shanthi Catrina  | 12004 |            66 |          48 |       64 |\n",
    "|  1 | Deirbhile Bhavna |        12005 |            60 |          80 |       72 | Deirbhile Bhavna | 12005 |            60 |          80 |       72 |\n",
    "|  2 | Ige Aifric       |        12006 |            78 |          73 |       64 | Ige Aifric       | 12006 |            78 |          73 |       64 |"
   ]
  },
  {
   "cell_type": "code",
   "execution_count": 6,
   "id": "340f7bee-8abb-4848-b897-c7478407e214",
   "metadata": {},
   "outputs": [],
   "source": [
    "#Your Answer Here"
   ]
  }
 ],
 "metadata": {
  "kernelspec": {
   "display_name": "Python 3",
   "language": "python",
   "name": "python3"
  },
  "language_info": {
   "codemirror_mode": {
    "name": "ipython",
    "version": 3
   },
   "file_extension": ".py",
   "mimetype": "text/x-python",
   "name": "python",
   "nbconvert_exporter": "python",
   "pygments_lexer": "ipython3",
   "version": "3.10.2"
  },
  "vscode": {
   "interpreter": {
    "hash": "4a3006030bc8f073e17f416a7c98291111bc2dc23e3286a5e86c679c75d3e5ba"
   }
  }
 },
 "nbformat": 4,
 "nbformat_minor": 5
}
