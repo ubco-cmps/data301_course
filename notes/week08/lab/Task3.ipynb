{
 "cells": [
  {
   "attachments": {},
   "cell_type": "markdown",
   "metadata": {},
   "source": [
    "# Task 3: Method Chaining"
   ]
  },
  {
   "attachments": {},
   "cell_type": "markdown",
   "metadata": {},
   "source": [
    "Remember to run this cell below to import all the necessary packages needed."
   ]
  },
  {
   "cell_type": "code",
   "execution_count": 1,
   "metadata": {},
   "outputs": [],
   "source": [
    "import pandas as pd\n",
    "import numpy as np\n",
    "import matplotlib.pyplot as plt\n",
    "import seaborn as sns"
   ]
  },
  {
   "cell_type": "markdown",
   "metadata": {},
   "source": [
    "## Method Chaining"
   ]
  },
  {
   "attachments": {},
   "cell_type": "markdown",
   "metadata": {},
   "source": [
    "Method chaining allows you to apply multiple processing steps to your dataframe in a fewer lines of code so it is more readable. You should avoid having too many methods in your chain, as the more you have in a single chain, the harder it is to debug or troubleshoot. I would target about 5 methods in a chain, though this is a flexible suggestion and you should do what makes your analysis the most readable and group your chains based on their purpose (e.g., loading/cleaning, processing, etc…).\n"
   ]
  },
  {
   "attachments": {},
   "cell_type": "markdown",
   "metadata": {},
   "source": [
    "## Load Dataset \n",
    "\n",
    "We will start with the original data from the [pokémon dataset](https://github.com/firasm/bits/raw/master/pokemon.csv)."
   ]
  },
  {
   "cell_type": "code",
   "execution_count": 2,
   "metadata": {},
   "outputs": [],
   "source": [
    "pokemon = pd.read_csv('https://github.com/firasm/bits/raw/master/pokemon.csv')"
   ]
  },
  {
   "attachments": {},
   "cell_type": "markdown",
   "metadata": {},
   "source": [
    "### 3.1. Create a Method Chain on the cleaning/wrangling/processing steps.\n",
    "\n",
    "You should write **\"one method chain\"** that does all these commands:\n",
    "\n",
    "*(Hint: You've done these modifications before on Lab 5: Task 1.5)*\n",
    "\n",
    "1. Drop the 'Generation', 'Sp. Atk', 'Sp. Def', 'Total', and the '#' columns\n",
    "2. Drop any NaN values in HP, Attack, Defense, Speed\n",
    "3. Reset the index to get a new index without missing values\n",
    "4. A new column was added called `index`; remove it. \n",
    "5. Calculate a new column called \"Weighted Score\" that computes an aggregate score comprising:\n",
    "    - 20% 'HP'\n",
    "    - 40% 'Attack'\n",
    "    - 30% 'Defense'\n",
    "    - 10% 'Speed'"
   ]
  },
  {
   "cell_type": "code",
   "execution_count": 3,
   "metadata": {},
   "outputs": [],
   "source": [
    "# Your Solution here"
   ]
  },
  {
   "attachments": {},
   "cell_type": "markdown",
   "metadata": {},
   "source": [
    "## Load Dataset \n",
    "\n",
    "We will start with the original data from the [pokémon dataset](https://github.com/firasm/bits/raw/master/pokemon.csv)."
   ]
  },
  {
   "cell_type": "code",
   "execution_count": 4,
   "metadata": {},
   "outputs": [],
   "source": [
    "pokemon = pd.read_csv('https://github.com/firasm/bits/raw/master/pokemon.csv')"
   ]
  },
  {
   "attachments": {},
   "cell_type": "markdown",
   "metadata": {},
   "source": [
    "### 3.2. Create a second Method Chain to do the tasks below:\n",
    "\n",
    "You should write **\"one method chain\"** that does all these:\n",
    "\n",
    "1. Remove all Pokémon 6th generation and above.\n",
    "2. Remove the Legendary column.\n",
    "3. Remove all rows that contain \"Forme\", a special form of Pokémon.\n",
    "4. Remove all rows that contain \"Mega\", another weird special form of Pokémon.\n",
    "\n",
    "**Hint: You will need to use the [.loc](https://towardsdatascience.com/effective-data-filtering-in-pandas-using-loc-40eb815455b6) in combination with the anonymous function lambda.**"
   ]
  },
  {
   "cell_type": "code",
   "execution_count": 5,
   "metadata": {},
   "outputs": [],
   "source": [
    "# Your Solution here"
   ]
  }
 ],
 "metadata": {
  "kernelspec": {
   "display_name": "Python 3",
   "language": "python",
   "name": "python3"
  },
  "language_info": {
   "codemirror_mode": {
    "name": "ipython",
    "version": 3
   },
   "file_extension": ".py",
   "mimetype": "text/x-python",
   "name": "python",
   "nbconvert_exporter": "python",
   "pygments_lexer": "ipython3",
   "version": "3.10.2"
  },
  "nteract": {
   "version": "0.28.0"
  },
  "vscode": {
   "interpreter": {
    "hash": "4a3006030bc8f073e17f416a7c98291111bc2dc23e3286a5e86c679c75d3e5ba"
   }
  }
 },
 "nbformat": 4,
 "nbformat_minor": 4
}
