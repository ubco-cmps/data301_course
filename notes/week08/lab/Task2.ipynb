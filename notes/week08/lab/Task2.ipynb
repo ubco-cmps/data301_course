{
 "cells": [
  {
   "attachments": {},
   "cell_type": "markdown",
   "id": "0c46a4ac-1442-4e54-8b2e-19fe795c4125",
   "metadata": {
    "tags": []
   },
   "source": [
    "# Task 2: Reflecting on Merge Types\n"
   ]
  },
  {
   "attachments": {},
   "cell_type": "markdown",
   "id": "8e32be7e",
   "metadata": {},
   "source": [
    "Remember to run this cell below to import all the necessary packages needed."
   ]
  },
  {
   "cell_type": "code",
   "execution_count": 1,
   "id": "2df91ab0-dcd7-46a2-b6bc-07964473543c",
   "metadata": {},
   "outputs": [],
   "source": [
    "import pandas as pd"
   ]
  },
  {
   "cell_type": "markdown",
   "id": "aec2370b",
   "metadata": {},
   "source": [
    "\n",
    "### Task 2.1 - Table\n",
    "\n",
    "The first part of this question is to fill out a table in words. For each merge type, write a sentence or two to explain each merge type. "
   ]
  },
  {
   "cell_type": "markdown",
   "id": "0dded523-3990-4590-a391-7c479e6d3e87",
   "metadata": {},
   "source": [
    "#### Table To Fill In:\n",
    "\n",
    "| Merge Type | Explanation |\n",
    "| ---------- | ----------- |\n",
    "| Left join  | # Your sentence here |\n",
    "| Right join | # Your sentence here |\n",
    "| Outer join | # Your sentence here |\n",
    "| Inner join | # Your sentence here |\n",
    "| Cross join | # Your sentence here |\n"
   ]
  },
  {
   "cell_type": "markdown",
   "id": "2d8d7d19-8158-4242-bc6d-e512392eb2f6",
   "metadata": {},
   "source": [
    "### Task 2.2 - Visualization\n",
    "\n",
    "The second part of this question is to find (with citation) or create a diagram to explain the merge types visually.\n",
    "\n",
    "Find (or create/sketch) a visualization/graphic/picture that makes sense to you on the different types of join, and **explain it** (in words) so you can crystallize your understanding of the merge types and how they work practically.\n",
    "\n",
    "**Note: Please clearly cite and reference any graphic with a link and some text that you choose to use from external sources.**"
   ]
  },
  {
   "cell_type": "code",
   "execution_count": 2,
   "id": "a15b6cf4-6c19-42d0-b159-d9e17136e0d5",
   "metadata": {},
   "outputs": [],
   "source": [
    "# Your Solution Here (Switch this to a markdown cell, and make sure you include an image using `![](img.png)`)"
   ]
  }
 ],
 "metadata": {
  "kernelspec": {
   "display_name": "Python 3",
   "language": "python",
   "name": "python3"
  },
  "language_info": {
   "codemirror_mode": {
    "name": "ipython",
    "version": 3
   },
   "file_extension": ".py",
   "mimetype": "text/x-python",
   "name": "python",
   "nbconvert_exporter": "python",
   "pygments_lexer": "ipython3",
   "version": "3.10.2"
  },
  "vscode": {
   "interpreter": {
    "hash": "4a3006030bc8f073e17f416a7c98291111bc2dc23e3286a5e86c679c75d3e5ba"
   }
  }
 },
 "nbformat": 4,
 "nbformat_minor": 5
}
