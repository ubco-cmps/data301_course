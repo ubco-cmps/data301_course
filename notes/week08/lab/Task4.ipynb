{
 "cells": [
  {
   "attachments": {},
   "cell_type": "markdown",
   "metadata": {},
   "source": [
    "# Task 4: Dataframe Modifications"
   ]
  },
  {
   "attachments": {},
   "cell_type": "markdown",
   "metadata": {},
   "source": [
    "Remember to run this cell below to import all the necessary packages needed."
   ]
  },
  {
   "cell_type": "code",
   "execution_count": 1,
   "metadata": {},
   "outputs": [],
   "source": [
    "import pandas as pd\n",
    "import numpy as np\n",
    "import matplotlib.pyplot as plt\n",
    "import seaborn as sns"
   ]
  },
  {
   "attachments": {},
   "cell_type": "markdown",
   "metadata": {},
   "source": [
    "## Dataframe Modification\n",
    "\n",
    "Dataframes can be manipulated and modified in many ways! Pandas provides you with many tools/methods to do this. For this Task, we will be exploring two different methods; [apply](https://pandas.pydata.org/docs/reference/api/pandas.DataFrame.apply.html) and [assign](https://pandas.pydata.org/docs/reference/api/pandas.DataFrame.assign.html). The documentation gives you an overview of what each method does, but we will learn how to best utilize these methods effectively.\n",
    "\n",
    "Firstly, let's get a proper dataframe to work with! Let's import the Pokemon dataset again from this [link](https://raw.githubusercontent.com/firasm/bits/master/pokemon.csv), and save it into a dataframe called `df`."
   ]
  },
  {
   "cell_type": "code",
   "execution_count": 4,
   "metadata": {},
   "outputs": [],
   "source": [
    "df = pd.read_csv('https://github.com/firasm/bits/raw/master/pokemon.csv')"
   ]
  },
  {
   "attachments": {},
   "cell_type": "markdown",
   "metadata": {},
   "source": [
    "## Task 4.1: **apply()**\n",
    "\n",
    "Let's have a look at the `apply()` method. As you've read from the documentation, the method can take in any function, and **apply** any pre-defined function to your dataframe! \n",
    "\n",
    "This allows you to make some fairly sophisticated additions and changes to your dataframe, and can show you extremely useful information!"
   ]
  },
  {
   "attachments": {},
   "cell_type": "markdown",
   "metadata": {},
   "source": [
    "### 4.1.1\n",
    "\n",
    "Let's start off with something simple!\n",
    "The pokemon that you've found have been attacked with a virus that cuts their health points!\n",
    "Due to this virus, all pokémon **health points (HP_** have been reduced the cube root of their original **HP**.\n",
    "\n",
    "Take the cube-root all of the **HP** values in the `df` you made above using the `apply()` function. \n",
    "\n",
    "Your final dataframe should match something this:"
   ]
  },
  {
   "attachments": {},
   "cell_type": "markdown",
   "metadata": {},
   "source": [
    "**Sample Output**\n",
    "|     |   # | Name                      | Type 1   | Type 2   |   Total |        HP |   Attack |   Defense |   Sp. Atk |   Sp. Def |   Speed |   Generation | Legendary   |\n",
    "|----:|----:|:--------------------------|:---------|:---------|--------:|----------:|---------:|----------:|----------:|----------:|--------:|-------------:|:------------|\n",
    "|   0 |   1 | Bulbasaur                 | Grass    | Poison   |     318 |   3.55689 |       49 |        49 |        65 |        65 |      45 |            1 | False       |\n",
    "|   1 |   2 | Ivysaur                   | Grass    | Poison   |     405 |   3.91487 |       62 |        63 |        80 |        80 |      60 |            1 | False       |\n",
    "|   2 |   3 | Venusaur                  | Grass    | Poison   |     525 |   4.30887 |       82 |        83 |       100 |       100 |      80 |            1 | False       |\n",
    "|   3 |   3 | VenusaurMega Venusaur     | Grass    | Poison   |     625 |   4.30887 |      100 |       123 |       122 |       120 |      80 |            1 | False       |\n",
    "|   4 |   4 | Charmander                | Fire     | nan      |     309 |   3.39121 |       52 |        43 |        60 |        50 |      65 |            1 | False       |\n",
    "|   5 |   5 | Charmeleon                | Fire     | nan      |     405 |   3.87088 |       64 |        58 |        80 |        65 |      80 |            1 | False       |\n"
   ]
  },
  {
   "cell_type": "code",
   "execution_count": 6,
   "metadata": {},
   "outputs": [],
   "source": [
    "# Your solution here"
   ]
  },
  {
   "attachments": {},
   "cell_type": "markdown",
   "metadata": {},
   "source": [
    "As you can see, it is possible to modify just value within a single column, but it requires some manoeuvring! \n",
    "\n",
    "Nice job!"
   ]
  },
  {
   "attachments": {},
   "cell_type": "markdown",
   "metadata": {},
   "source": [
    "### 4.1.2\n",
    "\n",
    "After figuring out who attacked them, all 800 of your pokemon are ready to fight back! \n",
    "You use a stardust and candy to give them a temporary increase to their health status, and double their attack power!\n",
    "\n",
    "- Create a new column called `Temporary Health` that returns their health value back to normal. *(Hint: You used a cube root above, how would you reverse that?)*\n",
    "- Create a new column called `Temporary Attack` that doubles their attack power.\n",
    "\n",
    "Your final dataframe should match something this:"
   ]
  },
  {
   "attachments": {},
   "cell_type": "markdown",
   "metadata": {},
   "source": [
    "**Sample Output**\n",
    "|     |   # | Name                      | Type 1   | Type 2   |   Total |        HP |   Attack |   Defense |   Sp. Atk |   Sp. Def |   Speed |   Generation | Legendary   |   Temporary Health |   Temporary Attack |\n",
    "|----:|----:|:--------------------------|:---------|:---------|--------:|----------:|---------:|----------:|----------:|----------:|--------:|-------------:|:------------|-------------------:|-------------------:|\n",
    "|   0 |   1 | Bulbasaur                 | Grass    | Poison   |     318 |   3.55689 |       49 |        49 |        65 |        65 |      45 |            1 | False       |                 45 |                 98 |\n",
    "|   1 |   2 | Ivysaur                   | Grass    | Poison   |     405 |   3.91487 |       62 |        63 |        80 |        80 |      60 |            1 | False       |                 60 |                124 |\n",
    "|   2 |   3 | Venusaur                  | Grass    | Poison   |     525 |   4.30887 |       82 |        83 |       100 |       100 |      80 |            1 | False       |                 80 |                164 |\n",
    "|   3 |   3 | VenusaurMega Venusaur     | Grass    | Poison   |     625 |   4.30887 |      100 |       123 |       122 |       120 |      80 |            1 | False       |                 80 |                200 |\n",
    "|   4 |   4 | Charmander                | Fire     | nan      |     309 |   3.39121 |       52 |        43 |        60 |        50 |      65 |            1 | False       |                 39 |                104 |\n",
    "|   5 |   5 | Charmeleon                | Fire     | nan      |     405 |   3.87088 |       64 |        58 |        80 |        65 |      80 |            1 | False       |                 58 |                128 |\n"
   ]
  },
  {
   "cell_type": "code",
   "execution_count": 8,
   "metadata": {},
   "outputs": [],
   "source": [
    "# Your solution here"
   ]
  },
  {
   "attachments": {},
   "cell_type": "markdown",
   "metadata": {},
   "source": [
    "As you can see, the `apply()` method can have a lot of uses! Nice job figuring out how to use the method effectively in conjunction with your own pre-defined methods.\n"
   ]
  },
  {
   "attachments": {},
   "cell_type": "markdown",
   "metadata": {},
   "source": [
    "## Task 4.2: **Assign**\n",
    "\n",
    "Let's have a look at the assign method! It will create new columns and return the original dataframe with the new columns that were just made, this is especially useful when having aggregate columns e.g Task 3.1 makes you create a **new** column based on their scores.\n",
    "\n",
    "Before we get started, re-import the pokemon dataset into the same variable `df`. "
   ]
  },
  {
   "cell_type": "code",
   "execution_count": 9,
   "metadata": {},
   "outputs": [],
   "source": [
    "df = pd.read_csv('https://github.com/firasm/bits/raw/master/pokemon.csv')"
   ]
  },
  {
   "attachments": {},
   "cell_type": "markdown",
   "metadata": {},
   "source": [
    "### 4.2.1\n",
    "\n",
    "Create a new column called `Special_Power` that multiplies the values of the `Sp. Atk` and `Sp. Def`. \n",
    "\n",
    "Your final dataframe should match something this:"
   ]
  },
  {
   "attachments": {},
   "cell_type": "markdown",
   "metadata": {},
   "source": [
    "**Sample Output**\n",
    "\n",
    "|     |   # | Name                      | Type 1   | Type 2   |   Total |   HP |   Attack |   Defense |   Sp. Atk |   Sp. Def |   Speed |   Generation | Legendary   |   Special_Power |\n",
    "|----:|----:|:--------------------------|:---------|:---------|--------:|-----:|---------:|----------:|----------:|----------:|--------:|-------------:|:------------|----------------:|\n",
    "|   0 |   1 | Bulbasaur                 | Grass    | Poison   |     318 |   45 |       49 |        49 |        65 |        65 |      45 |            1 | False       |            4225 |\n",
    "|   1 |   2 | Ivysaur                   | Grass    | Poison   |     405 |   60 |       62 |        63 |        80 |        80 |      60 |            1 | False       |            6400 |\n",
    "|   2 |   3 | Venusaur                  | Grass    | Poison   |     525 |   80 |       82 |        83 |       100 |       100 |      80 |            1 | False       |           10000 |\n",
    "|   3 |   3 | VenusaurMega Venusaur     | Grass    | Poison   |     625 |   80 |      100 |       123 |       122 |       120 |      80 |            1 | False       |           14640 |\n",
    "|   4 |   4 | Charmander                | Fire     | nan      |     309 |   39 |       52 |        43 |        60 |        50 |      65 |            1 | False       |            3000 |\n",
    "|   5 |   5 | Charmeleon                | Fire     | nan      |     405 |   58 |       64 |        58 |        80 |        65 |      80 |            1 | False       |            5200 |\n"
   ]
  },
  {
   "cell_type": "code",
   "execution_count": 10,
   "metadata": {},
   "outputs": [],
   "source": [
    "# Your solution here"
   ]
  },
  {
   "attachments": {},
   "cell_type": "markdown",
   "metadata": {},
   "source": [
    "### 4.2.2\n",
    "\n",
    "Create a new column called `Type_Combined` that combines both types of all the pokemon into one large string.\n",
    "\n",
    "Your final dataframe should match something this:"
   ]
  },
  {
   "attachments": {},
   "cell_type": "markdown",
   "metadata": {},
   "source": [
    "**Sample Output**\n",
    "|     |   # | Name                      | Type 1   | Type 2   |   Total |   HP |   Attack |   Defense |   Sp. Atk |   Sp. Def |   Speed |   Generation | Legendary   |   Special_Power | Type_Combined   |\n",
    "|----:|----:|:--------------------------|:---------|:---------|--------:|-----:|---------:|----------:|----------:|----------:|--------:|-------------:|:------------|----------------:|:----------------|\n",
    "|   0 |   1 | Bulbasaur                 | Grass    | Poison   |     318 |   45 |       49 |        49 |        65 |        65 |      45 |            1 | False       |            4225 | GrassPoison     |\n",
    "|   1 |   2 | Ivysaur                   | Grass    | Poison   |     405 |   60 |       62 |        63 |        80 |        80 |      60 |            1 | False       |            6400 | GrassPoison     |\n",
    "|   2 |   3 | Venusaur                  | Grass    | Poison   |     525 |   80 |       82 |        83 |       100 |       100 |      80 |            1 | False       |           10000 | GrassPoison     |\n",
    "|   3 |   3 | VenusaurMega Venusaur     | Grass    | Poison   |     625 |   80 |      100 |       123 |       122 |       120 |      80 |            1 | False       |           14640 | GrassPoison     |\n",
    "|   4 |   4 | Charmander                | Fire     | nan      |     309 |   39 |       52 |        43 |        60 |        50 |      65 |            1 | False       |            3000 | nan             |\n",
    "|   5 |   5 | Charmeleon                | Fire     | nan      |     405 |   58 |       64 |        58 |        80 |        65 |      80 |            1 | False       |            5200 | nan             |\n",
    "\n"
   ]
  },
  {
   "cell_type": "code",
   "execution_count": 11,
   "metadata": {},
   "outputs": [],
   "source": [
    "# Your solution here\n"
   ]
  }
 ],
 "metadata": {
  "kernelspec": {
   "display_name": "Python 3",
   "language": "python",
   "name": "python3"
  },
  "language_info": {
   "codemirror_mode": {
    "name": "ipython",
    "version": 3
   },
   "file_extension": ".py",
   "mimetype": "text/x-python",
   "name": "python",
   "nbconvert_exporter": "python",
   "pygments_lexer": "ipython3",
   "version": "3.10.2"
  },
  "orig_nbformat": 4,
  "vscode": {
   "interpreter": {
    "hash": "4a3006030bc8f073e17f416a7c98291111bc2dc23e3286a5e86c679c75d3e5ba"
   }
  }
 },
 "nbformat": 4,
 "nbformat_minor": 2
}
