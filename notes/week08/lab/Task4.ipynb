{
 "cells": [
  {
   "cell_type": "markdown",
   "id": "ceb6d4d0-02a0-4991-bfd2-6bd3d65cacf9",
   "metadata": {},
   "source": [
    "## Task 4 - Dictionaries, Lists and data manipulation\n",
    "\n",
    "In this part we explore another fundamental data structure in python, called Dictionaries."
   ]
  },
  {
   "cell_type": "markdown",
   "id": "d4e11385-1aa8-4626-aba6-e2182ea87d18",
   "metadata": {},
   "source": [
    "### 4.1: Create a dictionary that has 3 keys: name, age and salary, and enter in the following dummy information.\n",
    "\n",
    "#### Sample output\n",
    "> {'name': 'Tim Cook', 'age': 59, 'salary': 3000000.0}"
   ]
  },
  {
   "cell_type": "code",
   "execution_count": 1,
   "id": "49238d2f-0ce1-4677-858b-24996ac90051",
   "metadata": {},
   "outputs": [],
   "source": [
    "#Your Solution Here\n"
   ]
  },
  {
   "cell_type": "markdown",
   "id": "41639b9a-af4a-4e2c-ae96-2ef81df91d5b",
   "metadata": {},
   "source": [
    "### 4.2: Create a second dictionary, this time with at least 5 different names, ages, and salaries.\n",
    "\n",
    "*Hint: There should only be three keys, and the values should be a list.*\n",
    "\n",
    "#### Sample Output\n",
    "\n",
    "> {'name': ['Tim Cook', 'Person 2', 'Person 3'],\n",
    "> 'age': [59, 24, 40],\n",
    "> 'salary': [30000000.0, 200000.0, 900000.0]}"
   ]
  },
  {
   "cell_type": "code",
   "execution_count": 1,
   "id": "0fe655ba-7bd2-4fc4-af56-06d76a989e60",
   "metadata": {},
   "outputs": [],
   "source": [
    "#Your Solution Here\n"
   ]
  },
  {
   "cell_type": "markdown",
   "id": "4f1701ad-a734-46c1-a5ad-0bf6dfb6ddfc",
   "metadata": {},
   "source": [
    "### 4.3: Create a pandas dataframe using the dictionary you created above\n",
    "\n",
    "**Hint: Use the `pd.DataFrame.from_dict()` method**\n",
    "\n",
    "#### Sample output\n",
    "![](images/df.png)"
   ]
  },
  {
   "cell_type": "code",
   "execution_count": 1,
   "id": "c5b14545-9570-4f74-867c-cc18dd745939",
   "metadata": {},
   "outputs": [],
   "source": [
    "#Your Solution Here\n"
   ]
  },
  {
   "cell_type": "markdown",
   "id": "1702b529-4aac-4052-91fa-c5fd285f742b",
   "metadata": {},
   "source": [
    "### 4.4: Rename all three columns of the dataframe\n",
    "\n",
    "*Hint: you should use the pandas function [rename()](https://pandas.pydata.org/pandas-docs/stable/reference/api/pandas.DataFrame.rename.html) to accomplish this. You can rename it to whatever you like, just show us you are able to use this function*\n"
   ]
  },
  {
   "cell_type": "code",
   "execution_count": 2,
   "id": "28240cd0-b721-4453-86e6-49d339f98ccc",
   "metadata": {},
   "outputs": [],
   "source": [
    "# Your Solution Here"
   ]
  }
 ],
 "metadata": {
  "kernelspec": {
   "display_name": "Python 3 (ipykernel)",
   "language": "python",
   "name": "python3"
  },
  "language_info": {
   "codemirror_mode": {
    "name": "ipython",
    "version": 3
   },
   "file_extension": ".py",
   "mimetype": "text/x-python",
   "name": "python",
   "nbconvert_exporter": "python",
   "pygments_lexer": "ipython3",
   "version": "3.9.7"
  }
 },
 "nbformat": 4,
 "nbformat_minor": 5
}
