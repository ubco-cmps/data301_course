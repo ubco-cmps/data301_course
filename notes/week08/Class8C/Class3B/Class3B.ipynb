{
 "cells": [
  {
   "cell_type": "markdown",
   "id": "605a367a-6f83-484a-b18c-8ab25f753c72",
   "metadata": {
    "slideshow": {
     "slide_type": "slide"
    }
   },
   "source": [
    "# Class 3B. Branches and Pull Requests with Git"
   ]
  },
  {
   "cell_type": "markdown",
   "id": "cbfba1dd-addb-4d6a-a98a-c37402cf5fc7",
   "metadata": {
    "slideshow": {
     "slide_type": "fragment"
    }
   },
   "source": [
    "Before this class, please make sure you [watch the assigned Git videos on this page](../videos.md)."
   ]
  },
  {
   "cell_type": "markdown",
   "id": "b476160b-b38e-4872-9059-f006e0093d8b",
   "metadata": {
    "slideshow": {
     "slide_type": "slide"
    }
   },
   "source": [
    "## Lecture Outline"
   ]
  },
  {
   "cell_type": "markdown",
   "id": "cadd16fd-a569-4e14-9948-d2c280fb5187",
   "metadata": {
    "slideshow": {
     "slide_type": "fragment"
    }
   },
   "source": [
    "**1. Announcements and Recap (5 mins)**"
   ]
  },
  {
   "cell_type": "markdown",
   "id": "78b66061-4d33-4112-988c-3e99a173325b",
   "metadata": {
    "slideshow": {
     "slide_type": "fragment"
    }
   },
   "source": [
    "**2. Introduction to Branches and Pull Requests (10 mins)**"
   ]
  },
  {
   "cell_type": "markdown",
   "id": "99101059-d771-4d06-a462-218d3d282272",
   "metadata": {
    "slideshow": {
     "slide_type": "fragment"
    }
   },
   "source": [
    "**3. Guided Activity: Create a Branch, submit a Pull Request (25 mins)**"
   ]
  },
  {
   "cell_type": "markdown",
   "id": "85a136b8-fe8e-498b-a837-408081cbc1b1",
   "metadata": {
    "slideshow": {
     "slide_type": "fragment"
    }
   },
   "source": [
    "**Break (5 mins)**"
   ]
  },
  {
   "cell_type": "markdown",
   "id": "9a0b8078-d13f-46a1-983f-e4c65aa620df",
   "metadata": {
    "slideshow": {
     "slide_type": "fragment"
    }
   },
   "source": [
    "**4. Project Activity (25 mins)**"
   ]
  },
  {
   "cell_type": "markdown",
   "id": "8cb52ad1-4bd9-4185-97b1-053b4a0fbdfe",
   "metadata": {
    "slideshow": {
     "slide_type": "fragment"
    }
   },
   "source": [
    "**5. Tour of the Jupyter Lab Interface (10 mins)**"
   ]
  },
  {
   "cell_type": "markdown",
   "id": "7509a645-d292-47d3-889a-db28ae3db9c2",
   "metadata": {
    "slideshow": {
     "slide_type": "slide"
    }
   },
   "source": [
    "## Part 1. Announcements (5 mins)"
   ]
  },
  {
   "cell_type": "markdown",
   "id": "077306a4-367c-4cf4-988e-00a84993fd65",
   "metadata": {
    "slideshow": {
     "slide_type": "fragment"
    }
   },
   "source": [
    "- Lab 2 will be due **Saturday September 24, 2022 at 6 PM**"
   ]
  },
  {
   "cell_type": "markdown",
   "id": "6804837d-03b3-43aa-ba07-1b06bf3275cf",
   "metadata": {
    "slideshow": {
     "slide_type": "fragment"
    }
   },
   "source": [
    "- My office hours will be 30 minutes after every class on Tuesday, Thursday 17:00 - 17:30. You can also ask for help anytime on Ed Discussion, as well as visiting any of the labs."
   ]
  },
  {
   "cell_type": "markdown",
   "id": "370e87ae",
   "metadata": {
    "slideshow": {
     "slide_type": "fragment"
    }
   },
   "source": [
    "- Project Details released today, Milestone 1 will be due next week"
   ]
  },
  {
   "cell_type": "markdown",
   "id": "a3ad5c3d-ed14-47fd-bb53-35695fc0398d",
   "metadata": {
    "slideshow": {
     "slide_type": "slide"
    }
   },
   "source": [
    "## Part 2. Introduction to Branches and Pull Requests (20 mins)"
   ]
  },
  {
   "cell_type": "markdown",
   "id": "46b92985-c6f5-4736-b8be-af242f764f7c",
   "metadata": {
    "slideshow": {
     "slide_type": "fragment"
    }
   },
   "source": [
    "### Create and switch to a new branch\n",
    "\n",
    "To checkout a new branch that **doesn't already exist**, use:\n",
    "\n",
    "```\n",
    "git switch -c new_branch_name\n",
    "```"
   ]
  },
  {
   "cell_type": "markdown",
   "id": "4f38d152-fb7d-4eac-ae0e-2ffdc24bb9f0",
   "metadata": {
    "slideshow": {
     "slide_type": "fragment"
    }
   },
   "source": [
    "### Switch to an existing branch\n",
    "\n",
    "To switch to a new branch that **already exist**, use:\n",
    "\n",
    "```\n",
    "git switch branch_name\n",
    "```"
   ]
  },
  {
   "cell_type": "markdown",
   "id": "4340987a-ec95-4b82-8514-4dcbb698cdb3",
   "metadata": {
    "slideshow": {
     "slide_type": "slide"
    }
   },
   "source": [
    "## Part 3. Guided Activity: Create a Branch, submit a Pull Request (20 mins)"
   ]
  },
  {
   "cell_type": "markdown",
   "id": "31750518",
   "metadata": {
    "slideshow": {
     "slide_type": "fragment"
    }
   },
   "source": [
    "Partner 1: \"Owner\" --> partner1/class03A.git\n",
    "Partner 2: \"Contributor\"\n",
    "\n",
    "- Give the contributor access to class03A repository\n",
    "\t- Usually use the github username\n",
    "\n",
    "- Partner 2 \"Clones\" the repository locally\n",
    "\t- git clone https://github.com/partner1/class03A.git\n",
    "\n",
    "- Partner 2 Creates and switches to a new branch:\n",
    "\t- git switch -c newchange\n",
    "\n",
    "- Partner 1 makes sure the branch is switched on Partner 2's computer )(bad instruction):\n",
    "\t- git status\n",
    "\n",
    "- Partner 2 creates a new md file:\n",
    "\t- code newfile.md\n",
    "\t- Write a bunch of stuff\n",
    "\t- Save\n",
    "\t- git add .\n",
    "\t- git commit -m \"new change\"\n",
    "\t- git push\n",
    "\n",
    "- Partner 2 goes to the Github.com repo,\n",
    "\t- Click \"Compare and Pull Request\"\n",
    "\t- Request a review from Partner 1\n",
    "\t- Submit Pull Request"
   ]
  },
  {
   "cell_type": "markdown",
   "id": "160986a4-c55b-4f18-9cc0-88e46a996e2b",
   "metadata": {
    "slideshow": {
     "slide_type": "fragment"
    }
   },
   "source": [
    "### Tips\n",
    "Here are some command sequences that might be useful:\n",
    "\n",
    "```\n",
    "- git switch -c 'person1'\n",
    "- git switch -c 'person2'\n",
    "- edit the file\n",
    "- add, commit, push\n",
    "- deal with the Pull Request(PR) on GitHub\n",
    "```"
   ]
  },
  {
   "cell_type": "markdown",
   "id": "f12a0d49-7edd-4ecd-8f1a-6e470494de5e",
   "metadata": {
    "slideshow": {
     "slide_type": "slide"
    }
   },
   "source": [
    "## Break (5 mins)"
   ]
  },
  {
   "cell_type": "markdown",
   "id": "0f472fcd-95b5-4b60-b70b-555c44eaac79",
   "metadata": {
    "slideshow": {
     "slide_type": "slide"
    }
   },
   "source": [
    "## Part 4. Project Activity (20 mins)\n",
    "\n",
    "<img src=\"images/slido.png\">\n"
   ]
  },
  {
   "cell_type": "markdown",
   "id": "1354ba4b-3f17-452c-869a-424c7d3cb0ac",
   "metadata": {
    "slideshow": {
     "slide_type": "slide"
    },
    "tags": []
   },
   "source": [
    "## Part 5. Tour of the Jupyter Lab Interface (15 mins)\n",
    "\n",
    "**Note: Some images may look slightly different than yours as the software gets more polished and icons/user interfaces change, but this should give you a general gist of the essential things.**\n",
    "\n",
    "<img src=\"images/base.png\" width=80% style=\"margin-left:auto; margin-right:auto\">"
   ]
  },
  {
   "cell_type": "markdown",
   "id": "9f255559-8b38-4a04-9547-e545e1eb2aae",
   "metadata": {
    "slideshow": {
     "slide_type": "subslide"
    }
   },
   "source": [
    "<img src=\"images/notebook1.png\" width=80% style=\"margin-left:auto; margin-right:auto\">"
   ]
  },
  {
   "cell_type": "markdown",
   "id": "f575d413-5ce4-4511-9ec4-06e466251418",
   "metadata": {
    "slideshow": {
     "slide_type": "subslide"
    }
   },
   "source": [
    "<img src=\"images/notebook2.png\" width=80% style=\"margin-left:auto; margin-right:auto\">"
   ]
  },
  {
   "cell_type": "markdown",
   "id": "b2438e0d-b31f-4842-b2eb-f48297f7a711",
   "metadata": {
    "slideshow": {
     "slide_type": "subslide"
    }
   },
   "source": [
    "<img src=\"images/notebook3.png\" width=80% style=\"margin-left:auto; margin-right:auto\">"
   ]
  },
  {
   "cell_type": "markdown",
   "id": "ba799424-6c08-4169-a695-1d0f2432ff1a",
   "metadata": {
    "slideshow": {
     "slide_type": "subslide"
    }
   },
   "source": [
    "<img src=\"images/notebook4.png\" width=80% style=\"margin-left:auto; margin-right:auto\">"
   ]
  },
  {
   "cell_type": "markdown",
   "id": "29052b91-6de7-4455-b2e9-02ae3a1fa644",
   "metadata": {
    "slideshow": {
     "slide_type": "subslide"
    }
   },
   "source": [
    "<img src=\"images/notebook5.png\" width=80% style=\"margin-left:auto; margin-right:auto\">"
   ]
  },
  {
   "cell_type": "markdown",
   "id": "b4b4e65d-eee9-48e3-90a0-412f9cdd324d",
   "metadata": {
    "slideshow": {
     "slide_type": "subslide"
    }
   },
   "source": [
    "<img src=\"images/notebook6.png\" width=80% style=\"margin-left:auto; margin-right:auto\">"
   ]
  },
  {
   "cell_type": "markdown",
   "id": "a874e1e9-5ef2-413b-933d-88ea26783d2b",
   "metadata": {
    "slideshow": {
     "slide_type": "slide"
    }
   },
   "source": [
    "### Useful things to know about JupyterLab"
   ]
  },
  {
   "cell_type": "markdown",
   "id": "ee7e58e8-962d-4a18-b06a-2c121e77718f",
   "metadata": {
    "slideshow": {
     "slide_type": "fragment"
    }
   },
   "source": [
    "- Open JupyterLab"
   ]
  },
  {
   "cell_type": "markdown",
   "id": "391c3555-ee80-4726-962f-8de524ce0ec3",
   "metadata": {
    "slideshow": {
     "slide_type": "fragment"
    }
   },
   "source": [
    "- Create new notebooks"
   ]
  },
  {
   "cell_type": "markdown",
   "id": "067d511a-10a1-4dce-aa18-a63f3a327154",
   "metadata": {
    "slideshow": {
     "slide_type": "fragment"
    }
   },
   "source": [
    "- Entering and exiting \"Command mode\""
   ]
  },
  {
   "cell_type": "markdown",
   "id": "4457587e-95b5-4bf6-9546-609024132223",
   "metadata": {
    "slideshow": {
     "slide_type": "fragment"
    }
   },
   "source": [
    "- Converting cells to \"markdown format\""
   ]
  },
  {
   "cell_type": "markdown",
   "id": "c49b1fa8-beed-47d9-893f-dc21665585b5",
   "metadata": {
    "slideshow": {
     "slide_type": "fragment"
    }
   },
   "source": [
    "- Using JupyterLab for Markdown files"
   ]
  },
  {
   "cell_type": "markdown",
   "id": "38f6664c-e507-4806-937c-1a887e1b7927",
   "metadata": {
    "slideshow": {
     "slide_type": "fragment"
    }
   },
   "source": [
    "- Close JupyterLab"
   ]
  }
 ],
 "metadata": {
  "celltoolbar": "Slideshow",
  "kernelspec": {
   "display_name": "Python 3",
   "language": "python",
   "name": "python3"
  },
  "language_info": {
   "codemirror_mode": {
    "name": "ipython",
    "version": 3
   },
   "file_extension": ".py",
   "mimetype": "text/x-python",
   "name": "python",
   "nbconvert_exporter": "python",
   "pygments_lexer": "ipython3",
   "version": "3.10.2"
  },
  "vscode": {
   "interpreter": {
    "hash": "4a3006030bc8f073e17f416a7c98291111bc2dc23e3286a5e86c679c75d3e5ba"
   }
  }
 },
 "nbformat": 4,
 "nbformat_minor": 5
}
