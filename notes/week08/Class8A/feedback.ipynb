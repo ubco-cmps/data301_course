{
 "cells": [
  {
   "cell_type": "markdown",
   "id": "397bcbba-f2b7-4b76-bb21-e0c145879bb7",
   "metadata": {
    "slideshow": {
     "slide_type": "fragment"
    }
   },
   "source": [
    "1. **Go Slower in class**. \n",
    "\n",
    "> Sorry - Message received! Will work on pacing to slow down and allow people to follow along"
   ]
  },
  {
   "cell_type": "markdown",
   "id": "d85f5894-273e-4777-9d3c-c24ea4bb2004",
   "metadata": {
    "slideshow": {
     "slide_type": "fragment"
    }
   },
   "source": [
    "2. **Clearer project instructions**\n",
    "\n",
    "> Hopefully at some point this week I will go over Milestone 3 requirements and add some clarity"
   ]
  },
  {
   "cell_type": "markdown",
   "id": "97d49176-d9f0-4d2f-979b-f7aaf9009624",
   "metadata": {
    "slideshow": {
     "slide_type": "fragment"
    }
   },
   "source": [
    "3. **Faster feedback release**\n",
    "\n",
    "> Will do our best! The TAs for this course are students as well."
   ]
  },
  {
   "cell_type": "markdown",
   "id": "2aaa47ce-18cf-41c0-a5bf-3c2600ac10fb",
   "metadata": {
    "slideshow": {
     "slide_type": "fragment"
    }
   },
   "source": [
    "4. **More practice questions for Python** \n",
    "> Done! Added to the course website. "
   ]
  }
 ],
 "metadata": {
  "kernelspec": {
   "display_name": "Python 3",
   "language": "python",
   "name": "python3"
  },
  "language_info": {
   "codemirror_mode": {
    "name": "ipython",
    "version": 3
   },
   "file_extension": ".py",
   "mimetype": "text/x-python",
   "name": "python",
   "nbconvert_exporter": "python",
   "pygments_lexer": "ipython3",
   "version": "3.10.2"
  },
  "vscode": {
   "interpreter": {
    "hash": "4a3006030bc8f073e17f416a7c98291111bc2dc23e3286a5e86c679c75d3e5ba"
   }
  }
 },
 "nbformat": 4,
 "nbformat_minor": 5
}
