{
 "cells": [
  {
   "cell_type": "markdown",
   "metadata": {},
   "source": [
    "## Task 2: Python Fundamentals II\n",
    "\n",
    "This part of the lab takes you through some of the fundamental components of Python."
   ]
  },
  {
   "cell_type": "markdown",
   "metadata": {},
   "source": [
    "### 2.1: `if-elif-else` statements\n",
    "\n",
    "Fill in missing pieces of the following code such that print statements make sense. You should replace <YOUR_CODE_HERE> with your code."
   ]
  },
  {
   "cell_type": "code",
   "execution_count": null,
   "metadata": {},
   "outputs": [],
   "source": [
    "name = 'Marie Antoinette'"
   ]
  },
  {
   "cell_type": "code",
   "execution_count": null,
   "metadata": {},
   "outputs": [],
   "source": [
    "### Your solution here\n",
    "\n",
    "if <YOUR_CODE_HERE>:\n",
    "    print(f\"Name {name} is more than 20 chars long\")\n",
    "    length_description = 'long'\n",
    "elif <YOUR_CODE_HERE>:\n",
    "    print(f\"Name {name} is more than 18 chars long\")\n",
    "    length_description = 'semi long'\n",
    "elif <YOUR_CODE_HERE>:\n",
    "    print(f\"Name {name} is more than 15 chars long\")\n",
    "    length_description = 'semi long'\n",
    "elif <YOUR_CODE_HERE>:\n",
    "    print(f\"Name {name} is 9, 10 or 11 chars long\")\n",
    "    length_description = 'semi short'\n",
    "else:\n",
    "    print(f\"Name {name} is a short name\")\n",
    "    length_description = 'short'"
   ]
  },
  {
   "cell_type": "markdown",
   "metadata": {},
   "source": [
    "### 2.2: `for` loops\n",
    "\n",
    "Fill <YOUR_CODE_HERE> in the code snippet below so that this sample output is printed:\n",
    "\n",
    "#### Sample Output\n",
    "> A<br>\n",
    "> AA<br>\n",
    "> AAA<br>\n",
    "> AAAA<br>\n",
    "> AAAAA<br>\n",
    "> AAAA<br>\n",
    "> AAA<br>\n",
    "> AA<br>\n",
    "> A<br>"
   ]
  },
  {
   "cell_type": "code",
   "execution_count": null,
   "metadata": {},
   "outputs": [],
   "source": [
    "### Your solution here\n",
    "\n",
    "n = 10\n",
    "for i in range(1,n):\n",
    "    if <YOUR_CODE_HERE>:\n",
    "        print(\"A\" * <YOUR_CODE_HERE>)\n",
    "    else:\n",
    "        print(\"A\" * (<YOUR_CODE_HERE>))"
   ]
  },
  {
   "cell_type": "markdown",
   "metadata": {},
   "source": [
    "### 2.3: `for` loops and `lists`\n",
    "\n",
    "We have given you some sample code, as well as a list called `data`. \n",
    "\n",
    "> data = [53,9,5,90,63,5,97,40,92,48,53,8,38,63,13,15,66,81,57,79,42,91,25,89,66,4,73,45,80,17]\n",
    "\n",
    "For each of the exercises 1C1 - 1CX, use the `data` list to answer the question by writing the appropriate bits of python code."
   ]
  },
  {
   "cell_type": "markdown",
   "metadata": {
    "tags": []
   },
   "source": [
    "#### 2.3.1: Print values that are within 25 (lower bound) and 45 (upper bound) including both ends.\n",
    "\n",
    "*Hint: Use a for loop and loop through each of the elements in data, and store it into a list. Then, print the list*\n",
    "\n",
    "##### Sample output:\n",
    "\n",
    "> [40, 38, 42, 25, 45]\n"
   ]
  },
  {
   "cell_type": "code",
   "execution_count": null,
   "metadata": {},
   "outputs": [],
   "source": [
    "data = [53,9,5,90,63,5,97,40,92,48,53,8,38,63,13,15,66,81,57,79,42,91,25,89,66,4,73,45,80,17]\n",
    "\n",
    "### Your solution here"
   ]
  },
  {
   "cell_type": "markdown",
   "metadata": {},
   "source": [
    "#### 2.3.2: Write code to calculate and print the maximum, minimum, sum, count, and average of items in `data`\n",
    "\n",
    "*Hint: for the mean, you will need to combine the sum and the count*\n",
    "\n",
    "##### Sample output\n",
    "\n",
    "> The max is: 97 <br/>\n",
    "> The min is: 4 <br/>\n",
    "> The sum is: 1507 <br/>\n",
    "> The count is: 30 <br/>\n",
    "> The mean is: 50.233333333333334 <br/>"
   ]
  },
  {
   "cell_type": "code",
   "execution_count": null,
   "metadata": {},
   "outputs": [],
   "source": [
    "### Your solution here\n",
    "\n",
    "print(f\"The max is: {<YOUR_CODE_HERE>}\")\n",
    "print(f\"The min is: {<YOUR_CODE_HERE>}\")\n",
    "print(f\"The sum is: {<YOUR_CODE_HERE>}\")\n",
    "print(f\"The count is: {<YOUR_CODE_HERE>}\")\n",
    "print(f\"The mean is: {<YOUR_CODE_HERE>}\")\n"
   ]
  },
  {
   "cell_type": "markdown",
   "metadata": {},
   "source": [
    "#### 2.4: Using list comprehension (NOT for loops), print out the numbers within the specified upper and lower bounds (inclusive) of 12 and 80.\n",
    "\n",
    "#### Sample output:\n",
    "> [53, 63, 40, 48, 53, 38, 63, 13, 15, 66, 57, 79, 42, 25, 66, 73, 45, 80, 17]"
   ]
  },
  {
   "cell_type": "code",
   "execution_count": null,
   "metadata": {},
   "outputs": [],
   "source": [
    "### Your solution here"
   ]
  }
 ],
 "metadata": {
  "interpreter": {
   "hash": "31f2aee4e71d21fbe5cf8b01ff0e069b9275f58929596ceb00d14d90e3e16cd6"
  },
  "kernelspec": {
   "display_name": "Python 3 (ipykernel)",
   "language": "python",
   "name": "python3"
  },
  "language_info": {
   "name": "python",
   "version": "3.9.6 (default, Oct 18 2022, 12:41:40) \n[Clang 14.0.0 (clang-1400.0.29.202)]"
  },
  "nteract": {
   "version": "0.25.0"
  }
 },
 "nbformat": 4,
 "nbformat_minor": 4
}
