{
 "cells": [
  {
   "cell_type": "markdown",
   "metadata": {},
   "source": [
    "# Task 1 - Introduction to Python\n",
    "\n",
    "In this lab you will be working on python basics.\n",
    "\n",
    "I have recorded a video to get you started with this lab: [Click here to view the video](https://vimeo.com/570824958).\n",
    "The lab is slightly different and updated, but the idea is very similar.\n",
    "\n",
    "**This lab must be completed individually.**\n",
    "\n",
    "Where provided, try your best to match the **Sample Output** as best as you can.\n",
    "\n",
    "**VERY IMPORTANT**\n",
    "\n",
    "Make sure to submit the tasks with all the outputs displayed under the cell if there's any.\n",
    "\n",
    "## Accept the lab\n",
    " \n",
    "To accept this lab on GitHub Classroom, go to `Canvas` --> `Course Content` --> `GitHub Classroom Links`."
   ]
  },
  {
   "cell_type": "markdown",
   "metadata": {},
   "source": [
    "## Objectives\n",
    "\n",
    "1. Practice Python loops and conditions\n",
    "2. Practice Python lists and dictionaries\n",
    "3. Practice string manipulation in Python\n",
    "4. Practice importing and using the Pandas module"
   ]
  },
  {
   "cell_type": "markdown",
   "metadata": {},
   "source": [
    "## Task 1A: Python Fundamentals I\n",
    "\n",
    "The following problems are practice problems that will help you learn some basic python syntax.\n",
    "They have been adapted from [Tomas Beuzen's Python Programming for Data Science textbook here](https://www.tomasbeuzen.com/python-programming-for-data-science/practice-exercises/chapter1-basics-practice.html) under a Creative Commons license.\n",
    "\n",
    "The solutions to the problems are available at the link, but I encourage you to try doing the problems on your own before you check the solutions! "
   ]
  },
  {
   "cell_type": "markdown",
   "metadata": {},
   "source": [
    "### 1.1 Splitting Strings"
   ]
  },
  {
   "cell_type": "markdown",
   "metadata": {},
   "source": [
    "Split the following string into a list by splitting on the space character:"
   ]
  },
  {
   "cell_type": "code",
   "execution_count": 5,
   "metadata": {},
   "outputs": [],
   "source": [
    "s = \"Learning Python is so much fun!\"\n",
    "\n",
    "# Your answer here.\n",
    "# Sample output: ['Learning', 'Python', 'is', 'so', 'much', 'fun!']"
   ]
  },
  {
   "cell_type": "markdown",
   "metadata": {},
   "source": [
    "### 1.2 Substitutions with F-strings"
   ]
  },
  {
   "cell_type": "markdown",
   "metadata": {},
   "source": [
    "Given the following variables:\n",
    "\n",
    "```\n",
    "thing = \"light\"\n",
    "speed = 299792458  # m/s\n",
    "```\n",
    "\n",
    "Use f-strings to print the following statement exactly:\n",
    "\n",
    "```\n",
    "The speed of light is 2.997925e+08 m/s.\n",
    "```"
   ]
  },
  {
   "cell_type": "code",
   "execution_count": 32,
   "metadata": {},
   "outputs": [],
   "source": [
    "thing = \"light\"\n",
    "speed = 299792458  # m/s\n",
    "\n",
    "# Your answer here."
   ]
  },
  {
   "cell_type": "markdown",
   "metadata": {},
   "source": [
    "### 1.3 List Indexing"
   ]
  },
  {
   "cell_type": "markdown",
   "metadata": {},
   "source": [
    "Given this nested list, use indexing to grab the **word** \"DATA301\":\n",
    "\n",
    "```\n",
    "l = [10, [3, 4], [5, [100, 200], [23, [\"DATA301\"], 27], 11], 1, 7]\n",
    "```"
   ]
  },
  {
   "cell_type": "code",
   "execution_count": 8,
   "metadata": {},
   "outputs": [],
   "source": [
    "l = [10, [3, 4], [5, [100, 200], [23, [\"DATA301\"], 27], 11], 1, 7]\n",
    "\n",
    "# Your answer here.\n",
    "# Sample output: 'DATA301'"
   ]
  },
  {
   "cell_type": "markdown",
   "metadata": {},
   "source": [
    "### 1.4 Dictionary Indexing"
   ]
  },
  {
   "cell_type": "markdown",
   "metadata": {},
   "source": [
    "Given this nest dictionary grab the word \"DATA301\":\n",
    "\n",
    "```\n",
    "d = {\n",
    "    \"outer\": [\n",
    "        1,\n",
    "        2,\n",
    "        3,\n",
    "        {\"inner\": [\"this\", \"is\", \"inception\", {\"inner_inner\": [a, b, c, \"DATA301\", 1, 2, 3]}]},\n",
    "    ]\n",
    "}\n",
    "```"
   ]
  },
  {
   "cell_type": "code",
   "execution_count": 9,
   "metadata": {},
   "outputs": [],
   "source": [
    "d = {\n",
    "    \"outer\": [\n",
    "        1,\n",
    "        2,\n",
    "        3,\n",
    "        {\n",
    "            \"inner\": [\n",
    "                \"this\",\n",
    "                \"is\",\n",
    "                \"inception\",\n",
    "                {\"inner_inner\": [\"a\", \"b\", \"c\", \"DATA301\", 1, 2, 3]},\n",
    "            ]\n",
    "        },\n",
    "    ]\n",
    "}"
   ]
  },
  {
   "cell_type": "code",
   "execution_count": 10,
   "metadata": {},
   "outputs": [],
   "source": [
    "# Your answer here.\n",
    "# Sample output: 'DATA301'"
   ]
  },
  {
   "cell_type": "markdown",
   "metadata": {},
   "source": [
    "### 1.5 Conditional Statements"
   ]
  },
  {
   "cell_type": "markdown",
   "metadata": {},
   "source": [
    "Given the variable `language` which contains a string, use `if/elif/else` to write a program that:\n",
    "- return \"I love coffee!\" if `language` is `\"java\"` **(any kind of capitalization)**\n",
    "- return \"Are you a snake?\" if `language` is `\"python\"` **(any kind of capitalization)**\n",
    "- else return \"What is `language`?\" where `language` displays the **actual content** in this variable if `language` is anything else."
   ]
  },
  {
   "cell_type": "code",
   "execution_count": 13,
   "metadata": {},
   "outputs": [],
   "source": [
    "language = \"java\"\n",
    "\n",
    "# Your answer here.\n",
    "# If language is \"Java\", the output would be \"I love coffee!\"\n",
    "# If language is \"PYTHON\", the output would be \"Are you a snake?\"\n",
    "# If language is anything else, the output would be anything this language is, for example, if language is \"R\", output is \"R\".\n",
    "# You don't need to display the results of your test for EACH condition, just make sure your code works like this."
   ]
  },
  {
   "cell_type": "markdown",
   "metadata": {},
   "source": [
    "## Task 1B: Python Fundamentals II (`numpy` and `random`)\n",
    "\n",
    "In this section, we will practice using the `numpy` library.\n",
    "First, import the `numpy` library\n",
    "\n",
    "```\n",
    "import numpy as np\n",
    "```\n"
   ]
  },
  {
   "cell_type": "code",
   "execution_count": 1,
   "metadata": {},
   "outputs": [],
   "source": [
    "# Your Solution here"
   ]
  },
  {
   "cell_type": "markdown",
   "metadata": {},
   "source": [
    "### 1.6: Create a vector\n",
    "\n",
    "**Task: Create an empty vector of size 10 filled with NaN.**\n",
    "\n",
    "*Hint: you need to use [`empty()` method](https://numpy.org/doc/stable/reference/generated/numpy.empty.html?highlight=empty#numpy.empty) or the [`zeros()` method](https://numpy.org/doc/stable/reference/generated/numpy.zeros.html) and fill the vector with **NaN***"
   ]
  },
  {
   "cell_type": "code",
   "execution_count": 1,
   "metadata": {},
   "outputs": [],
   "source": [
    "# Your Solution here\n",
    "# Sample output: array([nan, nan, nan, nan, nan, nan, nan, nan, nan, nan])"
   ]
  },
  {
   "cell_type": "markdown",
   "metadata": {},
   "source": [
    "### 1.7: Working with Vectors\n",
    "\n",
    "**Task: Create a random vector of size 10 and then find its mean, max, min, and sum value.**\n",
    "\n",
    "*Hint: for random vector you need to use `np.random.random()` and for the mean, max, min, sum you need to use **build-in numpy methods** `mean()`,`max()`,`min()`,`sum()`*.\n",
    "\n",
    "#### Sample output (Your numbers will be different)\n",
    "\n",
    ">[0.66698639 0.32937943 0.12074085 0.21788496 0.75628444 0.56461791\n",
    " 0.38162184 0.60966053 0.00491222 0.80007239]<br/>\n",
    ">The max is: 0.800<br/>\n",
    ">The min is: 0.005<br/>\n",
    ">The sum is: 4.452<br/>\n",
    ">The mean is: 0.445<br/>"
   ]
  },
  {
   "cell_type": "code",
   "execution_count": 3,
   "metadata": {},
   "outputs": [],
   "source": [
    "# Your Solution Here"
   ]
  },
  {
   "cell_type": "markdown",
   "metadata": {},
   "source": [
    "### 1.8: More vectors\n",
    "\n",
    "**Task: This is a multi-step question. Read all the directions before you start working on the question and plan out your solution.**\n",
    "\n",
    "- **First, using `numpy`, create a vector of size 15 which contains random values ranging from 10 to 90.**\n",
    "- **Then, replace the maximum value of your vector with 500.**\n",
    "- **Then, replace and the minimum value with -500.**\n",
    "- **Print the vector (sorted by ascending order) and its mean before replacement, as well as the sorted vector after replacement with the new mean.**\n",
    "\n",
    "*Hint: To do this problem as intended, you may need to use the following numpy functions: [`copy()`](https://numpy.org/doc/stable/reference/generated/numpy.copy.html), [`sort()`](https://numpy.org/doc/stable/reference/generated/numpy.sort.html), [`argmax()`](https://numpy.org/doc/stable/reference/generated/numpy.argmax.html), and [`argmin()`](https://numpy.org/doc/stable/reference/generated/numpy.argmin.html). Also, don't forget about `f-strings` and triple-quoted strings for printing.*\n",
    "\n",
    "\n",
    "#### Sample output\n",
    "\n",
    "> **Before number replacement**\n",
    "> \n",
    "> vector: [12 14 14 19 22 25 25 28 28 35 45 47 68 69 73]\n",
    "> \n",
    "> vector_mean = 34.93\n",
    "> \n",
    "> **After number replacement**\n",
    "> \n",
    "> vector: [-500   14   14   19   22   25   25   28   28   35   45   47   68   69\n",
    ">   500]\n",
    "> \n",
    "> new_vector_mean = 29.27"
   ]
  },
  {
   "cell_type": "code",
   "execution_count": 44,
   "metadata": {
    "tags": []
   },
   "outputs": [],
   "source": [
    "# Your solution here"
   ]
  }
 ],
 "metadata": {
  "interpreter": {
   "hash": "31f2aee4e71d21fbe5cf8b01ff0e069b9275f58929596ceb00d14d90e3e16cd6"
  },
  "kernelspec": {
   "display_name": "Python 3 (ipykernel)",
   "language": "python",
   "name": "python3"
  },
  "language_info": {
   "codemirror_mode": {
    "name": "ipython",
    "version": 3
   },
   "file_extension": ".py",
   "mimetype": "text/x-python",
   "name": "python",
   "nbconvert_exporter": "python",
   "pygments_lexer": "ipython3",
   "version": "3.10.2"
  },
  "nteract": {
   "version": "0.25.0"
  }
 },
 "nbformat": 4,
 "nbformat_minor": 4
}
