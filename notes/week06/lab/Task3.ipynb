{
 "cells": [
  {
   "attachments": {},
   "cell_type": "markdown",
   "metadata": {},
   "source": [
    "# Task 3: Advanced Visualizations"
   ]
  },
  {
   "cell_type": "code",
   "execution_count": 2,
   "metadata": {
    "tags": []
   },
   "outputs": [],
   "source": [
    "import pandas as pd\n",
    "import numpy as np\n",
    "import matplotlib.pyplot as plt\n",
    "import seaborn as sns"
   ]
  },
  {
   "cell_type": "markdown",
   "metadata": {},
   "source": [
    "## Seaborn Configuration from Task 1\n",
    "Please use the code from Task 1 in the cell below to configure Seaborn and set your prefered theme. "
   ]
  },
  {
   "cell_type": "code",
   "execution_count": 3,
   "metadata": {},
   "outputs": [],
   "source": [
    "# Your Solution here"
   ]
  },
  {
   "attachments": {},
   "cell_type": "markdown",
   "metadata": {},
   "source": [
    "## Load Dataset from Lab 05 Task 1\n",
    "\n",
    "In last week's lab, you worked on the pokemon dataset and added a column to the dataset, and then saved it to a csv file.\n",
    "\n",
    "Since we would like to re-use that dataset, use a relative path to import the CSV file from Lab 5 (something like: **../lab05-demoFiras/data/filename.csv**) we saved in Task 1 of Lab 5. "
   ]
  },
  {
   "cell_type": "code",
   "execution_count": 4,
   "metadata": {},
   "outputs": [],
   "source": [
    "# Your Solution here"
   ]
  },
  {
   "attachments": {},
   "cell_type": "markdown",
   "metadata": {},
   "source": [
    "## Task 3: Advanced Visualizations "
   ]
  },
  {
   "attachments": {},
   "cell_type": "markdown",
   "metadata": {},
   "source": [
    "### 3.1. Create a [\"Ridgeline\"](https://seaborn.pydata.org/examples/kde_ridgeplot.html) to show the distribution of Weighted_Scores split by all the Pokémon types (Type 1)\n",
    "\n",
    "***Important***: When referring to Type of the pokemon, please use just the **\"Type 1\"** Column.\n",
    "\n",
    "Here is the goal:\n",
    "\n",
    "<img src=\"images/ridgeline.png\" width=\"300px\">"
   ]
  },
  {
   "cell_type": "code",
   "execution_count": 19,
   "metadata": {},
   "outputs": [],
   "source": [
    "# Your Solution Here"
   ]
  }
 ],
 "metadata": {
  "kernelspec": {
   "display_name": "Python 3",
   "language": "python",
   "name": "python3"
  },
  "language_info": {
   "codemirror_mode": {
    "name": "ipython",
    "version": 3
   },
   "file_extension": ".py",
   "mimetype": "text/x-python",
   "name": "python",
   "nbconvert_exporter": "python",
   "pygments_lexer": "ipython3",
   "version": "3.11.0"
  },
  "nteract": {
   "version": "0.28.0"
  },
  "vscode": {
   "interpreter": {
    "hash": "8daf62dbabc4533c4727da89b4d332c5d61cdbc942332d628b0ee3bdbbb1930f"
   }
  }
 },
 "nbformat": 4,
 "nbformat_minor": 4
}
