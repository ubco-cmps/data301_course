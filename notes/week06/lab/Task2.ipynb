{
 "cells": [
  {
   "attachments": {},
   "cell_type": "markdown",
   "metadata": {},
   "source": [
    "# Task 2: EDA and Visualizations"
   ]
  },
  {
   "cell_type": "code",
   "execution_count": 4,
   "metadata": {
    "tags": []
   },
   "outputs": [],
   "source": [
    "import pandas as pd\n",
    "import numpy as np\n",
    "import matplotlib.pyplot as plt\n",
    "import seaborn as sns"
   ]
  },
  {
   "attachments": {},
   "cell_type": "markdown",
   "metadata": {
    "tags": []
   },
   "source": [
    "## Seaborn Configuration\n",
    "\n",
    "> Please use the code from Task 1 in the cell below to configure Seaborn and set your preferred theme. "
   ]
  },
  {
   "cell_type": "code",
   "execution_count": null,
   "metadata": {},
   "outputs": [],
   "source": [
    "# Your Solution Here"
   ]
  },
  {
   "attachments": {},
   "cell_type": "markdown",
   "metadata": {},
   "source": [
    "## Load Dataset from Lab 05 Task 1\n",
    "\n",
    "In last week's lab, you worked on the pokemon dataset and added a column to the dataset, and then saved it to a csv file.\n",
    "\n",
    "Since we would like to re-use that dataset, use a relative path to import the CSV file from Lab 5 (something like: **../lab05-demoFiras/data/filename.csv**) we saved in Task 1 of Lab 5. "
   ]
  },
  {
   "cell_type": "code",
   "execution_count": 6,
   "metadata": {},
   "outputs": [],
   "source": [
    "# Your Solution here"
   ]
  },
  {
   "attachments": {},
   "cell_type": "markdown",
   "metadata": {},
   "source": [
    "## Task 2: Exploratory Data Analysis through Visualization"
   ]
  },
  {
   "attachments": {},
   "cell_type": "markdown",
   "metadata": {},
   "source": [
    "### 2.1. Data Analysis and Visualizations"
   ]
  },
  {
   "attachments": {},
   "cell_type": "markdown",
   "metadata": {},
   "source": [
    "#### 2.1.1. **Sample Research Question:** Which Pokemon Types are the best, as determined by the Weighted Score? \n",
    "\n",
    "***Important***: When referring to Type of the pokemon, please use just the **\"Type 1\"** Column.\n",
    "\n",
    "To answer this question, we will first need to do wrangle the data to return the mean Weighted_Score, split by the Pokemon Type 1. \n",
    "\n",
    "Here is the goal of this analysis:\n",
    "\n",
    "<img src=\"images/groupby.png\" width=\"200px\">\n",
    "\n",
    "The order of Types does not matter, but the values of the weighted scores must match the sample output above."
   ]
  },
  {
   "cell_type": "code",
   "execution_count": 7,
   "metadata": {},
   "outputs": [],
   "source": [
    "# Your Solution here"
   ]
  },
  {
   "attachments": {},
   "cell_type": "markdown",
   "metadata": {},
   "source": [
    "#### 2.1.2. Create a violin plot to show the distribution of Weighted_Scores split by all the Pokémon types (Type 1).\n",
    "\n",
    "Here is the goal:\n",
    "\n",
    "<img src=\"images/violin.png\" width=\"350px\">"
   ]
  },
  {
   "cell_type": "code",
   "execution_count": 8,
   "metadata": {},
   "outputs": [],
   "source": [
    "# Your Solution here"
   ]
  },
  {
   "attachments": {},
   "cell_type": "markdown",
   "metadata": {},
   "source": [
    "#### 2.1.3. Create a Box Plot and overlay a strip plot \n",
    "\n",
    "*Please use the Type 1 column.*\n",
    "\n",
    "Here is the goal:\n",
    "\n",
    "<img src=\"images/BoxPlot.png\" width=\"350px\">"
   ]
  },
  {
   "cell_type": "code",
   "execution_count": 9,
   "metadata": {},
   "outputs": [],
   "source": [
    "# Your Solution here "
   ]
  },
  {
   "attachments": {},
   "cell_type": "markdown",
   "metadata": {},
   "source": [
    "#### 2.1.4. Create a [Hexbin plot with marginal distributions](http://seaborn.pydata.org/generated/seaborn.jointplot.html) \n",
    "\n",
    "This plot helps you visualize large amounts of data (and its distributions) by using colours to represent the number of points in a hexagonal shape.\n",
    "\n",
    "Here is the goal:\n",
    "\n",
    "<img src=\"images/jointplot.png\" width=\"350px\">"
   ]
  },
  {
   "cell_type": "code",
   "execution_count": 10,
   "metadata": {},
   "outputs": [],
   "source": [
    "# Your Solution here "
   ]
  },
  {
   "attachments": {},
   "cell_type": "markdown",
   "metadata": {},
   "source": [
    "#### 2.1.5. Create a [PairPlot](https://seaborn.pydata.org/generated/seaborn.pairplot.html#seaborn.pairplot) of the quantiative features of the pokémon dataset \n",
    "\n",
    "Here is the goal:\n",
    "\n",
    "<img src=\"images/pairplot.png\" width=\"350px\">"
   ]
  },
  {
   "cell_type": "code",
   "execution_count": 3,
   "metadata": {},
   "outputs": [],
   "source": [
    "# Your Solution here"
   ]
  },
  {
   "attachments": {},
   "cell_type": "markdown",
   "metadata": {},
   "source": [
    "### 2.2. Summary and conclusions"
   ]
  },
  {
   "attachments": {},
   "cell_type": "markdown",
   "metadata": {},
   "source": [
    "#### 2.2.1. Summarize your findings and describe any conclusions and insight you were able to draw from your visualizations. \n",
    "\n",
    "- **Sample Research Question:** Which Pokemon Types are the best, as determined by the Weighted Score?\n",
    "    - Summary of findings, insight, and conclusions\n",
    "    - ..\n",
    "    \n",
    "\n",
    "- **Research Question 1:** RQ here\n",
    "\n",
    "    - Summary of findings, insight, and conclusions\n",
    "    - ..\n",
    "    \n",
    "\n",
    "- **Research Question 2:** RQ here\n",
    "\n",
    "    - Summary of findings, insight, and conclusions\n",
    "    - ..\n",
    "    \n",
    "**Notes: There should be some substantial comments and insight in this section. Take it seriously!**"
   ]
  },
  {
   "cell_type": "code",
   "execution_count": 19,
   "metadata": {},
   "outputs": [],
   "source": [
    "# Your Solution Here"
   ]
  }
 ],
 "metadata": {
  "kernelspec": {
   "display_name": "Python 3",
   "language": "python",
   "name": "python3"
  },
  "language_info": {
   "codemirror_mode": {
    "name": "ipython",
    "version": 3
   },
   "file_extension": ".py",
   "mimetype": "text/x-python",
   "name": "python",
   "nbconvert_exporter": "python",
   "pygments_lexer": "ipython3",
   "version": "3.11.0"
  },
  "nteract": {
   "version": "0.28.0"
  },
  "vscode": {
   "interpreter": {
    "hash": "8daf62dbabc4533c4727da89b4d332c5d61cdbc942332d628b0ee3bdbbb1930f"
   }
  }
 },
 "nbformat": 4,
 "nbformat_minor": 4
}
