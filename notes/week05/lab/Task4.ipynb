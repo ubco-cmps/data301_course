{
 "cells": [
  {
   "attachments": {},
   "cell_type": "markdown",
   "metadata": {},
   "source": [
    "# Task 4: COVID-19 EDA II\n",
    "\n",
    "For this task, you'll do some further analysis on the .csv file you made from Task 3.\n",
    "\n",
    "Remember to run the following commands below to import all the necessary packages to run this Task."
   ]
  },
  {
   "cell_type": "code",
   "execution_count": 37,
   "metadata": {},
   "outputs": [],
   "source": [
    "import pandas as pd\n",
    "import numpy as np\n",
    "import matplotlib"
   ]
  },
  {
   "attachments": {},
   "cell_type": "markdown",
   "metadata": {},
   "source": [
    "## 4.1: Importing filtered data\n",
    "\n",
    "First, import the `datafiltered.csv` file back into a dataframe and call the variable **`df`**. "
   ]
  },
  {
   "cell_type": "code",
   "execution_count": 36,
   "metadata": {},
   "outputs": [],
   "source": [
    "# Your solution here"
   ]
  },
  {
   "attachments": {},
   "cell_type": "markdown",
   "metadata": {},
   "source": [
    "Then, **remove** the additional index column that was made when you exported the file. \n",
    "\n",
    "### Sample output\n",
    "\n",
    "|     | date       |   new_cases |   new_deaths |   new_tests |   incident_rate |\n",
    "|----:|:-----------|------------:|-------------:|------------:|----------------:|\n",
    "|   0 | 2020-04-20 |        3047 |          433 |        7841 |      0.388598   |\n",
    "|   1 | 2020-04-21 |        2256 |          454 |       28095 |      0.080299   |\n",
    "|   2 | 2020-04-22 |        2729 |          534 |       44248 |      0.0616751  |\n",
    "|   3 | 2020-04-23 |        3370 |          437 |       37083 |      0.0908772  |\n",
    "|   4 | 2020-04-24 |        2646 |          464 |       95273 |      0.0277728  |\n",
    "|   5 | 2020-04-25 |        3021 |          420 |       38676 |      0.0781105  |\n",
    "|   6 | 2020-04-26 |        2357 |          415 |       24113 |      0.0977481  |\n",
    "|   7 | 2020-04-27 |        2324 |          260 |       26678 |      0.087113   |\n",
    "|   8 | 2020-04-28 |        1739 |          333 |       37554 |      0.0463067  |\n",
    "|   9 | 2020-04-29 |        2091 |          382 |       38589 |      0.0541864  |"
   ]
  },
  {
   "cell_type": "code",
   "execution_count": 35,
   "metadata": {},
   "outputs": [],
   "source": [
    "# Your solution here\n"
   ]
  },
  {
   "cell_type": "markdown",
   "metadata": {},
   "source": [
    "\n",
    "Finally, print out **10** random rows in **`df`** to ensure your data has been imported correctly. (*Hint*: There is a pandas function that does this)"
   ]
  },
  {
   "cell_type": "code",
   "execution_count": null,
   "metadata": {},
   "outputs": [],
   "source": [
    "# Your solution here"
   ]
  },
  {
   "attachments": {},
   "cell_type": "markdown",
   "metadata": {},
   "source": [
    "## 4.2: Grouping data\n",
    "\n",
    "If we want to know the **average** number of rates by the months in the year, we can use a `groupby` object to better understand how seasonal changes can affect COVID-19. \n",
    "\n",
    "For this task, you should group the dataframe by **month**, then select the `new_cases`, `new_deaths` column, and then calculate the average value by month. \n",
    "\n",
    "Make sure the output is displayed **without** using the `print()` function, remember that the last cell in a jupyter notebook will always be displayed.\n",
    "\n",
    "### Sample Output\n",
    "\n",
    "|   date |   new_cases |   new_deaths |\n",
    "|-------:|------------:|-------------:|\n",
    "|      4 |    2515.09  |     405      |\n",
    "|      5 |     937.839 |     182.516  |\n",
    "|      6 |     259.067 |      46.8    |\n",
    "|      7 |     216.839 |      12.5161 |\n",
    "|      8 |     679.355 |      11.129  |\n",
    "|      9 |     996     |       6      |\n",
    "\n",
    "For this sub-task, a **research question** that this table would've answered might look something like this:\n",
    "\n",
    "*\"What is the mean number of new cases and deaths by month?\"*"
   ]
  },
  {
   "cell_type": "code",
   "execution_count": 34,
   "metadata": {},
   "outputs": [],
   "source": [
    "# Your solution here"
   ]
  },
  {
   "attachments": {},
   "cell_type": "markdown",
   "metadata": {},
   "source": [
    "## 4.3: Cumulative Sums\n",
    "\n",
    "A cumulative sum is a partial sum of each row, growing in total as you go down the list. \n",
    "\n",
    "Using the original dataframe, **`df`**, create two **new** columns titled **`cumulative_new_cases`** and **`cumulative_new_tests`**.\n",
    "\n",
    "Make sure the output is displayed **without** using the `print()` function, remember that the last cell in a jupyter notebook will always be displayed.\n",
    "\n",
    "### Sample Output\n",
    "\n",
    "|     |date       |   new_cases |   new_deaths |   new_tests |   incident_rate |   cumulative_new_cases |   cumulative_new_tests |\n",
    "|----:|:-----------|------------:|-------------:|------------:|----------------:|-----------------------:|-----------------------:|\n",
    "|   0 |2020-04-20 |        3047 |          433 |        7841 |      0.388598   |                   3047 |         7841           |\n",
    "|   1 |2020-04-21 |        2256 |          454 |       28095 |      0.080299   |                   5303 |        35936           |\n",
    "|   2 |2020-04-22 |        2729 |          534 |       44248 |      0.0616751  |                   8032 |        80184           |\n",
    "|   3 |2020-04-23 |        3370 |          437 |       37083 |      0.0908772  |                  11402 |       117267           |\n",
    "|   4 |2020-04-24 |        2646 |          464 |       95273 |      0.0277728  |                  14048 |       212540           |\n",
    "|   5 |2020-04-25 |        3021 |          420 |       38676 |      0.0781105  |                  17069 |       251216           |\n",
    "|   6 |2020-04-26 |        2357 |          415 |       24113 |      0.0977481  |                  19426 |       275329           |\n",
    "|   7 |2020-04-27 |        2324 |          260 |       26678 |      0.087113   |                  21750 |       302007           |\n",
    "|   8 |2020-04-28 |        1739 |          333 |       37554 |      0.0463067  |                  23489 |       339561           |\n",
    "|   9 |2020-04-29 |        2091 |          382 |       38589 |      0.0541864  |                  25580 |       378150           |\n",
    "\n",
    "For this sub-task, a **research question** that this table would've answered might look something like this:\n",
    "\n",
    "*\"What is the sum as time progresses for the number of new cases and new tests?\"*"
   ]
  },
  {
   "cell_type": "code",
   "execution_count": 28,
   "metadata": {},
   "outputs": [],
   "source": [
    "# Your solution here"
   ]
  },
  {
   "attachments": {},
   "cell_type": "markdown",
   "metadata": {},
   "source": [
    "## 4.4: Visualising Data\n",
    "\n",
    "### 4.4.1: Set the Seaborn figure theme and scale up the text in the figures\n",
    "\n",
    "There are five preset Seaborn styles (or themes): `darkgrid`, `whitegrid`, `dark`, `white`, and `ticks`. \n",
    "They are each suited to different applications and personal preferences.\n",
    "You can see what they look like [here](https://seaborn.pydata.org/tutorial/aesthetics.html#seaborn-figure-styles).\n",
    "\n",
    "Hint: You will need to use the `font_scale` property of the `set_theme()` function in Seaborn.\n",
    "\n",
    "Once you've done that, create the same plot as in 1.1 and confirm that it looks bigger. Once you are able to confirm this, you will see all subsequent plots in this Jupyter Notebook using the same theme.\n",
    "\n",
    "Remember to copy this code above to your other Jupyter Notebooks as well!! "
   ]
  },
  {
   "cell_type": "code",
   "execution_count": null,
   "metadata": {},
   "outputs": [],
   "source": [
    "# Your solution here"
   ]
  },
  {
   "attachments": {},
   "cell_type": "markdown",
   "metadata": {},
   "source": [
    "### 4.4.2: Visualize the COVID-19 dataset\n",
    "\n",
    "You've previously done work on the COVID-19 dataset, filtering through and analysing the data. \n",
    "\n",
    "However, data is best represented visually (usually), so we should take our data and visually represent some points.\n",
    "\n",
    "You're task is to create a simple plot of the **`cumulative_new_cases`** column.\n",
    "\n",
    "### Sample Output\n",
    "\n",
    "**Note: We have left off the themes, axis-labels, axis titles, and plot titles so you can spend some time interpreting what you're plotting. Make sure your plot has all the components of what makes an effective plot!**\n",
    "\n",
    "![image](images/simple_plot.png)\n"
   ]
  },
  {
   "cell_type": "code",
   "execution_count": 1,
   "metadata": {},
   "outputs": [],
   "source": [
    "# Your solution here"
   ]
  }
 ],
 "metadata": {
  "kernelspec": {
   "display_name": "Python 3",
   "language": "python",
   "name": "python3"
  },
  "language_info": {
   "codemirror_mode": {
    "name": "ipython",
    "version": 3
   },
   "file_extension": ".py",
   "mimetype": "text/x-python",
   "name": "python",
   "nbconvert_exporter": "python",
   "pygments_lexer": "ipython3",
   "version": "3.10.6"
  },
  "orig_nbformat": 4,
  "vscode": {
   "interpreter": {
    "hash": "b0fa6594d8f4cbf19f97940f81e996739fb7646882a419484c72d19e05852a7e"
   }
  }
 },
 "nbformat": 4,
 "nbformat_minor": 2
}
