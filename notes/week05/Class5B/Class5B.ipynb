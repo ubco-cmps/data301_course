{
 "cells": [
  {
   "cell_type": "markdown",
   "metadata": {
    "slideshow": {
     "slide_type": "slide"
    },
    "tags": []
   },
   "source": [
    "# Data Wrangling with Pandas II\n",
    "\n",
    "<img src=\"images/pipelines.jpg\" width=50% style=\"margin-left:auto; margin-right:auto\">\n",
    "\n",
    "\n",
    "<div align = \"left\"> \n",
    "    <br>\n",
    "    <br>\n",
    "Image by <a href=\"https://pixabay.com/photos/lost-places-factory-old-abandoned-2178884/\">Hands off my tags! Michael Gaida</a> from Pixabay.\n",
    "</div>"
   ]
  },
  {
   "cell_type": "markdown",
   "metadata": {
    "slideshow": {
     "slide_type": "slide"
    }
   },
   "source": [
    "## Outline"
   ]
  },
  {
   "cell_type": "markdown",
   "metadata": {
    "slideshow": {
     "slide_type": "fragment"
    }
   },
   "source": [
    "In this class we will talk more about:\n",
    "\n",
    "- ## Useful packages: Numpy and Random\n",
    "- \"Tips and tricks\" for working with `pandas`\n",
    "- Combining Datasets: Concat and Append\n",
    "- Visualizing Data using `seaborn` and `pandas`\n",
    "- Additional Notes you may found helpful"
   ]
  },
  {
   "cell_type": "markdown",
   "metadata": {
    "slideshow": {
     "slide_type": "subslide"
    }
   },
   "source": [
    "## Useful packages: Numpy and Random\n",
    "\n",
    "- Generating Random numbers using the [random package](https://docs.python.org/3/library/random.html)\n",
    "- Using [numpy](https://numpy.org/doc/stable/user/absolute_beginners.html)"
   ]
  },
  {
   "cell_type": "code",
   "execution_count": 1,
   "metadata": {
    "slideshow": {
     "slide_type": "fragment"
    }
   },
   "outputs": [],
   "source": [
    "import random\n",
    "import numpy as np"
   ]
  },
  {
   "cell_type": "code",
   "execution_count": 72,
   "metadata": {
    "slideshow": {
     "slide_type": "fragment"
    }
   },
   "outputs": [
    {
     "data": {
      "text/plain": [
       "9"
      ]
     },
     "execution_count": 72,
     "metadata": {},
     "output_type": "execute_result"
    }
   ],
   "source": [
    "# Generate a random integer (!) between a and b (here a=0, b=50)\n",
    "\n",
    "random.randint(a=0, b=50)"
   ]
  },
  {
   "cell_type": "code",
   "execution_count": 249,
   "metadata": {
    "slideshow": {
     "slide_type": "fragment"
    }
   },
   "outputs": [
    {
     "data": {
      "text/plain": [
       "33"
      ]
     },
     "execution_count": 249,
     "metadata": {},
     "output_type": "execute_result"
    }
   ],
   "source": [
    "# Generate a random number (int) (!) between a and b (here a=0, b=50) in steps. For e.g., an \"even number\"\n",
    "\n",
    "random.randrange(0, 50, step=2) + 1"
   ]
  },
  {
   "cell_type": "code",
   "execution_count": 251,
   "metadata": {
    "slideshow": {
     "slide_type": "fragment"
    }
   },
   "outputs": [
    {
     "data": {
      "text/plain": [
       "7.8"
      ]
     },
     "execution_count": 251,
     "metadata": {},
     "output_type": "execute_result"
    }
   ],
   "source": [
    "# Generate a random number (!) between a and b (here a=0, b=50) in \"step\". Can use tricks to divide.\n",
    "\n",
    "random.randrange(0, 100, step=1) / 10"
   ]
  },
  {
   "cell_type": "code",
   "execution_count": 270,
   "metadata": {
    "slideshow": {
     "slide_type": "subslide"
    }
   },
   "outputs": [
    {
     "name": "stdout",
     "output_type": "stream",
     "text": [
      "23\n",
      "19\n",
      "10\n",
      "7\n",
      "11\n",
      "35\n",
      "37\n",
      "43\n",
      "42\n",
      "41\n"
     ]
    }
   ],
   "source": [
    "# for loop to generate 10 random numbers\n",
    "\n",
    "for i in range(10):\n",
    "    print(random.randrange(5, 50))"
   ]
  },
  {
   "cell_type": "code",
   "execution_count": 278,
   "metadata": {
    "slideshow": {
     "slide_type": "fragment"
    }
   },
   "outputs": [
    {
     "data": {
      "text/plain": [
       "[21, 48, 46, 35, 18, 10, 42, 25, 49, 10]"
      ]
     },
     "execution_count": 278,
     "metadata": {},
     "output_type": "execute_result"
    }
   ],
   "source": [
    "# for loop to generate 10 random numbers\n",
    "# and store into a list\n",
    "\n",
    "rints = []\n",
    "for i in range(10):\n",
    "    rints.append(random.randrange(5, 50))\n",
    "\n",
    "rints"
   ]
  },
  {
   "cell_type": "code",
   "execution_count": 279,
   "metadata": {
    "slideshow": {
     "slide_type": "subslide"
    }
   },
   "outputs": [
    {
     "data": {
      "text/plain": [
       "[12, 33, 16, 32, 40, 26, 26, 26, 5, 31]"
      ]
     },
     "execution_count": 279,
     "metadata": {},
     "output_type": "execute_result"
    }
   ],
   "source": [
    "# list comprehension to generate 10 random numbers\n",
    "\n",
    "[random.randrange(5, 50) for i in range(10)]"
   ]
  },
  {
   "cell_type": "code",
   "execution_count": 280,
   "metadata": {
    "slideshow": {
     "slide_type": "fragment"
    }
   },
   "outputs": [
    {
     "data": {
      "text/plain": [
       "[47, 8, 35, 10, 12, 13, 31, 41, 42, 35]"
      ]
     },
     "execution_count": 280,
     "metadata": {},
     "output_type": "execute_result"
    }
   ],
   "source": [
    "# list comprehension to generate 10 random numbers\n",
    "# and store into a list\n",
    "\n",
    "rints2 = [random.randrange(5, 50) for i in range(10)]\n",
    "rints2"
   ]
  },
  {
   "cell_type": "code",
   "execution_count": 281,
   "metadata": {},
   "outputs": [
    {
     "data": {
      "text/plain": [
       "array([ 5,  6,  7,  8,  9, 10, 11, 12, 13, 14, 15, 16, 17, 18, 19, 20, 21,\n",
       "       22, 23, 24, 25, 26, 27, 28, 29, 30, 31, 32, 33, 34, 35, 36, 37, 38,\n",
       "       39, 40, 41, 42, 43, 44, 45, 46, 47, 48, 49])"
      ]
     },
     "execution_count": 281,
     "metadata": {},
     "output_type": "execute_result"
    }
   ],
   "source": [
    "np.arange(5, 50)"
   ]
  },
  {
   "cell_type": "code",
   "execution_count": 283,
   "metadata": {},
   "outputs": [],
   "source": [
    "rints3 = np.arange(5, 50)"
   ]
  },
  {
   "cell_type": "code",
   "execution_count": 288,
   "metadata": {},
   "outputs": [
    {
     "data": {
      "text/plain": [
       "46"
      ]
     },
     "execution_count": 288,
     "metadata": {},
     "output_type": "execute_result"
    }
   ],
   "source": [
    "random.choice(rints3)"
   ]
  },
  {
   "cell_type": "code",
   "execution_count": 289,
   "metadata": {
    "slideshow": {
     "slide_type": "subslide"
    }
   },
   "outputs": [
    {
     "name": "stdout",
     "output_type": "stream",
     "text": [
      "32\n",
      "39\n",
      "23\n",
      "20\n",
      "25\n",
      "24\n",
      "13\n",
      "35\n",
      "39\n",
      "26\n"
     ]
    }
   ],
   "source": [
    "# another way\n",
    "for i in range(10):\n",
    "    print(random.choice(rints3))"
   ]
  },
  {
   "cell_type": "markdown",
   "metadata": {
    "slideshow": {
     "slide_type": "subslide"
    }
   },
   "source": [
    "### Seeds\n",
    "\n",
    "What if you want the same random number every time? (Trust me, it's useful!)\n",
    "\n",
    "You can set the seed."
   ]
  },
  {
   "cell_type": "code",
   "execution_count": 326,
   "metadata": {
    "slideshow": {
     "slide_type": "fragment"
    }
   },
   "outputs": [
    {
     "data": {
      "text/plain": [
       "18"
      ]
     },
     "execution_count": 326,
     "metadata": {},
     "output_type": "execute_result"
    }
   ],
   "source": [
    "# Setting a seed to a specific number\n",
    "random.seed(3.1415)\n",
    "\n",
    "random.randint(0, 500)"
   ]
  },
  {
   "cell_type": "markdown",
   "metadata": {
    "slideshow": {
     "slide_type": "subslide"
    }
   },
   "source": [
    "## Numpy"
   ]
  },
  {
   "cell_type": "code",
   "execution_count": 329,
   "metadata": {
    "slideshow": {
     "slide_type": "fragment"
    }
   },
   "outputs": [
    {
     "data": {
      "text/plain": [
       "array([0.54729998, 0.02003206, 0.76955012, 0.73877622, 0.79553496,\n",
       "       0.90364777, 0.83038719, 0.81306473, 0.08363546, 0.15247722])"
      ]
     },
     "execution_count": 329,
     "metadata": {},
     "output_type": "execute_result"
    }
   ],
   "source": [
    "# Generate 10 random floats (!) between 0 and 1\n",
    "# Yes, numpy also has a random number generator\n",
    "\n",
    "np.random.rand(10)"
   ]
  },
  {
   "cell_type": "code",
   "execution_count": 330,
   "metadata": {
    "slideshow": {
     "slide_type": "fragment"
    }
   },
   "outputs": [],
   "source": [
    "# store that into a variable\n",
    "\n",
    "r = np.random.rand(10)"
   ]
  },
  {
   "cell_type": "code",
   "execution_count": 331,
   "metadata": {
    "slideshow": {
     "slide_type": "fragment"
    }
   },
   "outputs": [
    {
     "data": {
      "text/plain": [
       "numpy.ndarray"
      ]
     },
     "execution_count": 331,
     "metadata": {},
     "output_type": "execute_result"
    }
   ],
   "source": [
    "# Check the type:\n",
    "\n",
    "type(r)"
   ]
  },
  {
   "cell_type": "markdown",
   "metadata": {
    "slideshow": {
     "slide_type": "fragment"
    }
   },
   "source": [
    "### What is a numpy array?\n",
    "\n",
    "Let's find out!\n",
    "\n",
    "[Click here](https://numpy.org/doc/stable/user/absolute_beginners.html#what-is-an-array)"
   ]
  },
  {
   "cell_type": "code",
   "execution_count": null,
   "metadata": {
    "slideshow": {
     "slide_type": "fragment"
    }
   },
   "outputs": [],
   "source": [
    "# but numpy is a lot more useful, it is the primary tool used for scientific computing!"
   ]
  },
  {
   "cell_type": "code",
   "execution_count": null,
   "metadata": {},
   "outputs": [],
   "source": []
  },
  {
   "cell_type": "markdown",
   "metadata": {
    "slideshow": {
     "slide_type": "slide"
    }
   },
   "source": [
    "## Working with Pandas to load data"
   ]
  },
  {
   "cell_type": "code",
   "execution_count": 1,
   "metadata": {
    "slideshow": {
     "slide_type": "fragment"
    }
   },
   "outputs": [],
   "source": [
    "import pandas as pd"
   ]
  },
  {
   "cell_type": "markdown",
   "metadata": {
    "slideshow": {
     "slide_type": "slide"
    }
   },
   "source": [
    "### Always use RELATIVE paths!!"
   ]
  },
  {
   "cell_type": "code",
   "execution_count": 2,
   "metadata": {
    "slideshow": {
     "slide_type": "fragment"
    }
   },
   "outputs": [
    {
     "data": {
      "text/plain": [
       "'/Users/firasm/Sync/Teaching/ubco/2022_23/2022WT1/301/data301_course/notes/week05/Class5B'"
      ]
     },
     "execution_count": 2,
     "metadata": {},
     "output_type": "execute_result"
    }
   ],
   "source": [
    "pwd"
   ]
  },
  {
   "cell_type": "code",
   "execution_count": 3,
   "metadata": {
    "slideshow": {
     "slide_type": "fragment"
    }
   },
   "outputs": [
    {
     "name": "stdout",
     "output_type": "stream",
     "text": [
      "chord-fingers1.csv   state-abbrevs.csv    state-population.csv\n",
      "chord-fingers2.csv   state-areas.csv\n"
     ]
    }
   ],
   "source": [
    "!ls data/"
   ]
  },
  {
   "cell_type": "markdown",
   "metadata": {
    "slideshow": {
     "slide_type": "slide"
    },
    "tags": []
   },
   "source": [
    "### What if your data is not UTF-8 encoded? \n",
    "*(Hint: You will get a UnicodeDecodeError)*"
   ]
  },
  {
   "cell_type": "code",
   "execution_count": 4,
   "metadata": {
    "slideshow": {
     "slide_type": "fragment"
    }
   },
   "outputs": [
    {
     "ename": "UnicodeDecodeError",
     "evalue": "'utf-8' codec can't decode byte 0xe9 in position 8: invalid continuation byte",
     "output_type": "error",
     "traceback": [
      "\u001b[0;31m---------------------------------------------------------------------------\u001b[0m",
      "\u001b[0;31mUnicodeDecodeError\u001b[0m                        Traceback (most recent call last)",
      "Input \u001b[0;32mIn [4]\u001b[0m, in \u001b[0;36m<cell line: 3>\u001b[0;34m()\u001b[0m\n\u001b[1;32m      1\u001b[0m url \u001b[38;5;241m=\u001b[39m \u001b[38;5;124m\"\u001b[39m\u001b[38;5;124mhttp://nfdp.ccfm.org/download/data/csv/NFD\u001b[39m\u001b[38;5;124m%\u001b[39m\u001b[38;5;124m20-\u001b[39m\u001b[38;5;124m%\u001b[39m\u001b[38;5;124m20Area\u001b[39m\u001b[38;5;124m%\u001b[39m\u001b[38;5;124m20burned\u001b[39m\u001b[38;5;124m%\u001b[39m\u001b[38;5;124m20by\u001b[39m\u001b[38;5;132;01m%20c\u001b[39;00m\u001b[38;5;124mause\u001b[39m\u001b[38;5;132;01m%20c\u001b[39;00m\u001b[38;5;124mlass\u001b[39m\u001b[38;5;124m%\u001b[39m\u001b[38;5;124m20-\u001b[39m\u001b[38;5;132;01m%20E\u001b[39;00m\u001b[38;5;124mN\u001b[39m\u001b[38;5;132;01m%20F\u001b[39;00m\u001b[38;5;124mR.csv\u001b[39m\u001b[38;5;124m\"\u001b[39m\n\u001b[0;32m----> 3\u001b[0m dataset \u001b[38;5;241m=\u001b[39m \u001b[43mpd\u001b[49m\u001b[38;5;241;43m.\u001b[39;49m\u001b[43mread_csv\u001b[49m\u001b[43m(\u001b[49m\u001b[43murl\u001b[49m\u001b[43m)\u001b[49m\n",
      "File \u001b[0;32m~/.pyenv/versions/3.10.2/lib/python3.10/site-packages/pandas/util/_decorators.py:311\u001b[0m, in \u001b[0;36mdeprecate_nonkeyword_arguments.<locals>.decorate.<locals>.wrapper\u001b[0;34m(*args, **kwargs)\u001b[0m\n\u001b[1;32m    305\u001b[0m \u001b[38;5;28;01mif\u001b[39;00m \u001b[38;5;28mlen\u001b[39m(args) \u001b[38;5;241m>\u001b[39m num_allow_args:\n\u001b[1;32m    306\u001b[0m     warnings\u001b[38;5;241m.\u001b[39mwarn(\n\u001b[1;32m    307\u001b[0m         msg\u001b[38;5;241m.\u001b[39mformat(arguments\u001b[38;5;241m=\u001b[39marguments),\n\u001b[1;32m    308\u001b[0m         \u001b[38;5;167;01mFutureWarning\u001b[39;00m,\n\u001b[1;32m    309\u001b[0m         stacklevel\u001b[38;5;241m=\u001b[39mstacklevel,\n\u001b[1;32m    310\u001b[0m     )\n\u001b[0;32m--> 311\u001b[0m \u001b[38;5;28;01mreturn\u001b[39;00m \u001b[43mfunc\u001b[49m\u001b[43m(\u001b[49m\u001b[38;5;241;43m*\u001b[39;49m\u001b[43margs\u001b[49m\u001b[43m,\u001b[49m\u001b[43m \u001b[49m\u001b[38;5;241;43m*\u001b[39;49m\u001b[38;5;241;43m*\u001b[39;49m\u001b[43mkwargs\u001b[49m\u001b[43m)\u001b[49m\n",
      "File \u001b[0;32m~/.pyenv/versions/3.10.2/lib/python3.10/site-packages/pandas/io/parsers/readers.py:680\u001b[0m, in \u001b[0;36mread_csv\u001b[0;34m(filepath_or_buffer, sep, delimiter, header, names, index_col, usecols, squeeze, prefix, mangle_dupe_cols, dtype, engine, converters, true_values, false_values, skipinitialspace, skiprows, skipfooter, nrows, na_values, keep_default_na, na_filter, verbose, skip_blank_lines, parse_dates, infer_datetime_format, keep_date_col, date_parser, dayfirst, cache_dates, iterator, chunksize, compression, thousands, decimal, lineterminator, quotechar, quoting, doublequote, escapechar, comment, encoding, encoding_errors, dialect, error_bad_lines, warn_bad_lines, on_bad_lines, delim_whitespace, low_memory, memory_map, float_precision, storage_options)\u001b[0m\n\u001b[1;32m    665\u001b[0m kwds_defaults \u001b[38;5;241m=\u001b[39m _refine_defaults_read(\n\u001b[1;32m    666\u001b[0m     dialect,\n\u001b[1;32m    667\u001b[0m     delimiter,\n\u001b[0;32m   (...)\u001b[0m\n\u001b[1;32m    676\u001b[0m     defaults\u001b[38;5;241m=\u001b[39m{\u001b[38;5;124m\"\u001b[39m\u001b[38;5;124mdelimiter\u001b[39m\u001b[38;5;124m\"\u001b[39m: \u001b[38;5;124m\"\u001b[39m\u001b[38;5;124m,\u001b[39m\u001b[38;5;124m\"\u001b[39m},\n\u001b[1;32m    677\u001b[0m )\n\u001b[1;32m    678\u001b[0m kwds\u001b[38;5;241m.\u001b[39mupdate(kwds_defaults)\n\u001b[0;32m--> 680\u001b[0m \u001b[38;5;28;01mreturn\u001b[39;00m \u001b[43m_read\u001b[49m\u001b[43m(\u001b[49m\u001b[43mfilepath_or_buffer\u001b[49m\u001b[43m,\u001b[49m\u001b[43m \u001b[49m\u001b[43mkwds\u001b[49m\u001b[43m)\u001b[49m\n",
      "File \u001b[0;32m~/.pyenv/versions/3.10.2/lib/python3.10/site-packages/pandas/io/parsers/readers.py:575\u001b[0m, in \u001b[0;36m_read\u001b[0;34m(filepath_or_buffer, kwds)\u001b[0m\n\u001b[1;32m    572\u001b[0m _validate_names(kwds\u001b[38;5;241m.\u001b[39mget(\u001b[38;5;124m\"\u001b[39m\u001b[38;5;124mnames\u001b[39m\u001b[38;5;124m\"\u001b[39m, \u001b[38;5;28;01mNone\u001b[39;00m))\n\u001b[1;32m    574\u001b[0m \u001b[38;5;66;03m# Create the parser.\u001b[39;00m\n\u001b[0;32m--> 575\u001b[0m parser \u001b[38;5;241m=\u001b[39m \u001b[43mTextFileReader\u001b[49m\u001b[43m(\u001b[49m\u001b[43mfilepath_or_buffer\u001b[49m\u001b[43m,\u001b[49m\u001b[43m \u001b[49m\u001b[38;5;241;43m*\u001b[39;49m\u001b[38;5;241;43m*\u001b[39;49m\u001b[43mkwds\u001b[49m\u001b[43m)\u001b[49m\n\u001b[1;32m    577\u001b[0m \u001b[38;5;28;01mif\u001b[39;00m chunksize \u001b[38;5;129;01mor\u001b[39;00m iterator:\n\u001b[1;32m    578\u001b[0m     \u001b[38;5;28;01mreturn\u001b[39;00m parser\n",
      "File \u001b[0;32m~/.pyenv/versions/3.10.2/lib/python3.10/site-packages/pandas/io/parsers/readers.py:933\u001b[0m, in \u001b[0;36mTextFileReader.__init__\u001b[0;34m(self, f, engine, **kwds)\u001b[0m\n\u001b[1;32m    930\u001b[0m     \u001b[38;5;28mself\u001b[39m\u001b[38;5;241m.\u001b[39moptions[\u001b[38;5;124m\"\u001b[39m\u001b[38;5;124mhas_index_names\u001b[39m\u001b[38;5;124m\"\u001b[39m] \u001b[38;5;241m=\u001b[39m kwds[\u001b[38;5;124m\"\u001b[39m\u001b[38;5;124mhas_index_names\u001b[39m\u001b[38;5;124m\"\u001b[39m]\n\u001b[1;32m    932\u001b[0m \u001b[38;5;28mself\u001b[39m\u001b[38;5;241m.\u001b[39mhandles: IOHandles \u001b[38;5;241m|\u001b[39m \u001b[38;5;28;01mNone\u001b[39;00m \u001b[38;5;241m=\u001b[39m \u001b[38;5;28;01mNone\u001b[39;00m\n\u001b[0;32m--> 933\u001b[0m \u001b[38;5;28mself\u001b[39m\u001b[38;5;241m.\u001b[39m_engine \u001b[38;5;241m=\u001b[39m \u001b[38;5;28;43mself\u001b[39;49m\u001b[38;5;241;43m.\u001b[39;49m\u001b[43m_make_engine\u001b[49m\u001b[43m(\u001b[49m\u001b[43mf\u001b[49m\u001b[43m,\u001b[49m\u001b[43m \u001b[49m\u001b[38;5;28;43mself\u001b[39;49m\u001b[38;5;241;43m.\u001b[39;49m\u001b[43mengine\u001b[49m\u001b[43m)\u001b[49m\n",
      "File \u001b[0;32m~/.pyenv/versions/3.10.2/lib/python3.10/site-packages/pandas/io/parsers/readers.py:1235\u001b[0m, in \u001b[0;36mTextFileReader._make_engine\u001b[0;34m(self, f, engine)\u001b[0m\n\u001b[1;32m   1232\u001b[0m     \u001b[38;5;28;01mraise\u001b[39;00m \u001b[38;5;167;01mValueError\u001b[39;00m(msg)\n\u001b[1;32m   1234\u001b[0m \u001b[38;5;28;01mtry\u001b[39;00m:\n\u001b[0;32m-> 1235\u001b[0m     \u001b[38;5;28;01mreturn\u001b[39;00m \u001b[43mmapping\u001b[49m\u001b[43m[\u001b[49m\u001b[43mengine\u001b[49m\u001b[43m]\u001b[49m\u001b[43m(\u001b[49m\u001b[43mf\u001b[49m\u001b[43m,\u001b[49m\u001b[43m \u001b[49m\u001b[38;5;241;43m*\u001b[39;49m\u001b[38;5;241;43m*\u001b[39;49m\u001b[38;5;28;43mself\u001b[39;49m\u001b[38;5;241;43m.\u001b[39;49m\u001b[43moptions\u001b[49m\u001b[43m)\u001b[49m\n\u001b[1;32m   1236\u001b[0m \u001b[38;5;28;01mexcept\u001b[39;00m \u001b[38;5;167;01mException\u001b[39;00m:\n\u001b[1;32m   1237\u001b[0m     \u001b[38;5;28;01mif\u001b[39;00m \u001b[38;5;28mself\u001b[39m\u001b[38;5;241m.\u001b[39mhandles \u001b[38;5;129;01mis\u001b[39;00m \u001b[38;5;129;01mnot\u001b[39;00m \u001b[38;5;28;01mNone\u001b[39;00m:\n",
      "File \u001b[0;32m~/.pyenv/versions/3.10.2/lib/python3.10/site-packages/pandas/io/parsers/c_parser_wrapper.py:75\u001b[0m, in \u001b[0;36mCParserWrapper.__init__\u001b[0;34m(self, src, **kwds)\u001b[0m\n\u001b[1;32m     72\u001b[0m     kwds\u001b[38;5;241m.\u001b[39mpop(key, \u001b[38;5;28;01mNone\u001b[39;00m)\n\u001b[1;32m     74\u001b[0m kwds[\u001b[38;5;124m\"\u001b[39m\u001b[38;5;124mdtype\u001b[39m\u001b[38;5;124m\"\u001b[39m] \u001b[38;5;241m=\u001b[39m ensure_dtype_objs(kwds\u001b[38;5;241m.\u001b[39mget(\u001b[38;5;124m\"\u001b[39m\u001b[38;5;124mdtype\u001b[39m\u001b[38;5;124m\"\u001b[39m, \u001b[38;5;28;01mNone\u001b[39;00m))\n\u001b[0;32m---> 75\u001b[0m \u001b[38;5;28mself\u001b[39m\u001b[38;5;241m.\u001b[39m_reader \u001b[38;5;241m=\u001b[39m \u001b[43mparsers\u001b[49m\u001b[38;5;241;43m.\u001b[39;49m\u001b[43mTextReader\u001b[49m\u001b[43m(\u001b[49m\u001b[43msrc\u001b[49m\u001b[43m,\u001b[49m\u001b[43m \u001b[49m\u001b[38;5;241;43m*\u001b[39;49m\u001b[38;5;241;43m*\u001b[39;49m\u001b[43mkwds\u001b[49m\u001b[43m)\u001b[49m\n\u001b[1;32m     77\u001b[0m \u001b[38;5;28mself\u001b[39m\u001b[38;5;241m.\u001b[39munnamed_cols \u001b[38;5;241m=\u001b[39m \u001b[38;5;28mself\u001b[39m\u001b[38;5;241m.\u001b[39m_reader\u001b[38;5;241m.\u001b[39munnamed_cols\n\u001b[1;32m     79\u001b[0m \u001b[38;5;66;03m# error: Cannot determine type of 'names'\u001b[39;00m\n",
      "File \u001b[0;32mpandas/_libs/parsers.pyx:544\u001b[0m, in \u001b[0;36mpandas._libs.parsers.TextReader.__cinit__\u001b[0;34m()\u001b[0m\n",
      "File \u001b[0;32mpandas/_libs/parsers.pyx:633\u001b[0m, in \u001b[0;36mpandas._libs.parsers.TextReader._get_header\u001b[0;34m()\u001b[0m\n",
      "File \u001b[0;32mpandas/_libs/parsers.pyx:847\u001b[0m, in \u001b[0;36mpandas._libs.parsers.TextReader._tokenize_rows\u001b[0;34m()\u001b[0m\n",
      "File \u001b[0;32mpandas/_libs/parsers.pyx:1952\u001b[0m, in \u001b[0;36mpandas._libs.parsers.raise_parser_error\u001b[0;34m()\u001b[0m\n",
      "\u001b[0;31mUnicodeDecodeError\u001b[0m: 'utf-8' codec can't decode byte 0xe9 in position 8: invalid continuation byte"
     ]
    }
   ],
   "source": [
    "url = \"http://nfdp.ccfm.org/download/data/csv/NFD%20-%20Area%20burned%20by%20cause%20class%20-%20EN%20FR.csv\"\n",
    "\n",
    "dataset = pd.read_csv(url)"
   ]
  },
  {
   "cell_type": "markdown",
   "metadata": {
    "slideshow": {
     "slide_type": "fragment"
    }
   },
   "source": [
    "#### Demo\n",
    "\n",
    "Now what!?\n",
    "\n",
    "Now we google it..."
   ]
  },
  {
   "cell_type": "markdown",
   "metadata": {
    "slideshow": {
     "slide_type": "subslide"
    }
   },
   "source": [
    "And according to [this stack overflow page](https://stackoverflow.com/a/18172249): we should try:\n",
    "\n",
    "```\n",
    "pd.read_csv(url, encoding='latin')\n",
    "```\n",
    "\n",
    "So let's give it a shot:"
   ]
  },
  {
   "cell_type": "code",
   "execution_count": 5,
   "metadata": {
    "slideshow": {
     "slide_type": "fragment"
    }
   },
   "outputs": [
    {
     "data": {
      "text/html": [
       "<div>\n",
       "<style scoped>\n",
       "    .dataframe tbody tr th:only-of-type {\n",
       "        vertical-align: middle;\n",
       "    }\n",
       "\n",
       "    .dataframe tbody tr th {\n",
       "        vertical-align: top;\n",
       "    }\n",
       "\n",
       "    .dataframe thead th {\n",
       "        text-align: right;\n",
       "    }\n",
       "</style>\n",
       "<table border=\"1\" class=\"dataframe\">\n",
       "  <thead>\n",
       "    <tr style=\"text-align: right;\">\n",
       "      <th></th>\n",
       "      <th>Year</th>\n",
       "      <th>Année</th>\n",
       "      <th>ISO</th>\n",
       "      <th>Jurisdiction</th>\n",
       "      <th>Juridiction</th>\n",
       "      <th>Cause</th>\n",
       "      <th>Origine</th>\n",
       "      <th>Area (hectares)</th>\n",
       "      <th>Data Qualifier</th>\n",
       "      <th>Superficie (en hectare)</th>\n",
       "      <th>Qualificatifs de données</th>\n",
       "    </tr>\n",
       "  </thead>\n",
       "  <tbody>\n",
       "    <tr>\n",
       "      <th>0</th>\n",
       "      <td>1990</td>\n",
       "      <td>1990</td>\n",
       "      <td>AB</td>\n",
       "      <td>Alberta</td>\n",
       "      <td>Alberta</td>\n",
       "      <td>Human activity</td>\n",
       "      <td>Activités humaines</td>\n",
       "      <td>2393.8</td>\n",
       "      <td>a</td>\n",
       "      <td>2393.8</td>\n",
       "      <td>a</td>\n",
       "    </tr>\n",
       "    <tr>\n",
       "      <th>1</th>\n",
       "      <td>1990</td>\n",
       "      <td>1990</td>\n",
       "      <td>AB</td>\n",
       "      <td>Alberta</td>\n",
       "      <td>Alberta</td>\n",
       "      <td>Lightning</td>\n",
       "      <td>Foudre</td>\n",
       "      <td>55482.6</td>\n",
       "      <td>a</td>\n",
       "      <td>55482.6</td>\n",
       "      <td>a</td>\n",
       "    </tr>\n",
       "    <tr>\n",
       "      <th>2</th>\n",
       "      <td>1990</td>\n",
       "      <td>1990</td>\n",
       "      <td>AB</td>\n",
       "      <td>Alberta</td>\n",
       "      <td>Alberta</td>\n",
       "      <td>Unspecified</td>\n",
       "      <td>Indéterminée</td>\n",
       "      <td>1008.8</td>\n",
       "      <td>a</td>\n",
       "      <td>1008.8</td>\n",
       "      <td>a</td>\n",
       "    </tr>\n",
       "    <tr>\n",
       "      <th>3</th>\n",
       "      <td>1990</td>\n",
       "      <td>1990</td>\n",
       "      <td>BC</td>\n",
       "      <td>British Columbia</td>\n",
       "      <td>Colombie-Britannique</td>\n",
       "      <td>Human activity</td>\n",
       "      <td>Activités humaines</td>\n",
       "      <td>40278.3</td>\n",
       "      <td>a</td>\n",
       "      <td>40278.3</td>\n",
       "      <td>a</td>\n",
       "    </tr>\n",
       "    <tr>\n",
       "      <th>4</th>\n",
       "      <td>1990</td>\n",
       "      <td>1990</td>\n",
       "      <td>BC</td>\n",
       "      <td>British Columbia</td>\n",
       "      <td>Colombie-Britannique</td>\n",
       "      <td>Lightning</td>\n",
       "      <td>Foudre</td>\n",
       "      <td>35503.5</td>\n",
       "      <td>a</td>\n",
       "      <td>35503.5</td>\n",
       "      <td>a</td>\n",
       "    </tr>\n",
       "    <tr>\n",
       "      <th>...</th>\n",
       "      <td>...</td>\n",
       "      <td>...</td>\n",
       "      <td>...</td>\n",
       "      <td>...</td>\n",
       "      <td>...</td>\n",
       "      <td>...</td>\n",
       "      <td>...</td>\n",
       "      <td>...</td>\n",
       "      <td>...</td>\n",
       "      <td>...</td>\n",
       "      <td>...</td>\n",
       "    </tr>\n",
       "    <tr>\n",
       "      <th>1054</th>\n",
       "      <td>2021</td>\n",
       "      <td>2021</td>\n",
       "      <td>PC</td>\n",
       "      <td>Parks Canada</td>\n",
       "      <td>Parcs Canada</td>\n",
       "      <td>Unspecified</td>\n",
       "      <td>Indéterminée</td>\n",
       "      <td>42538.0</td>\n",
       "      <td>e</td>\n",
       "      <td>42538.0</td>\n",
       "      <td>e</td>\n",
       "    </tr>\n",
       "    <tr>\n",
       "      <th>1055</th>\n",
       "      <td>2021</td>\n",
       "      <td>2021</td>\n",
       "      <td>PE</td>\n",
       "      <td>Prince Edward Island</td>\n",
       "      <td>Île-du-Prince-Édouard</td>\n",
       "      <td>Unspecified</td>\n",
       "      <td>Indéterminée</td>\n",
       "      <td>0.1</td>\n",
       "      <td>e</td>\n",
       "      <td>0.1</td>\n",
       "      <td>e</td>\n",
       "    </tr>\n",
       "    <tr>\n",
       "      <th>1056</th>\n",
       "      <td>2021</td>\n",
       "      <td>2021</td>\n",
       "      <td>QC</td>\n",
       "      <td>Quebec</td>\n",
       "      <td>Québec</td>\n",
       "      <td>Unspecified</td>\n",
       "      <td>Indéterminée</td>\n",
       "      <td>49748.0</td>\n",
       "      <td>e</td>\n",
       "      <td>49748.0</td>\n",
       "      <td>e</td>\n",
       "    </tr>\n",
       "    <tr>\n",
       "      <th>1057</th>\n",
       "      <td>2021</td>\n",
       "      <td>2021</td>\n",
       "      <td>SK</td>\n",
       "      <td>Saskatchewan</td>\n",
       "      <td>Saskatchewan</td>\n",
       "      <td>Unspecified</td>\n",
       "      <td>Indéterminée</td>\n",
       "      <td>956084.0</td>\n",
       "      <td>e</td>\n",
       "      <td>956084.0</td>\n",
       "      <td>e</td>\n",
       "    </tr>\n",
       "    <tr>\n",
       "      <th>1058</th>\n",
       "      <td>2021</td>\n",
       "      <td>2021</td>\n",
       "      <td>YT</td>\n",
       "      <td>Yukon</td>\n",
       "      <td>Yukon</td>\n",
       "      <td>Unspecified</td>\n",
       "      <td>Indéterminée</td>\n",
       "      <td>118126.0</td>\n",
       "      <td>e</td>\n",
       "      <td>118126.0</td>\n",
       "      <td>e</td>\n",
       "    </tr>\n",
       "  </tbody>\n",
       "</table>\n",
       "<p>1059 rows × 11 columns</p>\n",
       "</div>"
      ],
      "text/plain": [
       "      Year  Année ISO          Jurisdiction            Juridiction  \\\n",
       "0     1990   1990  AB               Alberta                Alberta   \n",
       "1     1990   1990  AB               Alberta                Alberta   \n",
       "2     1990   1990  AB               Alberta                Alberta   \n",
       "3     1990   1990  BC      British Columbia   Colombie-Britannique   \n",
       "4     1990   1990  BC      British Columbia   Colombie-Britannique   \n",
       "...    ...    ...  ..                   ...                    ...   \n",
       "1054  2021   2021  PC          Parks Canada           Parcs Canada   \n",
       "1055  2021   2021  PE  Prince Edward Island  Île-du-Prince-Édouard   \n",
       "1056  2021   2021  QC                Quebec                 Québec   \n",
       "1057  2021   2021  SK          Saskatchewan           Saskatchewan   \n",
       "1058  2021   2021  YT                 Yukon                  Yukon   \n",
       "\n",
       "               Cause             Origine  Area (hectares) Data Qualifier  \\\n",
       "0     Human activity  Activités humaines           2393.8              a   \n",
       "1          Lightning              Foudre          55482.6              a   \n",
       "2        Unspecified        Indéterminée           1008.8              a   \n",
       "3     Human activity  Activités humaines          40278.3              a   \n",
       "4          Lightning              Foudre          35503.5              a   \n",
       "...              ...                 ...              ...            ...   \n",
       "1054     Unspecified        Indéterminée          42538.0              e   \n",
       "1055     Unspecified        Indéterminée              0.1              e   \n",
       "1056     Unspecified        Indéterminée          49748.0              e   \n",
       "1057     Unspecified        Indéterminée         956084.0              e   \n",
       "1058     Unspecified        Indéterminée         118126.0              e   \n",
       "\n",
       "      Superficie (en hectare) Qualificatifs de données  \n",
       "0                      2393.8                        a  \n",
       "1                     55482.6                        a  \n",
       "2                      1008.8                        a  \n",
       "3                     40278.3                        a  \n",
       "4                     35503.5                        a  \n",
       "...                       ...                      ...  \n",
       "1054                  42538.0                        e  \n",
       "1055                      0.1                        e  \n",
       "1056                  49748.0                        e  \n",
       "1057                 956084.0                        e  \n",
       "1058                 118126.0                        e  \n",
       "\n",
       "[1059 rows x 11 columns]"
      ]
     },
     "execution_count": 5,
     "metadata": {},
     "output_type": "execute_result"
    }
   ],
   "source": [
    "pd.read_csv(url, encoding=\"latin\")\n",
    "\n",
    "# Works!!"
   ]
  },
  {
   "cell_type": "markdown",
   "metadata": {
    "slideshow": {
     "slide_type": "subslide"
    }
   },
   "source": [
    "### What if your data is not comma-separated?"
   ]
  },
  {
   "cell_type": "code",
   "execution_count": 7,
   "metadata": {
    "slideshow": {
     "slide_type": "fragment"
    }
   },
   "outputs": [
    {
     "ename": "ParserError",
     "evalue": "Error tokenizing data. C error: Expected 10 fields in line 7, saw 11\n",
     "output_type": "error",
     "traceback": [
      "\u001b[0;31m---------------------------------------------------------------------------\u001b[0m",
      "\u001b[0;31mParserError\u001b[0m                               Traceback (most recent call last)",
      "Input \u001b[0;32mIn [7]\u001b[0m, in \u001b[0;36m<cell line: 1>\u001b[0;34m()\u001b[0m\n\u001b[0;32m----> 1\u001b[0m chord1 \u001b[38;5;241m=\u001b[39m \u001b[43mpd\u001b[49m\u001b[38;5;241;43m.\u001b[39;49m\u001b[43mread_csv\u001b[49m\u001b[43m(\u001b[49m\u001b[38;5;124;43m\"\u001b[39;49m\u001b[38;5;124;43mdata/chord-fingers1.csv\u001b[39;49m\u001b[38;5;124;43m\"\u001b[39;49m\u001b[43m)\u001b[49m\n\u001b[1;32m      2\u001b[0m chord1\u001b[38;5;241m.\u001b[39mhead()\n",
      "File \u001b[0;32m~/.pyenv/versions/3.10.2/lib/python3.10/site-packages/pandas/util/_decorators.py:311\u001b[0m, in \u001b[0;36mdeprecate_nonkeyword_arguments.<locals>.decorate.<locals>.wrapper\u001b[0;34m(*args, **kwargs)\u001b[0m\n\u001b[1;32m    305\u001b[0m \u001b[38;5;28;01mif\u001b[39;00m \u001b[38;5;28mlen\u001b[39m(args) \u001b[38;5;241m>\u001b[39m num_allow_args:\n\u001b[1;32m    306\u001b[0m     warnings\u001b[38;5;241m.\u001b[39mwarn(\n\u001b[1;32m    307\u001b[0m         msg\u001b[38;5;241m.\u001b[39mformat(arguments\u001b[38;5;241m=\u001b[39marguments),\n\u001b[1;32m    308\u001b[0m         \u001b[38;5;167;01mFutureWarning\u001b[39;00m,\n\u001b[1;32m    309\u001b[0m         stacklevel\u001b[38;5;241m=\u001b[39mstacklevel,\n\u001b[1;32m    310\u001b[0m     )\n\u001b[0;32m--> 311\u001b[0m \u001b[38;5;28;01mreturn\u001b[39;00m \u001b[43mfunc\u001b[49m\u001b[43m(\u001b[49m\u001b[38;5;241;43m*\u001b[39;49m\u001b[43margs\u001b[49m\u001b[43m,\u001b[49m\u001b[43m \u001b[49m\u001b[38;5;241;43m*\u001b[39;49m\u001b[38;5;241;43m*\u001b[39;49m\u001b[43mkwargs\u001b[49m\u001b[43m)\u001b[49m\n",
      "File \u001b[0;32m~/.pyenv/versions/3.10.2/lib/python3.10/site-packages/pandas/io/parsers/readers.py:680\u001b[0m, in \u001b[0;36mread_csv\u001b[0;34m(filepath_or_buffer, sep, delimiter, header, names, index_col, usecols, squeeze, prefix, mangle_dupe_cols, dtype, engine, converters, true_values, false_values, skipinitialspace, skiprows, skipfooter, nrows, na_values, keep_default_na, na_filter, verbose, skip_blank_lines, parse_dates, infer_datetime_format, keep_date_col, date_parser, dayfirst, cache_dates, iterator, chunksize, compression, thousands, decimal, lineterminator, quotechar, quoting, doublequote, escapechar, comment, encoding, encoding_errors, dialect, error_bad_lines, warn_bad_lines, on_bad_lines, delim_whitespace, low_memory, memory_map, float_precision, storage_options)\u001b[0m\n\u001b[1;32m    665\u001b[0m kwds_defaults \u001b[38;5;241m=\u001b[39m _refine_defaults_read(\n\u001b[1;32m    666\u001b[0m     dialect,\n\u001b[1;32m    667\u001b[0m     delimiter,\n\u001b[0;32m   (...)\u001b[0m\n\u001b[1;32m    676\u001b[0m     defaults\u001b[38;5;241m=\u001b[39m{\u001b[38;5;124m\"\u001b[39m\u001b[38;5;124mdelimiter\u001b[39m\u001b[38;5;124m\"\u001b[39m: \u001b[38;5;124m\"\u001b[39m\u001b[38;5;124m,\u001b[39m\u001b[38;5;124m\"\u001b[39m},\n\u001b[1;32m    677\u001b[0m )\n\u001b[1;32m    678\u001b[0m kwds\u001b[38;5;241m.\u001b[39mupdate(kwds_defaults)\n\u001b[0;32m--> 680\u001b[0m \u001b[38;5;28;01mreturn\u001b[39;00m \u001b[43m_read\u001b[49m\u001b[43m(\u001b[49m\u001b[43mfilepath_or_buffer\u001b[49m\u001b[43m,\u001b[49m\u001b[43m \u001b[49m\u001b[43mkwds\u001b[49m\u001b[43m)\u001b[49m\n",
      "File \u001b[0;32m~/.pyenv/versions/3.10.2/lib/python3.10/site-packages/pandas/io/parsers/readers.py:581\u001b[0m, in \u001b[0;36m_read\u001b[0;34m(filepath_or_buffer, kwds)\u001b[0m\n\u001b[1;32m    578\u001b[0m     \u001b[38;5;28;01mreturn\u001b[39;00m parser\n\u001b[1;32m    580\u001b[0m \u001b[38;5;28;01mwith\u001b[39;00m parser:\n\u001b[0;32m--> 581\u001b[0m     \u001b[38;5;28;01mreturn\u001b[39;00m \u001b[43mparser\u001b[49m\u001b[38;5;241;43m.\u001b[39;49m\u001b[43mread\u001b[49m\u001b[43m(\u001b[49m\u001b[43mnrows\u001b[49m\u001b[43m)\u001b[49m\n",
      "File \u001b[0;32m~/.pyenv/versions/3.10.2/lib/python3.10/site-packages/pandas/io/parsers/readers.py:1254\u001b[0m, in \u001b[0;36mTextFileReader.read\u001b[0;34m(self, nrows)\u001b[0m\n\u001b[1;32m   1252\u001b[0m nrows \u001b[38;5;241m=\u001b[39m validate_integer(\u001b[38;5;124m\"\u001b[39m\u001b[38;5;124mnrows\u001b[39m\u001b[38;5;124m\"\u001b[39m, nrows)\n\u001b[1;32m   1253\u001b[0m \u001b[38;5;28;01mtry\u001b[39;00m:\n\u001b[0;32m-> 1254\u001b[0m     index, columns, col_dict \u001b[38;5;241m=\u001b[39m \u001b[38;5;28;43mself\u001b[39;49m\u001b[38;5;241;43m.\u001b[39;49m\u001b[43m_engine\u001b[49m\u001b[38;5;241;43m.\u001b[39;49m\u001b[43mread\u001b[49m\u001b[43m(\u001b[49m\u001b[43mnrows\u001b[49m\u001b[43m)\u001b[49m\n\u001b[1;32m   1255\u001b[0m \u001b[38;5;28;01mexcept\u001b[39;00m \u001b[38;5;167;01mException\u001b[39;00m:\n\u001b[1;32m   1256\u001b[0m     \u001b[38;5;28mself\u001b[39m\u001b[38;5;241m.\u001b[39mclose()\n",
      "File \u001b[0;32m~/.pyenv/versions/3.10.2/lib/python3.10/site-packages/pandas/io/parsers/c_parser_wrapper.py:225\u001b[0m, in \u001b[0;36mCParserWrapper.read\u001b[0;34m(self, nrows)\u001b[0m\n\u001b[1;32m    223\u001b[0m \u001b[38;5;28;01mtry\u001b[39;00m:\n\u001b[1;32m    224\u001b[0m     \u001b[38;5;28;01mif\u001b[39;00m \u001b[38;5;28mself\u001b[39m\u001b[38;5;241m.\u001b[39mlow_memory:\n\u001b[0;32m--> 225\u001b[0m         chunks \u001b[38;5;241m=\u001b[39m \u001b[38;5;28;43mself\u001b[39;49m\u001b[38;5;241;43m.\u001b[39;49m\u001b[43m_reader\u001b[49m\u001b[38;5;241;43m.\u001b[39;49m\u001b[43mread_low_memory\u001b[49m\u001b[43m(\u001b[49m\u001b[43mnrows\u001b[49m\u001b[43m)\u001b[49m\n\u001b[1;32m    226\u001b[0m         \u001b[38;5;66;03m# destructive to chunks\u001b[39;00m\n\u001b[1;32m    227\u001b[0m         data \u001b[38;5;241m=\u001b[39m _concatenate_chunks(chunks)\n",
      "File \u001b[0;32mpandas/_libs/parsers.pyx:805\u001b[0m, in \u001b[0;36mpandas._libs.parsers.TextReader.read_low_memory\u001b[0;34m()\u001b[0m\n",
      "File \u001b[0;32mpandas/_libs/parsers.pyx:861\u001b[0m, in \u001b[0;36mpandas._libs.parsers.TextReader._read_rows\u001b[0;34m()\u001b[0m\n",
      "File \u001b[0;32mpandas/_libs/parsers.pyx:847\u001b[0m, in \u001b[0;36mpandas._libs.parsers.TextReader._tokenize_rows\u001b[0;34m()\u001b[0m\n",
      "File \u001b[0;32mpandas/_libs/parsers.pyx:1960\u001b[0m, in \u001b[0;36mpandas._libs.parsers.raise_parser_error\u001b[0;34m()\u001b[0m\n",
      "\u001b[0;31mParserError\u001b[0m: Error tokenizing data. C error: Expected 10 fields in line 7, saw 11\n"
     ]
    }
   ],
   "source": [
    "chord1 = pd.read_csv(\"data/chord-fingers1.csv\")\n",
    "chord1.head()"
   ]
  },
  {
   "cell_type": "markdown",
   "metadata": {
    "slideshow": {
     "slide_type": "fragment"
    }
   },
   "source": [
    "#### Demo\n",
    "\n",
    "Now what!?\n",
    "\n",
    "Now we google the error message..."
   ]
  },
  {
   "cell_type": "markdown",
   "metadata": {
    "slideshow": {
     "slide_type": "subslide"
    }
   },
   "source": [
    "And according to [this stack overflow page](https://stackoverflow.com/a/59429173): we should try:\n",
    "\n",
    "```\n",
    "pd.read_csv('data/chord-fingers1.csv', sep=';')\n",
    "```\n",
    "\n",
    "So let's give it a shot:"
   ]
  },
  {
   "cell_type": "code",
   "execution_count": 10,
   "metadata": {
    "slideshow": {
     "slide_type": "fragment"
    }
   },
   "outputs": [
    {
     "data": {
      "text/html": [
       "<div>\n",
       "<style scoped>\n",
       "    .dataframe tbody tr th:only-of-type {\n",
       "        vertical-align: middle;\n",
       "    }\n",
       "\n",
       "    .dataframe tbody tr th {\n",
       "        vertical-align: top;\n",
       "    }\n",
       "\n",
       "    .dataframe thead th {\n",
       "        text-align: right;\n",
       "    }\n",
       "</style>\n",
       "<table border=\"1\" class=\"dataframe\">\n",
       "  <thead>\n",
       "    <tr style=\"text-align: right;\">\n",
       "      <th></th>\n",
       "      <th>CHORD_ROOT</th>\n",
       "      <th>CHORD_TYPE</th>\n",
       "      <th>CHORD_STRUCTURE</th>\n",
       "      <th>FINGER_POSITIONS</th>\n",
       "      <th>NOTE_NAMES</th>\n",
       "    </tr>\n",
       "  </thead>\n",
       "  <tbody>\n",
       "    <tr>\n",
       "      <th>0</th>\n",
       "      <td>A#</td>\n",
       "      <td>13</td>\n",
       "      <td>1;3;5;b7;9;11;13</td>\n",
       "      <td>x,1,0,2,3,4</td>\n",
       "      <td>A#,C##,G#,B#,F##</td>\n",
       "    </tr>\n",
       "    <tr>\n",
       "      <th>1</th>\n",
       "      <td>A#</td>\n",
       "      <td>13</td>\n",
       "      <td>1;3;5;b7;9;11;13</td>\n",
       "      <td>4,x,3,2,1,1</td>\n",
       "      <td>A#,G#,B#,C##,F##</td>\n",
       "    </tr>\n",
       "    <tr>\n",
       "      <th>2</th>\n",
       "      <td>A#</td>\n",
       "      <td>13</td>\n",
       "      <td>1;3;5;b7;9;11;13</td>\n",
       "      <td>1,x,1,2,3,4</td>\n",
       "      <td>A#,G#,C##,F##,B#</td>\n",
       "    </tr>\n",
       "    <tr>\n",
       "      <th>3</th>\n",
       "      <td>A#</td>\n",
       "      <td>7(#9)</td>\n",
       "      <td>1;3;5;b7;#9</td>\n",
       "      <td>x,1,0,2,4,3</td>\n",
       "      <td>A#,C##,G#,B##,E#</td>\n",
       "    </tr>\n",
       "    <tr>\n",
       "      <th>4</th>\n",
       "      <td>A#</td>\n",
       "      <td>7(#9)</td>\n",
       "      <td>1;3;5;b7;#9</td>\n",
       "      <td>2,1,3,3,3,x</td>\n",
       "      <td>A#,C##,G#,B##,E#</td>\n",
       "    </tr>\n",
       "  </tbody>\n",
       "</table>\n",
       "</div>"
      ],
      "text/plain": [
       "  CHORD_ROOT CHORD_TYPE   CHORD_STRUCTURE FINGER_POSITIONS        NOTE_NAMES\n",
       "0         A#         13  1;3;5;b7;9;11;13      x,1,0,2,3,4  A#,C##,G#,B#,F##\n",
       "1         A#         13  1;3;5;b7;9;11;13      4,x,3,2,1,1  A#,G#,B#,C##,F##\n",
       "2         A#         13  1;3;5;b7;9;11;13      1,x,1,2,3,4  A#,G#,C##,F##,B#\n",
       "3         A#      7(#9)       1;3;5;b7;#9      x,1,0,2,4,3  A#,C##,G#,B##,E#\n",
       "4         A#      7(#9)       1;3;5;b7;#9      2,1,3,3,3,x  A#,C##,G#,B##,E#"
      ]
     },
     "execution_count": 10,
     "metadata": {},
     "output_type": "execute_result"
    }
   ],
   "source": [
    "chord1 = pd.read_csv(\"data/chord-fingers1.csv\", sep=\";\")\n",
    "chord1.head()"
   ]
  },
  {
   "cell_type": "code",
   "execution_count": 11,
   "metadata": {
    "scrolled": true,
    "slideshow": {
     "slide_type": "fragment"
    }
   },
   "outputs": [
    {
     "data": {
      "text/html": [
       "<div>\n",
       "<style scoped>\n",
       "    .dataframe tbody tr th:only-of-type {\n",
       "        vertical-align: middle;\n",
       "    }\n",
       "\n",
       "    .dataframe tbody tr th {\n",
       "        vertical-align: top;\n",
       "    }\n",
       "\n",
       "    .dataframe thead th {\n",
       "        text-align: right;\n",
       "    }\n",
       "</style>\n",
       "<table border=\"1\" class=\"dataframe\">\n",
       "  <thead>\n",
       "    <tr style=\"text-align: right;\">\n",
       "      <th></th>\n",
       "      <th>CHORD_ROOT</th>\n",
       "      <th>CHORD_TYPE</th>\n",
       "      <th>CHORD_STRUCTURE</th>\n",
       "      <th>FINGER_POSITIONS</th>\n",
       "      <th>NOTE_NAMES</th>\n",
       "    </tr>\n",
       "  </thead>\n",
       "  <tbody>\n",
       "    <tr>\n",
       "      <th>0</th>\n",
       "      <td>Ab</td>\n",
       "      <td>6</td>\n",
       "      <td>1;3;5;6</td>\n",
       "      <td>x,4,2,3,1,x</td>\n",
       "      <td>Ab,C,F,Ab</td>\n",
       "    </tr>\n",
       "    <tr>\n",
       "      <th>1</th>\n",
       "      <td>Ab</td>\n",
       "      <td>6</td>\n",
       "      <td>1;3;5;6</td>\n",
       "      <td>x,x,3,2,4,1</td>\n",
       "      <td>Ab,C,F,Ab</td>\n",
       "    </tr>\n",
       "    <tr>\n",
       "      <th>2</th>\n",
       "      <td>Ab</td>\n",
       "      <td>6</td>\n",
       "      <td>1;3;5;6</td>\n",
       "      <td>2,x,1,4,x,x</td>\n",
       "      <td>Ab,F,C</td>\n",
       "    </tr>\n",
       "    <tr>\n",
       "      <th>3</th>\n",
       "      <td>Ab</td>\n",
       "      <td>6</td>\n",
       "      <td>1;3;5;6</td>\n",
       "      <td>1,x,x,3,4,x</td>\n",
       "      <td>Ab,C,F</td>\n",
       "    </tr>\n",
       "    <tr>\n",
       "      <th>4</th>\n",
       "      <td>Ab</td>\n",
       "      <td>6</td>\n",
       "      <td>1;3;5;6</td>\n",
       "      <td>x,x,1,3,1,4</td>\n",
       "      <td>Ab,Eb,F,C</td>\n",
       "    </tr>\n",
       "  </tbody>\n",
       "</table>\n",
       "</div>"
      ],
      "text/plain": [
       "  CHORD_ROOT CHORD_TYPE CHORD_STRUCTURE FINGER_POSITIONS NOTE_NAMES\n",
       "0         Ab          6         1;3;5;6      x,4,2,3,1,x  Ab,C,F,Ab\n",
       "1         Ab          6         1;3;5;6      x,x,3,2,4,1  Ab,C,F,Ab\n",
       "2         Ab          6         1;3;5;6      2,x,1,4,x,x     Ab,F,C\n",
       "3         Ab          6         1;3;5;6      1,x,x,3,4,x     Ab,C,F\n",
       "4         Ab          6         1;3;5;6      x,x,1,3,1,4  Ab,Eb,F,C"
      ]
     },
     "execution_count": 11,
     "metadata": {},
     "output_type": "execute_result"
    }
   ],
   "source": [
    "# Let's load in the second part of the dataset in the same way:\n",
    "\n",
    "chord2 = pd.read_csv(\"data/chord-fingers2.csv\", sep=\";\")\n",
    "chord2.head()"
   ]
  },
  {
   "cell_type": "code",
   "execution_count": 12,
   "metadata": {
    "slideshow": {
     "slide_type": "fragment"
    }
   },
   "outputs": [
    {
     "data": {
      "text/plain": [
       "598"
      ]
     },
     "execution_count": 12,
     "metadata": {},
     "output_type": "execute_result"
    }
   ],
   "source": [
    "len(chord1)"
   ]
  },
  {
   "cell_type": "code",
   "execution_count": 13,
   "metadata": {
    "slideshow": {
     "slide_type": "fragment"
    }
   },
   "outputs": [
    {
     "data": {
      "text/plain": [
       "2034"
      ]
     },
     "execution_count": 13,
     "metadata": {},
     "output_type": "execute_result"
    }
   ],
   "source": [
    "len(chord2)"
   ]
  },
  {
   "cell_type": "code",
   "execution_count": 14,
   "metadata": {
    "slideshow": {
     "slide_type": "fragment"
    }
   },
   "outputs": [
    {
     "data": {
      "text/plain": [
       "2632"
      ]
     },
     "execution_count": 14,
     "metadata": {},
     "output_type": "execute_result"
    }
   ],
   "source": [
    "len(chord1) + len(chord2)"
   ]
  },
  {
   "cell_type": "markdown",
   "metadata": {
    "slideshow": {
     "slide_type": "slide"
    }
   },
   "source": [
    "## Combining DataFrames together\n",
    "\n",
    "We saw that our dataset came in two parts (`chord1` and `chord2`).\n",
    "\n",
    "A common task in data analysis is to merge or combine datasets together.\n",
    "There are several combinations we can do. \n",
    "\n",
    "Let's look at just a basic one:"
   ]
  },
  {
   "cell_type": "markdown",
   "metadata": {
    "slideshow": {
     "slide_type": "subslide"
    }
   },
   "source": [
    "### Using `.concat()`\n",
    "\n",
    "[Documentation](https://pandas.pydata.org/docs/reference/api/pandas.concat.html) on the `.concat()` function\n",
    "\n",
    "![](https://pandas.pydata.org/docs/_images/merging_concat_basic.png)"
   ]
  },
  {
   "cell_type": "code",
   "execution_count": 15,
   "metadata": {},
   "outputs": [
    {
     "data": {
      "text/html": [
       "<div>\n",
       "<style scoped>\n",
       "    .dataframe tbody tr th:only-of-type {\n",
       "        vertical-align: middle;\n",
       "    }\n",
       "\n",
       "    .dataframe tbody tr th {\n",
       "        vertical-align: top;\n",
       "    }\n",
       "\n",
       "    .dataframe thead th {\n",
       "        text-align: right;\n",
       "    }\n",
       "</style>\n",
       "<table border=\"1\" class=\"dataframe\">\n",
       "  <thead>\n",
       "    <tr style=\"text-align: right;\">\n",
       "      <th></th>\n",
       "      <th>CHORD_ROOT</th>\n",
       "      <th>CHORD_TYPE</th>\n",
       "      <th>CHORD_STRUCTURE</th>\n",
       "      <th>FINGER_POSITIONS</th>\n",
       "      <th>NOTE_NAMES</th>\n",
       "    </tr>\n",
       "  </thead>\n",
       "  <tbody>\n",
       "    <tr>\n",
       "      <th>0</th>\n",
       "      <td>A#</td>\n",
       "      <td>13</td>\n",
       "      <td>1;3;5;b7;9;11;13</td>\n",
       "      <td>x,1,0,2,3,4</td>\n",
       "      <td>A#,C##,G#,B#,F##</td>\n",
       "    </tr>\n",
       "    <tr>\n",
       "      <th>1</th>\n",
       "      <td>A#</td>\n",
       "      <td>13</td>\n",
       "      <td>1;3;5;b7;9;11;13</td>\n",
       "      <td>4,x,3,2,1,1</td>\n",
       "      <td>A#,G#,B#,C##,F##</td>\n",
       "    </tr>\n",
       "    <tr>\n",
       "      <th>2</th>\n",
       "      <td>A#</td>\n",
       "      <td>13</td>\n",
       "      <td>1;3;5;b7;9;11;13</td>\n",
       "      <td>1,x,1,2,3,4</td>\n",
       "      <td>A#,G#,C##,F##,B#</td>\n",
       "    </tr>\n",
       "    <tr>\n",
       "      <th>3</th>\n",
       "      <td>A#</td>\n",
       "      <td>7(#9)</td>\n",
       "      <td>1;3;5;b7;#9</td>\n",
       "      <td>x,1,0,2,4,3</td>\n",
       "      <td>A#,C##,G#,B##,E#</td>\n",
       "    </tr>\n",
       "    <tr>\n",
       "      <th>4</th>\n",
       "      <td>A#</td>\n",
       "      <td>7(#9)</td>\n",
       "      <td>1;3;5;b7;#9</td>\n",
       "      <td>2,1,3,3,3,x</td>\n",
       "      <td>A#,C##,G#,B##,E#</td>\n",
       "    </tr>\n",
       "    <tr>\n",
       "      <th>...</th>\n",
       "      <td>...</td>\n",
       "      <td>...</td>\n",
       "      <td>...</td>\n",
       "      <td>...</td>\n",
       "      <td>...</td>\n",
       "    </tr>\n",
       "    <tr>\n",
       "      <th>593</th>\n",
       "      <td>Ab</td>\n",
       "      <td>m7</td>\n",
       "      <td>1;b3;5;b7</td>\n",
       "      <td>1,3,1,1,1,x</td>\n",
       "      <td>Ab,Eb,Gb,Cb,Eb</td>\n",
       "    </tr>\n",
       "    <tr>\n",
       "      <th>594</th>\n",
       "      <td>Ab</td>\n",
       "      <td>dim</td>\n",
       "      <td>1;b3;b5</td>\n",
       "      <td>x,x,4,3,1,2</td>\n",
       "      <td>Ab,Cb,Ebb,Ab</td>\n",
       "    </tr>\n",
       "    <tr>\n",
       "      <th>595</th>\n",
       "      <td>Ab</td>\n",
       "      <td>dim</td>\n",
       "      <td>1;b3;b5</td>\n",
       "      <td>x,1,2,4,3,x</td>\n",
       "      <td>Ab,Ebb,Ab,Cb</td>\n",
       "    </tr>\n",
       "    <tr>\n",
       "      <th>596</th>\n",
       "      <td>Ab</td>\n",
       "      <td>6</td>\n",
       "      <td>1;3;5;6</td>\n",
       "      <td>x,x,1,1,1,1</td>\n",
       "      <td>Eb,Ab,C,F</td>\n",
       "    </tr>\n",
       "    <tr>\n",
       "      <th>597</th>\n",
       "      <td>Ab</td>\n",
       "      <td>6</td>\n",
       "      <td>1;3;5;6</td>\n",
       "      <td>1,x,3,2,4,1</td>\n",
       "      <td>Ab,Ab,C,F,Ab</td>\n",
       "    </tr>\n",
       "  </tbody>\n",
       "</table>\n",
       "<p>598 rows × 5 columns</p>\n",
       "</div>"
      ],
      "text/plain": [
       "    CHORD_ROOT CHORD_TYPE   CHORD_STRUCTURE FINGER_POSITIONS        NOTE_NAMES\n",
       "0           A#         13  1;3;5;b7;9;11;13      x,1,0,2,3,4  A#,C##,G#,B#,F##\n",
       "1           A#         13  1;3;5;b7;9;11;13      4,x,3,2,1,1  A#,G#,B#,C##,F##\n",
       "2           A#         13  1;3;5;b7;9;11;13      1,x,1,2,3,4  A#,G#,C##,F##,B#\n",
       "3           A#      7(#9)       1;3;5;b7;#9      x,1,0,2,4,3  A#,C##,G#,B##,E#\n",
       "4           A#      7(#9)       1;3;5;b7;#9      2,1,3,3,3,x  A#,C##,G#,B##,E#\n",
       "..         ...        ...               ...              ...               ...\n",
       "593         Ab         m7         1;b3;5;b7      1,3,1,1,1,x    Ab,Eb,Gb,Cb,Eb\n",
       "594         Ab        dim           1;b3;b5      x,x,4,3,1,2      Ab,Cb,Ebb,Ab\n",
       "595         Ab        dim           1;b3;b5      x,1,2,4,3,x      Ab,Ebb,Ab,Cb\n",
       "596         Ab          6           1;3;5;6      x,x,1,1,1,1         Eb,Ab,C,F\n",
       "597         Ab          6           1;3;5;6      1,x,3,2,4,1      Ab,Ab,C,F,Ab\n",
       "\n",
       "[598 rows x 5 columns]"
      ]
     },
     "execution_count": 15,
     "metadata": {},
     "output_type": "execute_result"
    }
   ],
   "source": [
    "# chord1['New Column'] ='Firas'\n",
    "chord1"
   ]
  },
  {
   "cell_type": "code",
   "execution_count": 33,
   "metadata": {
    "scrolled": true,
    "slideshow": {
     "slide_type": "fragment"
    }
   },
   "outputs": [
    {
     "data": {
      "text/html": [
       "<div>\n",
       "<style scoped>\n",
       "    .dataframe tbody tr th:only-of-type {\n",
       "        vertical-align: middle;\n",
       "    }\n",
       "\n",
       "    .dataframe tbody tr th {\n",
       "        vertical-align: top;\n",
       "    }\n",
       "\n",
       "    .dataframe thead th {\n",
       "        text-align: right;\n",
       "    }\n",
       "</style>\n",
       "<table border=\"1\" class=\"dataframe\">\n",
       "  <thead>\n",
       "    <tr style=\"text-align: right;\">\n",
       "      <th></th>\n",
       "      <th>CHORD_ROOT</th>\n",
       "      <th>CHORD_TYPE</th>\n",
       "      <th>CHORD_STRUCTURE</th>\n",
       "      <th>FINGER_POSITIONS</th>\n",
       "      <th>NOTE_NAMES</th>\n",
       "      <th>New Column</th>\n",
       "    </tr>\n",
       "  </thead>\n",
       "  <tbody>\n",
       "    <tr>\n",
       "      <th>0</th>\n",
       "      <td>A#</td>\n",
       "      <td>13</td>\n",
       "      <td>1;3;5;b7;9;11;13</td>\n",
       "      <td>x,1,0,2,3,4</td>\n",
       "      <td>A#,C##,G#,B#,F##</td>\n",
       "      <td>Firas</td>\n",
       "    </tr>\n",
       "    <tr>\n",
       "      <th>1</th>\n",
       "      <td>A#</td>\n",
       "      <td>13</td>\n",
       "      <td>1;3;5;b7;9;11;13</td>\n",
       "      <td>4,x,3,2,1,1</td>\n",
       "      <td>A#,G#,B#,C##,F##</td>\n",
       "      <td>Firas</td>\n",
       "    </tr>\n",
       "    <tr>\n",
       "      <th>2</th>\n",
       "      <td>A#</td>\n",
       "      <td>13</td>\n",
       "      <td>1;3;5;b7;9;11;13</td>\n",
       "      <td>1,x,1,2,3,4</td>\n",
       "      <td>A#,G#,C##,F##,B#</td>\n",
       "      <td>Firas</td>\n",
       "    </tr>\n",
       "    <tr>\n",
       "      <th>3</th>\n",
       "      <td>A#</td>\n",
       "      <td>7(#9)</td>\n",
       "      <td>1;3;5;b7;#9</td>\n",
       "      <td>x,1,0,2,4,3</td>\n",
       "      <td>A#,C##,G#,B##,E#</td>\n",
       "      <td>Firas</td>\n",
       "    </tr>\n",
       "    <tr>\n",
       "      <th>4</th>\n",
       "      <td>A#</td>\n",
       "      <td>7(#9)</td>\n",
       "      <td>1;3;5;b7;#9</td>\n",
       "      <td>2,1,3,3,3,x</td>\n",
       "      <td>A#,C##,G#,B##,E#</td>\n",
       "      <td>Firas</td>\n",
       "    </tr>\n",
       "    <tr>\n",
       "      <th>...</th>\n",
       "      <td>...</td>\n",
       "      <td>...</td>\n",
       "      <td>...</td>\n",
       "      <td>...</td>\n",
       "      <td>...</td>\n",
       "      <td>...</td>\n",
       "    </tr>\n",
       "    <tr>\n",
       "      <th>2029</th>\n",
       "      <td>G</td>\n",
       "      <td>sus4</td>\n",
       "      <td>1;4;5</td>\n",
       "      <td>x,1,2,3,4,1</td>\n",
       "      <td>G,D,G,C,D</td>\n",
       "      <td>NaN</td>\n",
       "    </tr>\n",
       "    <tr>\n",
       "      <th>2030</th>\n",
       "      <td>G</td>\n",
       "      <td>sus4</td>\n",
       "      <td>1;4;5</td>\n",
       "      <td>x,x,3,4,1,1</td>\n",
       "      <td>G,C,D,G</td>\n",
       "      <td>NaN</td>\n",
       "    </tr>\n",
       "    <tr>\n",
       "      <th>2031</th>\n",
       "      <td>G</td>\n",
       "      <td>6/9</td>\n",
       "      <td>1;3;5;6;9</td>\n",
       "      <td>2,1,1,1,3,4</td>\n",
       "      <td>G,B,E,A,D,G</td>\n",
       "      <td>NaN</td>\n",
       "    </tr>\n",
       "    <tr>\n",
       "      <th>2032</th>\n",
       "      <td>G</td>\n",
       "      <td>6/9</td>\n",
       "      <td>1;3;5;6;9</td>\n",
       "      <td>x,x,2,1,3,4</td>\n",
       "      <td>G,B,E,A</td>\n",
       "      <td>NaN</td>\n",
       "    </tr>\n",
       "    <tr>\n",
       "      <th>2033</th>\n",
       "      <td>G</td>\n",
       "      <td>6/9</td>\n",
       "      <td>1;3;5;6;9</td>\n",
       "      <td>x,2,1,1,3,4</td>\n",
       "      <td>G,B,E,A,D</td>\n",
       "      <td>NaN</td>\n",
       "    </tr>\n",
       "  </tbody>\n",
       "</table>\n",
       "<p>2632 rows × 6 columns</p>\n",
       "</div>"
      ],
      "text/plain": [
       "     CHORD_ROOT CHORD_TYPE   CHORD_STRUCTURE FINGER_POSITIONS  \\\n",
       "0            A#         13  1;3;5;b7;9;11;13      x,1,0,2,3,4   \n",
       "1            A#         13  1;3;5;b7;9;11;13      4,x,3,2,1,1   \n",
       "2            A#         13  1;3;5;b7;9;11;13      1,x,1,2,3,4   \n",
       "3            A#      7(#9)       1;3;5;b7;#9      x,1,0,2,4,3   \n",
       "4            A#      7(#9)       1;3;5;b7;#9      2,1,3,3,3,x   \n",
       "...         ...        ...               ...              ...   \n",
       "2029          G       sus4             1;4;5      x,1,2,3,4,1   \n",
       "2030          G       sus4             1;4;5      x,x,3,4,1,1   \n",
       "2031          G        6/9         1;3;5;6;9      2,1,1,1,3,4   \n",
       "2032          G        6/9         1;3;5;6;9      x,x,2,1,3,4   \n",
       "2033          G        6/9         1;3;5;6;9      x,2,1,1,3,4   \n",
       "\n",
       "            NOTE_NAMES New Column  \n",
       "0     A#,C##,G#,B#,F##      Firas  \n",
       "1     A#,G#,B#,C##,F##      Firas  \n",
       "2     A#,G#,C##,F##,B#      Firas  \n",
       "3     A#,C##,G#,B##,E#      Firas  \n",
       "4     A#,C##,G#,B##,E#      Firas  \n",
       "...                ...        ...  \n",
       "2029         G,D,G,C,D        NaN  \n",
       "2030           G,C,D,G        NaN  \n",
       "2031       G,B,E,A,D,G        NaN  \n",
       "2032           G,B,E,A        NaN  \n",
       "2033         G,B,E,A,D        NaN  \n",
       "\n",
       "[2632 rows x 6 columns]"
      ]
     },
     "execution_count": 33,
     "metadata": {},
     "output_type": "execute_result"
    }
   ],
   "source": [
    "pd.concat([chord1, chord2])"
   ]
  },
  {
   "cell_type": "code",
   "execution_count": 16,
   "metadata": {
    "slideshow": {
     "slide_type": "fragment"
    }
   },
   "outputs": [
    {
     "data": {
      "text/html": [
       "<div>\n",
       "<style scoped>\n",
       "    .dataframe tbody tr th:only-of-type {\n",
       "        vertical-align: middle;\n",
       "    }\n",
       "\n",
       "    .dataframe tbody tr th {\n",
       "        vertical-align: top;\n",
       "    }\n",
       "\n",
       "    .dataframe thead th {\n",
       "        text-align: right;\n",
       "    }\n",
       "</style>\n",
       "<table border=\"1\" class=\"dataframe\">\n",
       "  <thead>\n",
       "    <tr style=\"text-align: right;\">\n",
       "      <th></th>\n",
       "      <th>CHORD_ROOT</th>\n",
       "      <th>CHORD_TYPE</th>\n",
       "      <th>CHORD_STRUCTURE</th>\n",
       "      <th>FINGER_POSITIONS</th>\n",
       "      <th>NOTE_NAMES</th>\n",
       "    </tr>\n",
       "  </thead>\n",
       "  <tbody>\n",
       "    <tr>\n",
       "      <th>0</th>\n",
       "      <td>A#</td>\n",
       "      <td>13</td>\n",
       "      <td>1;3;5;b7;9;11;13</td>\n",
       "      <td>x,1,0,2,3,4</td>\n",
       "      <td>A#,C##,G#,B#,F##</td>\n",
       "    </tr>\n",
       "    <tr>\n",
       "      <th>1</th>\n",
       "      <td>A#</td>\n",
       "      <td>13</td>\n",
       "      <td>1;3;5;b7;9;11;13</td>\n",
       "      <td>4,x,3,2,1,1</td>\n",
       "      <td>A#,G#,B#,C##,F##</td>\n",
       "    </tr>\n",
       "    <tr>\n",
       "      <th>2</th>\n",
       "      <td>A#</td>\n",
       "      <td>13</td>\n",
       "      <td>1;3;5;b7;9;11;13</td>\n",
       "      <td>1,x,1,2,3,4</td>\n",
       "      <td>A#,G#,C##,F##,B#</td>\n",
       "    </tr>\n",
       "    <tr>\n",
       "      <th>3</th>\n",
       "      <td>A#</td>\n",
       "      <td>7(#9)</td>\n",
       "      <td>1;3;5;b7;#9</td>\n",
       "      <td>x,1,0,2,4,3</td>\n",
       "      <td>A#,C##,G#,B##,E#</td>\n",
       "    </tr>\n",
       "    <tr>\n",
       "      <th>4</th>\n",
       "      <td>A#</td>\n",
       "      <td>7(#9)</td>\n",
       "      <td>1;3;5;b7;#9</td>\n",
       "      <td>2,1,3,3,3,x</td>\n",
       "      <td>A#,C##,G#,B##,E#</td>\n",
       "    </tr>\n",
       "    <tr>\n",
       "      <th>...</th>\n",
       "      <td>...</td>\n",
       "      <td>...</td>\n",
       "      <td>...</td>\n",
       "      <td>...</td>\n",
       "      <td>...</td>\n",
       "    </tr>\n",
       "    <tr>\n",
       "      <th>2029</th>\n",
       "      <td>G</td>\n",
       "      <td>sus4</td>\n",
       "      <td>1;4;5</td>\n",
       "      <td>x,1,2,3,4,1</td>\n",
       "      <td>G,D,G,C,D</td>\n",
       "    </tr>\n",
       "    <tr>\n",
       "      <th>2030</th>\n",
       "      <td>G</td>\n",
       "      <td>sus4</td>\n",
       "      <td>1;4;5</td>\n",
       "      <td>x,x,3,4,1,1</td>\n",
       "      <td>G,C,D,G</td>\n",
       "    </tr>\n",
       "    <tr>\n",
       "      <th>2031</th>\n",
       "      <td>G</td>\n",
       "      <td>6/9</td>\n",
       "      <td>1;3;5;6;9</td>\n",
       "      <td>2,1,1,1,3,4</td>\n",
       "      <td>G,B,E,A,D,G</td>\n",
       "    </tr>\n",
       "    <tr>\n",
       "      <th>2032</th>\n",
       "      <td>G</td>\n",
       "      <td>6/9</td>\n",
       "      <td>1;3;5;6;9</td>\n",
       "      <td>x,x,2,1,3,4</td>\n",
       "      <td>G,B,E,A</td>\n",
       "    </tr>\n",
       "    <tr>\n",
       "      <th>2033</th>\n",
       "      <td>G</td>\n",
       "      <td>6/9</td>\n",
       "      <td>1;3;5;6;9</td>\n",
       "      <td>x,2,1,1,3,4</td>\n",
       "      <td>G,B,E,A,D</td>\n",
       "    </tr>\n",
       "  </tbody>\n",
       "</table>\n",
       "<p>2632 rows × 5 columns</p>\n",
       "</div>"
      ],
      "text/plain": [
       "     CHORD_ROOT CHORD_TYPE   CHORD_STRUCTURE FINGER_POSITIONS  \\\n",
       "0            A#         13  1;3;5;b7;9;11;13      x,1,0,2,3,4   \n",
       "1            A#         13  1;3;5;b7;9;11;13      4,x,3,2,1,1   \n",
       "2            A#         13  1;3;5;b7;9;11;13      1,x,1,2,3,4   \n",
       "3            A#      7(#9)       1;3;5;b7;#9      x,1,0,2,4,3   \n",
       "4            A#      7(#9)       1;3;5;b7;#9      2,1,3,3,3,x   \n",
       "...         ...        ...               ...              ...   \n",
       "2029          G       sus4             1;4;5      x,1,2,3,4,1   \n",
       "2030          G       sus4             1;4;5      x,x,3,4,1,1   \n",
       "2031          G        6/9         1;3;5;6;9      2,1,1,1,3,4   \n",
       "2032          G        6/9         1;3;5;6;9      x,x,2,1,3,4   \n",
       "2033          G        6/9         1;3;5;6;9      x,2,1,1,3,4   \n",
       "\n",
       "            NOTE_NAMES  \n",
       "0     A#,C##,G#,B#,F##  \n",
       "1     A#,G#,B#,C##,F##  \n",
       "2     A#,G#,C##,F##,B#  \n",
       "3     A#,C##,G#,B##,E#  \n",
       "4     A#,C##,G#,B##,E#  \n",
       "...                ...  \n",
       "2029         G,D,G,C,D  \n",
       "2030           G,C,D,G  \n",
       "2031       G,B,E,A,D,G  \n",
       "2032           G,B,E,A  \n",
       "2033         G,B,E,A,D  \n",
       "\n",
       "[2632 rows x 5 columns]"
      ]
     },
     "execution_count": 16,
     "metadata": {},
     "output_type": "execute_result"
    }
   ],
   "source": [
    "# You NEED to save the output of all pandas function, do NOT use the \"inplace\" argument, it will be deprecated soon\n",
    "\n",
    "chords = pd.concat([chord1, chord2])\n",
    "\n",
    "chords"
   ]
  },
  {
   "cell_type": "markdown",
   "metadata": {
    "slideshow": {
     "slide_type": "subslide"
    }
   },
   "source": [
    "### Using `.rename()`\n",
    "\n",
    "[Documentation](https://pandas.pydata.org/docs/reference/api/pandas.DataFrame.rename.html) on the `.rename()` function: "
   ]
  },
  {
   "cell_type": "code",
   "execution_count": 17,
   "metadata": {
    "slideshow": {
     "slide_type": "fragment"
    }
   },
   "outputs": [
    {
     "data": {
      "text/plain": [
       "['CHORD_ROOT',\n",
       " 'CHORD_TYPE',\n",
       " 'CHORD_STRUCTURE',\n",
       " 'FINGER_POSITIONS',\n",
       " 'NOTE_NAMES']"
      ]
     },
     "execution_count": 17,
     "metadata": {},
     "output_type": "execute_result"
    }
   ],
   "source": [
    "# Capitals annoy me!\n",
    "\n",
    "list(chords.columns)"
   ]
  },
  {
   "cell_type": "code",
   "execution_count": 18,
   "metadata": {
    "slideshow": {
     "slide_type": "fragment"
    }
   },
   "outputs": [
    {
     "data": {
      "text/html": [
       "<div>\n",
       "<style scoped>\n",
       "    .dataframe tbody tr th:only-of-type {\n",
       "        vertical-align: middle;\n",
       "    }\n",
       "\n",
       "    .dataframe tbody tr th {\n",
       "        vertical-align: top;\n",
       "    }\n",
       "\n",
       "    .dataframe thead th {\n",
       "        text-align: right;\n",
       "    }\n",
       "</style>\n",
       "<table border=\"1\" class=\"dataframe\">\n",
       "  <thead>\n",
       "    <tr style=\"text-align: right;\">\n",
       "      <th></th>\n",
       "      <th>Chord</th>\n",
       "      <th>Type</th>\n",
       "      <th>Structure</th>\n",
       "      <th>Finger</th>\n",
       "      <th>Notes</th>\n",
       "    </tr>\n",
       "  </thead>\n",
       "  <tbody>\n",
       "    <tr>\n",
       "      <th>0</th>\n",
       "      <td>A#</td>\n",
       "      <td>13</td>\n",
       "      <td>1;3;5;b7;9;11;13</td>\n",
       "      <td>x,1,0,2,3,4</td>\n",
       "      <td>A#,C##,G#,B#,F##</td>\n",
       "    </tr>\n",
       "    <tr>\n",
       "      <th>1</th>\n",
       "      <td>A#</td>\n",
       "      <td>13</td>\n",
       "      <td>1;3;5;b7;9;11;13</td>\n",
       "      <td>4,x,3,2,1,1</td>\n",
       "      <td>A#,G#,B#,C##,F##</td>\n",
       "    </tr>\n",
       "    <tr>\n",
       "      <th>2</th>\n",
       "      <td>A#</td>\n",
       "      <td>13</td>\n",
       "      <td>1;3;5;b7;9;11;13</td>\n",
       "      <td>1,x,1,2,3,4</td>\n",
       "      <td>A#,G#,C##,F##,B#</td>\n",
       "    </tr>\n",
       "    <tr>\n",
       "      <th>3</th>\n",
       "      <td>A#</td>\n",
       "      <td>7(#9)</td>\n",
       "      <td>1;3;5;b7;#9</td>\n",
       "      <td>x,1,0,2,4,3</td>\n",
       "      <td>A#,C##,G#,B##,E#</td>\n",
       "    </tr>\n",
       "    <tr>\n",
       "      <th>4</th>\n",
       "      <td>A#</td>\n",
       "      <td>7(#9)</td>\n",
       "      <td>1;3;5;b7;#9</td>\n",
       "      <td>2,1,3,3,3,x</td>\n",
       "      <td>A#,C##,G#,B##,E#</td>\n",
       "    </tr>\n",
       "  </tbody>\n",
       "</table>\n",
       "</div>"
      ],
      "text/plain": [
       "  Chord   Type         Structure       Finger             Notes\n",
       "0    A#     13  1;3;5;b7;9;11;13  x,1,0,2,3,4  A#,C##,G#,B#,F##\n",
       "1    A#     13  1;3;5;b7;9;11;13  4,x,3,2,1,1  A#,G#,B#,C##,F##\n",
       "2    A#     13  1;3;5;b7;9;11;13  1,x,1,2,3,4  A#,G#,C##,F##,B#\n",
       "3    A#  7(#9)       1;3;5;b7;#9  x,1,0,2,4,3  A#,C##,G#,B##,E#\n",
       "4    A#  7(#9)       1;3;5;b7;#9  2,1,3,3,3,x  A#,C##,G#,B##,E#"
      ]
     },
     "execution_count": 18,
     "metadata": {},
     "output_type": "execute_result"
    }
   ],
   "source": [
    "chords = chords.rename(\n",
    "     \n",
    ")\n",
    "chords.head() "
   ]
  },
  {
   "cell_type": "markdown",
   "metadata": {
    "slideshow": {
     "slide_type": "subslide"
    }
   },
   "source": [
    "### Using `.replace()`\n",
    "\n",
    "[Documentation](https://pandas.pydata.org/docs/reference/api/pandas.DataFrame.replace.html) on the `.replace()` function: "
   ]
  },
  {
   "cell_type": "code",
   "execution_count": 20,
   "metadata": {
    "slideshow": {
     "slide_type": "fragment"
    }
   },
   "outputs": [
    {
     "data": {
      "text/html": [
       "<div>\n",
       "<style scoped>\n",
       "    .dataframe tbody tr th:only-of-type {\n",
       "        vertical-align: middle;\n",
       "    }\n",
       "\n",
       "    .dataframe tbody tr th {\n",
       "        vertical-align: top;\n",
       "    }\n",
       "\n",
       "    .dataframe thead th {\n",
       "        text-align: right;\n",
       "    }\n",
       "</style>\n",
       "<table border=\"1\" class=\"dataframe\">\n",
       "  <thead>\n",
       "    <tr style=\"text-align: right;\">\n",
       "      <th></th>\n",
       "      <th>Chord</th>\n",
       "      <th>Type</th>\n",
       "      <th>Structure</th>\n",
       "      <th>Finger</th>\n",
       "      <th>Notes</th>\n",
       "    </tr>\n",
       "  </thead>\n",
       "  <tbody>\n",
       "    <tr>\n",
       "      <th>0</th>\n",
       "      <td>A-sharp</td>\n",
       "      <td>13</td>\n",
       "      <td>1;3;5;b7;9;11;13</td>\n",
       "      <td>x,1,0,2,3,4</td>\n",
       "      <td>A#,C##,G#,B#,F##</td>\n",
       "    </tr>\n",
       "    <tr>\n",
       "      <th>1</th>\n",
       "      <td>A-sharp</td>\n",
       "      <td>13</td>\n",
       "      <td>1;3;5;b7;9;11;13</td>\n",
       "      <td>4,x,3,2,1,1</td>\n",
       "      <td>A#,G#,B#,C##,F##</td>\n",
       "    </tr>\n",
       "    <tr>\n",
       "      <th>2</th>\n",
       "      <td>A-sharp</td>\n",
       "      <td>13</td>\n",
       "      <td>1;3;5;b7;9;11;13</td>\n",
       "      <td>1,x,1,2,3,4</td>\n",
       "      <td>A#,G#,C##,F##,B#</td>\n",
       "    </tr>\n",
       "    <tr>\n",
       "      <th>3</th>\n",
       "      <td>A-sharp</td>\n",
       "      <td>7(#9)</td>\n",
       "      <td>1;3;5;b7;#9</td>\n",
       "      <td>x,1,0,2,4,3</td>\n",
       "      <td>A#,C##,G#,B##,E#</td>\n",
       "    </tr>\n",
       "    <tr>\n",
       "      <th>4</th>\n",
       "      <td>A-sharp</td>\n",
       "      <td>7(#9)</td>\n",
       "      <td>1;3;5;b7;#9</td>\n",
       "      <td>2,1,3,3,3,x</td>\n",
       "      <td>A#,C##,G#,B##,E#</td>\n",
       "    </tr>\n",
       "    <tr>\n",
       "      <th>...</th>\n",
       "      <td>...</td>\n",
       "      <td>...</td>\n",
       "      <td>...</td>\n",
       "      <td>...</td>\n",
       "      <td>...</td>\n",
       "    </tr>\n",
       "    <tr>\n",
       "      <th>2029</th>\n",
       "      <td>G</td>\n",
       "      <td>sus4</td>\n",
       "      <td>1;4;5</td>\n",
       "      <td>x,1,2,3,4,1</td>\n",
       "      <td>G,D,G,C,D</td>\n",
       "    </tr>\n",
       "    <tr>\n",
       "      <th>2030</th>\n",
       "      <td>G</td>\n",
       "      <td>sus4</td>\n",
       "      <td>1;4;5</td>\n",
       "      <td>x,x,3,4,1,1</td>\n",
       "      <td>G,C,D,G</td>\n",
       "    </tr>\n",
       "    <tr>\n",
       "      <th>2031</th>\n",
       "      <td>G</td>\n",
       "      <td>6/9</td>\n",
       "      <td>1;3;5;6;9</td>\n",
       "      <td>2,1,1,1,3,4</td>\n",
       "      <td>G,B,E,A,D,G</td>\n",
       "    </tr>\n",
       "    <tr>\n",
       "      <th>2032</th>\n",
       "      <td>G</td>\n",
       "      <td>6/9</td>\n",
       "      <td>1;3;5;6;9</td>\n",
       "      <td>x,x,2,1,3,4</td>\n",
       "      <td>G,B,E,A</td>\n",
       "    </tr>\n",
       "    <tr>\n",
       "      <th>2033</th>\n",
       "      <td>G</td>\n",
       "      <td>6/9</td>\n",
       "      <td>1;3;5;6;9</td>\n",
       "      <td>x,2,1,1,3,4</td>\n",
       "      <td>G,B,E,A,D</td>\n",
       "    </tr>\n",
       "  </tbody>\n",
       "</table>\n",
       "<p>2632 rows × 5 columns</p>\n",
       "</div>"
      ],
      "text/plain": [
       "        Chord   Type         Structure       Finger             Notes\n",
       "0     A-sharp     13  1;3;5;b7;9;11;13  x,1,0,2,3,4  A#,C##,G#,B#,F##\n",
       "1     A-sharp     13  1;3;5;b7;9;11;13  4,x,3,2,1,1  A#,G#,B#,C##,F##\n",
       "2     A-sharp     13  1;3;5;b7;9;11;13  1,x,1,2,3,4  A#,G#,C##,F##,B#\n",
       "3     A-sharp  7(#9)       1;3;5;b7;#9  x,1,0,2,4,3  A#,C##,G#,B##,E#\n",
       "4     A-sharp  7(#9)       1;3;5;b7;#9  2,1,3,3,3,x  A#,C##,G#,B##,E#\n",
       "...       ...    ...               ...          ...               ...\n",
       "2029        G   sus4             1;4;5  x,1,2,3,4,1         G,D,G,C,D\n",
       "2030        G   sus4             1;4;5  x,x,3,4,1,1           G,C,D,G\n",
       "2031        G    6/9         1;3;5;6;9  2,1,1,1,3,4       G,B,E,A,D,G\n",
       "2032        G    6/9         1;3;5;6;9  x,x,2,1,3,4           G,B,E,A\n",
       "2033        G    6/9         1;3;5;6;9  x,2,1,1,3,4         G,B,E,A,D\n",
       "\n",
       "[2632 rows x 5 columns]"
      ]
     },
     "execution_count": 20,
     "metadata": {},
     "output_type": "execute_result"
    }
   ],
   "source": [
    "chords_cleaned = chords.replace(\"A#\", \"A-sharp\")\n",
    "chords_cleaned"
   ]
  },
  {
   "cell_type": "markdown",
   "metadata": {
    "slideshow": {
     "slide_type": "subslide"
    }
   },
   "source": [
    "### Using `.drop()`\n",
    "\n",
    "[Documentation](https://pandas.pydata.org/docs/reference/api/pandas.DataFrame.drop.html) on the `.drop()` function: "
   ]
  },
  {
   "cell_type": "code",
   "execution_count": 22,
   "metadata": {
    "scrolled": true
   },
   "outputs": [
    {
     "data": {
      "text/html": [
       "<div>\n",
       "<style scoped>\n",
       "    .dataframe tbody tr th:only-of-type {\n",
       "        vertical-align: middle;\n",
       "    }\n",
       "\n",
       "    .dataframe tbody tr th {\n",
       "        vertical-align: top;\n",
       "    }\n",
       "\n",
       "    .dataframe thead th {\n",
       "        text-align: right;\n",
       "    }\n",
       "</style>\n",
       "<table border=\"1\" class=\"dataframe\">\n",
       "  <thead>\n",
       "    <tr style=\"text-align: right;\">\n",
       "      <th></th>\n",
       "      <th>Chord</th>\n",
       "      <th>Type</th>\n",
       "      <th>Structure</th>\n",
       "      <th>Finger</th>\n",
       "      <th>Notes</th>\n",
       "    </tr>\n",
       "  </thead>\n",
       "  <tbody>\n",
       "    <tr>\n",
       "      <th>0</th>\n",
       "      <td>A-sharp</td>\n",
       "      <td>13</td>\n",
       "      <td>1;3;5;b7;9;11;13</td>\n",
       "      <td>x,1,0,2,3,4</td>\n",
       "      <td>A#,C##,G#,B#,F##</td>\n",
       "    </tr>\n",
       "    <tr>\n",
       "      <th>1</th>\n",
       "      <td>A-sharp</td>\n",
       "      <td>13</td>\n",
       "      <td>1;3;5;b7;9;11;13</td>\n",
       "      <td>4,x,3,2,1,1</td>\n",
       "      <td>A#,G#,B#,C##,F##</td>\n",
       "    </tr>\n",
       "    <tr>\n",
       "      <th>2</th>\n",
       "      <td>A-sharp</td>\n",
       "      <td>13</td>\n",
       "      <td>1;3;5;b7;9;11;13</td>\n",
       "      <td>1,x,1,2,3,4</td>\n",
       "      <td>A#,G#,C##,F##,B#</td>\n",
       "    </tr>\n",
       "    <tr>\n",
       "      <th>3</th>\n",
       "      <td>A-sharp</td>\n",
       "      <td>7(#9)</td>\n",
       "      <td>1;3;5;b7;#9</td>\n",
       "      <td>x,1,0,2,4,3</td>\n",
       "      <td>A#,C##,G#,B##,E#</td>\n",
       "    </tr>\n",
       "    <tr>\n",
       "      <th>4</th>\n",
       "      <td>A-sharp</td>\n",
       "      <td>7(#9)</td>\n",
       "      <td>1;3;5;b7;#9</td>\n",
       "      <td>2,1,3,3,3,x</td>\n",
       "      <td>A#,C##,G#,B##,E#</td>\n",
       "    </tr>\n",
       "    <tr>\n",
       "      <th>...</th>\n",
       "      <td>...</td>\n",
       "      <td>...</td>\n",
       "      <td>...</td>\n",
       "      <td>...</td>\n",
       "      <td>...</td>\n",
       "    </tr>\n",
       "    <tr>\n",
       "      <th>2029</th>\n",
       "      <td>G</td>\n",
       "      <td>sus4</td>\n",
       "      <td>1;4;5</td>\n",
       "      <td>x,1,2,3,4,1</td>\n",
       "      <td>G,D,G,C,D</td>\n",
       "    </tr>\n",
       "    <tr>\n",
       "      <th>2030</th>\n",
       "      <td>G</td>\n",
       "      <td>sus4</td>\n",
       "      <td>1;4;5</td>\n",
       "      <td>x,x,3,4,1,1</td>\n",
       "      <td>G,C,D,G</td>\n",
       "    </tr>\n",
       "    <tr>\n",
       "      <th>2031</th>\n",
       "      <td>G</td>\n",
       "      <td>6/9</td>\n",
       "      <td>1;3;5;6;9</td>\n",
       "      <td>2,1,1,1,3,4</td>\n",
       "      <td>G,B,E,A,D,G</td>\n",
       "    </tr>\n",
       "    <tr>\n",
       "      <th>2032</th>\n",
       "      <td>G</td>\n",
       "      <td>6/9</td>\n",
       "      <td>1;3;5;6;9</td>\n",
       "      <td>x,x,2,1,3,4</td>\n",
       "      <td>G,B,E,A</td>\n",
       "    </tr>\n",
       "    <tr>\n",
       "      <th>2033</th>\n",
       "      <td>G</td>\n",
       "      <td>6/9</td>\n",
       "      <td>1;3;5;6;9</td>\n",
       "      <td>x,2,1,1,3,4</td>\n",
       "      <td>G,B,E,A,D</td>\n",
       "    </tr>\n",
       "  </tbody>\n",
       "</table>\n",
       "<p>2632 rows × 5 columns</p>\n",
       "</div>"
      ],
      "text/plain": [
       "        Chord   Type         Structure       Finger             Notes\n",
       "0     A-sharp     13  1;3;5;b7;9;11;13  x,1,0,2,3,4  A#,C##,G#,B#,F##\n",
       "1     A-sharp     13  1;3;5;b7;9;11;13  4,x,3,2,1,1  A#,G#,B#,C##,F##\n",
       "2     A-sharp     13  1;3;5;b7;9;11;13  1,x,1,2,3,4  A#,G#,C##,F##,B#\n",
       "3     A-sharp  7(#9)       1;3;5;b7;#9  x,1,0,2,4,3  A#,C##,G#,B##,E#\n",
       "4     A-sharp  7(#9)       1;3;5;b7;#9  2,1,3,3,3,x  A#,C##,G#,B##,E#\n",
       "...       ...    ...               ...          ...               ...\n",
       "2029        G   sus4             1;4;5  x,1,2,3,4,1         G,D,G,C,D\n",
       "2030        G   sus4             1;4;5  x,x,3,4,1,1           G,C,D,G\n",
       "2031        G    6/9         1;3;5;6;9  2,1,1,1,3,4       G,B,E,A,D,G\n",
       "2032        G    6/9         1;3;5;6;9  x,x,2,1,3,4           G,B,E,A\n",
       "2033        G    6/9         1;3;5;6;9  x,2,1,1,3,4         G,B,E,A,D\n",
       "\n",
       "[2632 rows x 5 columns]"
      ]
     },
     "execution_count": 22,
     "metadata": {},
     "output_type": "execute_result"
    }
   ],
   "source": [
    "chords_cleaned"
   ]
  },
  {
   "cell_type": "code",
   "execution_count": 45,
   "metadata": {
    "slideshow": {
     "slide_type": "fragment"
    }
   },
   "outputs": [],
   "source": [
    "chords_cleaned = chords_cleaned.drop([\"Notes\", \"New Column\"], axis=\"columns\")"
   ]
  },
  {
   "cell_type": "code",
   "execution_count": 46,
   "metadata": {
    "slideshow": {
     "slide_type": "fragment"
    }
   },
   "outputs": [
    {
     "data": {
      "text/plain": [
       "['Chord', 'Finger', 'Structure', 'Type']"
      ]
     },
     "execution_count": 46,
     "metadata": {},
     "output_type": "execute_result"
    }
   ],
   "source": [
    "sorted(list(chords_cleaned.columns))"
   ]
  },
  {
   "cell_type": "code",
   "execution_count": null,
   "metadata": {
    "slideshow": {
     "slide_type": "fragment"
    }
   },
   "outputs": [],
   "source": [
    "chords = chords[sorted(list(chords.columns))]"
   ]
  },
  {
   "cell_type": "code",
   "execution_count": null,
   "metadata": {
    "slideshow": {
     "slide_type": "fragment"
    }
   },
   "outputs": [],
   "source": [
    "chords"
   ]
  },
  {
   "cell_type": "markdown",
   "metadata": {
    "slideshow": {
     "slide_type": "subslide"
    }
   },
   "source": [
    "### Using `.merge()`\n",
    "\n",
    "[User Guide on Merging Dataframes](https://pandas.pydata.org/docs/user_guide/merging.html) on the `.merge()` function\n",
    "\n",
    "<img src =\"images/merge.png\" width = \"50%\">"
   ]
  },
  {
   "cell_type": "markdown",
   "metadata": {
    "slideshow": {
     "slide_type": "subslide"
    }
   },
   "source": [
    "## Visualizing Data using `seaborn` and `pandas`\n",
    "\n",
    "This is a preview of content coming later!"
   ]
  },
  {
   "cell_type": "code",
   "execution_count": 49,
   "metadata": {
    "slideshow": {
     "slide_type": "fragment"
    }
   },
   "outputs": [],
   "source": [
    "# You may need to install seaborn:\n",
    "# Remember the command to install a package `conda install -c conda-forge seaborn`\n",
    "\n",
    "import seaborn as sns"
   ]
  },
  {
   "cell_type": "code",
   "execution_count": 51,
   "metadata": {
    "slideshow": {
     "slide_type": "fragment"
    }
   },
   "outputs": [
    {
     "data": {
      "image/png": "[encoded data removed]",
      "text/plain": [
       "<Figure size 432x288 with 1 Axes>"
      ]
     },
     "metadata": {
      "needs_background": "light"
     },
     "output_type": "display_data"
    }
   ],
   "source": [
    "sns.countplot(y=\"Chord\", data=chords)\n",
    "sns.despine()"
   ]
  },
  {
   "cell_type": "markdown",
   "metadata": {
    "slideshow": {
     "slide_type": "subslide"
    }
   },
   "source": [
    "## Additional Notes on Handling Missing Data\n",
    "\n",
    "See [additional section](Wrangling_notes) titled \"Wrangling Notes\"."
   ]
  },
  {
   "cell_type": "markdown",
   "metadata": {
    "slideshow": {
     "slide_type": "subslide"
    }
   },
   "source": [
    "## Attribution"
   ]
  },
  {
   "cell_type": "markdown",
   "metadata": {
    "slideshow": {
     "slide_type": "fragment"
    }
   },
   "source": [
    "<!--BOOK_INFORMATION-->\n",
    "<img align=\"left\" style=\"padding-right:10px;\" src=\"images/PDSH-cover-small.png\">\n",
    "\n",
    "*This notebook contains an excerpt from the [Python Data Science Handbook](http://shop.oreilly.com/product/0636920034919.do) by Jake VanderPlas; the content is available [on GitHub](https://github.com/jakevdp/PythonDataScienceHandbook).*\n",
    "\n",
    "*The text is released under the [CC-BY-NC-ND license](https://creativecommons.org/licenses/by-nc-nd/3.0/us/legalcode), and code is released under the [MIT license](https://opensource.org/licenses/MIT). If you find this content useful, please consider supporting the work by [buying the book](http://shop.oreilly.com/product/0636920034919.do)!*"
   ]
  }
 ],
 "metadata": {
  "celltoolbar": "Slideshow",
  "kernelspec": {
   "display_name": "Python 3 (ipykernel)",
   "language": "python",
   "name": "python3"
  },
  "language_info": {
   "codemirror_mode": {
    "name": "ipython",
    "version": 3
   },
   "file_extension": ".py",
   "mimetype": "text/x-python",
   "name": "python",
   "nbconvert_exporter": "python",
   "pygments_lexer": "ipython3",
   "version": "3.10.2"
  }
 },
 "nbformat": 4,
 "nbformat_minor": 4
}
